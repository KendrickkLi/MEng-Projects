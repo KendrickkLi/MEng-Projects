{
  "nbformat": 4,
  "nbformat_minor": 0,
  "metadata": {
    "colab": {
      "provenance": [],
      "collapsed_sections": [
        "v6nP0Ks_a90o",
        "j7eUmBEva90r",
        "TC8WVE8Ua90u",
        "Ff5CNk7Qa90y"
      ]
    },
    "kernelspec": {
      "name": "python3",
      "display_name": "Python 3"
    },
    "language_info": {
      "name": "python"
    },
    "accelerator": "GPU"
  },
  "cells": [
    {
      "cell_type": "markdown",
      "metadata": {
        "id": "_bphECiUa9zw"
      },
      "source": [
        "# Lab 4: Sequential Data\n",
        "\n",
        "This lab is based on an assignment developed by Prof. Lisa Zhang.\n",
        "\n",
        "In this assignment, we will build a recurrent neural network to classify a SMS text message\n",
        "as \"spam\" or \"not spam\". In the process, you will\n",
        "    \n",
        "1. Clean and process text data for machine learning.\n",
        "2. Understand and implement a character-level recurrent neural network.\n",
        "3. Use torchtext to build recurrent neural network models.\n",
        "4. Understand batching for a recurrent neural network, and use torchtext to implement RNN batching.\n",
        "5. Understand how transfer learning can be applied to NLP projects.\n",
        "\n",
        "### What to submit\n",
        "\n",
        "Submit an HTML file containing all your code, outputs, and write-up\n",
        "from parts A and B. You can produce a HTML file directly from Google Colab. The Colab instructions are provided at the end of this document.\n",
        "\n",
        "**Do not submit any other files produced by your code.**\n",
        "\n",
        "Include a link to your colab file in your submission.\n",
        "\n",
        "Please use Google Colab to complete this assignment. If you want to use Jupyter Notebook, please complete the assignment and upload your Jupyter Notebook file to Google Colab for submission. "
      ]
    },
    {
      "cell_type": "markdown",
      "metadata": {
        "id": "rWiUqJJTa9z6"
      },
      "source": [
        "## Colab Link\n",
        "\n",
        "Include a link to your colab file here\n",
        "\n",
        "Colab Link: https://colab.research.google.com/drive/1jZQa1ljOZGhRrlMVpP3sHDiftC6IPmrw#scrollTo=vcp9Tu1Iwd4l"
      ]
    },
    {
      "cell_type": "markdown",
      "metadata": {
        "id": "fFMdtipUPNdu"
      },
      "source": [
        "# PART A - Spam Detection [30 pt]\n",
        "\n",
        "In this part we will construct a LSTM model for identifying spam from non spam messages."
      ]
    },
    {
      "cell_type": "code",
      "source": [
        "!pip install torch==1.8.0+cu111 torchvision==0.9.0+cu111 torchaudio==0.8.0 -f https://download.pytorch.org/whl/torch_stable.html"
      ],
      "metadata": {
        "colab": {
          "base_uri": "https://localhost:8080/"
        },
        "id": "B5OpjoZkhyWB",
        "outputId": "e67bdb5b-fe97-4570-d581-9b6f623499d2"
      },
      "execution_count": 1,
      "outputs": [
        {
          "output_type": "stream",
          "name": "stdout",
          "text": [
            "Looking in indexes: https://pypi.org/simple, https://us-python.pkg.dev/colab-wheels/public/simple/\n",
            "Looking in links: https://download.pytorch.org/whl/torch_stable.html\n",
            "Collecting torch==1.8.0+cu111\n",
            "  Downloading https://download.pytorch.org/whl/cu111/torch-1.8.0%2Bcu111-cp37-cp37m-linux_x86_64.whl (1982.2 MB)\n",
            "\u001b[K     |█████████████▌                  | 834.1 MB 1.3 MB/s eta 0:14:35tcmalloc: large alloc 1147494400 bytes == 0x39b7e000 @  0x7fcd46e1d615 0x58ead6 0x4f355e 0x4d222f 0x51041f 0x5b4ee6 0x58ff2e 0x510325 0x5b4ee6 0x58ff2e 0x50d482 0x4d00fb 0x50cb8d 0x4d00fb 0x50cb8d 0x4d00fb 0x50cb8d 0x4bac0a 0x538a76 0x590ae5 0x510280 0x5b4ee6 0x58ff2e 0x50d482 0x5b4ee6 0x58ff2e 0x50c4fc 0x58fd37 0x50ca37 0x5b4ee6 0x58ff2e\n",
            "\u001b[K     |█████████████████               | 1055.7 MB 1.3 MB/s eta 0:11:31tcmalloc: large alloc 1434370048 bytes == 0x7e1d4000 @  0x7fcd46e1d615 0x58ead6 0x4f355e 0x4d222f 0x51041f 0x5b4ee6 0x58ff2e 0x510325 0x5b4ee6 0x58ff2e 0x50d482 0x4d00fb 0x50cb8d 0x4d00fb 0x50cb8d 0x4d00fb 0x50cb8d 0x4bac0a 0x538a76 0x590ae5 0x510280 0x5b4ee6 0x58ff2e 0x50d482 0x5b4ee6 0x58ff2e 0x50c4fc 0x58fd37 0x50ca37 0x5b4ee6 0x58ff2e\n",
            "\u001b[K     |█████████████████████▋          | 1336.2 MB 1.3 MB/s eta 0:08:05tcmalloc: large alloc 1792966656 bytes == 0x3006000 @  0x7fcd46e1d615 0x58ead6 0x4f355e 0x4d222f 0x51041f 0x5b4ee6 0x58ff2e 0x510325 0x5b4ee6 0x58ff2e 0x50d482 0x4d00fb 0x50cb8d 0x4d00fb 0x50cb8d 0x4d00fb 0x50cb8d 0x4bac0a 0x538a76 0x590ae5 0x510280 0x5b4ee6 0x58ff2e 0x50d482 0x5b4ee6 0x58ff2e 0x50c4fc 0x58fd37 0x50ca37 0x5b4ee6 0x58ff2e\n",
            "\u001b[K     |███████████████████████████▎    | 1691.1 MB 1.4 MB/s eta 0:03:30tcmalloc: large alloc 2241208320 bytes == 0x6ddee000 @  0x7fcd46e1d615 0x58ead6 0x4f355e 0x4d222f 0x51041f 0x5b4ee6 0x58ff2e 0x510325 0x5b4ee6 0x58ff2e 0x50d482 0x4d00fb 0x50cb8d 0x4d00fb 0x50cb8d 0x4d00fb 0x50cb8d 0x4bac0a 0x538a76 0x590ae5 0x510280 0x5b4ee6 0x58ff2e 0x50d482 0x5b4ee6 0x58ff2e 0x50c4fc 0x58fd37 0x50ca37 0x5b4ee6 0x58ff2e\n",
            "\u001b[K     |████████████████████████████████| 1982.2 MB 1.2 MB/s eta 0:00:01tcmalloc: large alloc 1982251008 bytes == 0xf3750000 @  0x7fcd46e1c1e7 0x4b2590 0x4b261c 0x58ead6 0x4f355e 0x4d222f 0x51041f 0x5b4ee6 0x58ff2e 0x50ca37 0x5b4ee6 0x58ff2e 0x50ca37 0x5b4ee6 0x58ff2e 0x50ca37 0x5b4ee6 0x58ff2e 0x50ca37 0x5b4ee6 0x58ff2e 0x50ca37 0x58fd37 0x50ca37 0x5b4ee6 0x58ff2e 0x50d482 0x5b4ee6 0x58ff2e 0x50d482 0x5b4ee6\n",
            "tcmalloc: large alloc 2477817856 bytes == 0x1dde72000 @  0x7fcd46e1d615 0x58ead6 0x4f355e 0x4d222f 0x51041f 0x5b4ee6 0x58ff2e 0x50ca37 0x5b4ee6 0x58ff2e 0x50ca37 0x5b4ee6 0x58ff2e 0x50ca37 0x5b4ee6 0x58ff2e 0x50ca37 0x5b4ee6 0x58ff2e 0x50ca37 0x58fd37 0x50ca37 0x5b4ee6 0x58ff2e 0x50d482 0x5b4ee6 0x58ff2e 0x50d482 0x5b4ee6 0x4bad99 0x4d3249\n",
            "\u001b[K     |████████████████████████████████| 1982.2 MB 5.3 kB/s \n",
            "\u001b[?25hCollecting torchvision==0.9.0+cu111\n",
            "  Downloading https://download.pytorch.org/whl/cu111/torchvision-0.9.0%2Bcu111-cp37-cp37m-linux_x86_64.whl (17.6 MB)\n",
            "\u001b[K     |████████████████████████████████| 17.6 MB 45 kB/s \n",
            "\u001b[?25hCollecting torchaudio==0.8.0\n",
            "  Downloading torchaudio-0.8.0-cp37-cp37m-manylinux1_x86_64.whl (1.9 MB)\n",
            "\u001b[K     |████████████████████████████████| 1.9 MB 10.5 MB/s \n",
            "\u001b[?25hRequirement already satisfied: typing-extensions in /usr/local/lib/python3.7/dist-packages (from torch==1.8.0+cu111) (4.1.1)\n",
            "Requirement already satisfied: numpy in /usr/local/lib/python3.7/dist-packages (from torch==1.8.0+cu111) (1.21.6)\n",
            "Requirement already satisfied: pillow>=4.1.1 in /usr/local/lib/python3.7/dist-packages (from torchvision==0.9.0+cu111) (7.1.2)\n",
            "Installing collected packages: torch, torchvision, torchaudio\n",
            "  Attempting uninstall: torch\n",
            "    Found existing installation: torch 1.12.1+cu113\n",
            "    Uninstalling torch-1.12.1+cu113:\n",
            "      Successfully uninstalled torch-1.12.1+cu113\n",
            "  Attempting uninstall: torchvision\n",
            "    Found existing installation: torchvision 0.13.1+cu113\n",
            "    Uninstalling torchvision-0.13.1+cu113:\n",
            "      Successfully uninstalled torchvision-0.13.1+cu113\n",
            "  Attempting uninstall: torchaudio\n",
            "    Found existing installation: torchaudio 0.12.1+cu113\n",
            "    Uninstalling torchaudio-0.12.1+cu113:\n",
            "      Successfully uninstalled torchaudio-0.12.1+cu113\n",
            "\u001b[31mERROR: pip's dependency resolver does not currently take into account all the packages that are installed. This behaviour is the source of the following dependency conflicts.\n",
            "torchtext 0.13.1 requires torch==1.12.1, but you have torch 1.8.0+cu111 which is incompatible.\u001b[0m\n",
            "Successfully installed torch-1.8.0+cu111 torchaudio-0.8.0 torchvision-0.9.0+cu111\n"
          ]
        }
      ]
    },
    {
      "cell_type": "code",
      "source": [
        "!pip install torchtext==0.9"
      ],
      "metadata": {
        "colab": {
          "base_uri": "https://localhost:8080/"
        },
        "id": "vNXuyNF_hzt7",
        "outputId": "fb41ace6-200c-4802-df81-3acf1603a70c"
      },
      "execution_count": 2,
      "outputs": [
        {
          "output_type": "stream",
          "name": "stdout",
          "text": [
            "Looking in indexes: https://pypi.org/simple, https://us-python.pkg.dev/colab-wheels/public/simple/\n",
            "Collecting torchtext==0.9\n",
            "  Downloading torchtext-0.9.0-cp37-cp37m-manylinux1_x86_64.whl (7.1 MB)\n",
            "\u001b[K     |████████████████████████████████| 7.1 MB 14.9 MB/s \n",
            "\u001b[?25hRequirement already satisfied: requests in /usr/local/lib/python3.7/dist-packages (from torchtext==0.9) (2.23.0)\n",
            "Requirement already satisfied: torch==1.8.0 in /usr/local/lib/python3.7/dist-packages (from torchtext==0.9) (1.8.0+cu111)\n",
            "Requirement already satisfied: tqdm in /usr/local/lib/python3.7/dist-packages (from torchtext==0.9) (4.64.1)\n",
            "Requirement already satisfied: numpy in /usr/local/lib/python3.7/dist-packages (from torchtext==0.9) (1.21.6)\n",
            "Requirement already satisfied: typing-extensions in /usr/local/lib/python3.7/dist-packages (from torch==1.8.0->torchtext==0.9) (4.1.1)\n",
            "Requirement already satisfied: idna<3,>=2.5 in /usr/local/lib/python3.7/dist-packages (from requests->torchtext==0.9) (2.10)\n",
            "Requirement already satisfied: urllib3!=1.25.0,!=1.25.1,<1.26,>=1.21.1 in /usr/local/lib/python3.7/dist-packages (from requests->torchtext==0.9) (1.24.3)\n",
            "Requirement already satisfied: chardet<4,>=3.0.2 in /usr/local/lib/python3.7/dist-packages (from requests->torchtext==0.9) (3.0.4)\n",
            "Requirement already satisfied: certifi>=2017.4.17 in /usr/local/lib/python3.7/dist-packages (from requests->torchtext==0.9) (2022.9.24)\n",
            "Installing collected packages: torchtext\n",
            "  Attempting uninstall: torchtext\n",
            "    Found existing installation: torchtext 0.13.1\n",
            "    Uninstalling torchtext-0.13.1:\n",
            "      Successfully uninstalled torchtext-0.13.1\n",
            "Successfully installed torchtext-0.9.0\n"
          ]
        }
      ]
    },
    {
      "cell_type": "code",
      "metadata": {
        "id": "HgfNOUaPa9z8"
      },
      "source": [
        "import torch\n",
        "import torch.nn as nn\n",
        "import torch.nn.functional as F\n",
        "import torch.optim as optim\n",
        "import numpy as np\n",
        "import torchtext"
      ],
      "execution_count": 3,
      "outputs": []
    },
    {
      "cell_type": "markdown",
      "metadata": {
        "id": "M0jLI9LBa90C"
      },
      "source": [
        "## Part 1. Data Cleaning [10 pt]\n",
        "\n",
        "We will be using the \"SMS Spam Collection Data Set\" available at http://archive.ics.uci.edu/ml/datasets/SMS+Spam+Collection\n",
        "\n",
        "There is a link to download the \"Data Folder\" at the very top of the webpage. Download the zip file, unzip it, and upload the file `SMSSpamCollection` to Colab.    "
      ]
    },
    {
      "cell_type": "markdown",
      "metadata": {
        "id": "sSuF7C_Ga90E"
      },
      "source": [
        "### Part (a) [1 pt]\n",
        "\n",
        "Open up the file in Python, and print out one example of a spam SMS, and one example of a non-spam SMS.\n",
        "\n",
        "What is the label value for a spam message, and what is the label value for a non-spam message?"
      ]
    },
    {
      "cell_type": "code",
      "source": [
        "from google.colab import drive\n",
        "drive.mount('/content/drive')"
      ],
      "metadata": {
        "colab": {
          "base_uri": "https://localhost:8080/"
        },
        "id": "L8rQ3kytc6BT",
        "outputId": "3dd59241-89d2-436d-fd7d-d5ec01514309"
      },
      "execution_count": 4,
      "outputs": [
        {
          "output_type": "stream",
          "name": "stdout",
          "text": [
            "Mounted at /content/drive\n"
          ]
        }
      ]
    },
    {
      "cell_type": "code",
      "source": [
        "file_dir = '/content/drive/My Drive/Colab Notebooks/MIE1517/Labs/Lab 4 - Recurrent Neural Networks/SMSSpamCollection'\n",
        "ham = True\n",
        "spam = True\n",
        "for line in open(file_dir):\n",
        "    if line.startswith('ham') and ham:\n",
        "      ham = False\n",
        "      print('Example of ham')\n",
        "      print(line)\n",
        "    if line.startswith('spam') and spam:\n",
        "      spam = False\n",
        "      print('Example of spam')\n",
        "      print(line)\n",
        "    if not ham and not spam:\n",
        "      break"
      ],
      "metadata": {
        "colab": {
          "base_uri": "https://localhost:8080/"
        },
        "id": "vor_bnC5hmAB",
        "outputId": "abd455a5-555c-4bbc-b56d-bcb2c472a80c"
      },
      "execution_count": 5,
      "outputs": [
        {
          "output_type": "stream",
          "name": "stdout",
          "text": [
            "Example of ham\n",
            "ham\tGo until jurong point, crazy.. Available only in bugis n great world la e buffet... Cine there got amore wat...\n",
            "\n",
            "Example of spam\n",
            "spam\tFree entry in 2 a wkly comp to win FA Cup final tkts 21st May 2005. Text FA to 87121 to receive entry question(std txt rate)T&C's apply 08452810075over18's\n",
            "\n"
          ]
        }
      ]
    },
    {
      "cell_type": "markdown",
      "metadata": {
        "id": "AukA6vMVa90d"
      },
      "source": [
        "### Part (b) [1 pt]\n",
        "\n",
        "How many spam messages are there in the data set?\n",
        "How many non-spam messages are there in the data set?\n"
      ]
    },
    {
      "cell_type": "code",
      "metadata": {
        "id": "LgsqyemVa90e",
        "colab": {
          "base_uri": "https://localhost:8080/"
        },
        "outputId": "0699bda0-d1a4-4f05-ad58-56f435b70290"
      },
      "source": [
        "ham_num = 0\n",
        "spam_num = 0\n",
        "for line in open(file_dir):\n",
        "    if line.startswith('ham'):\n",
        "      ham_num += 1\n",
        "    if line.startswith('spam'):\n",
        "      spam_num += 1\n",
        "\n",
        "print('{} spam meesages are in the dataset'.format(spam_num))\n",
        "print('{} ham meesages are in the dataset'.format(ham_num))"
      ],
      "execution_count": 6,
      "outputs": [
        {
          "output_type": "stream",
          "name": "stdout",
          "text": [
            "747 spam meesages are in the dataset\n",
            "4827 ham meesages are in the dataset\n"
          ]
        }
      ]
    },
    {
      "cell_type": "markdown",
      "metadata": {
        "id": "d1WXxVt6a90h"
      },
      "source": [
        "### Part (c) [2 pt]\n",
        "\n",
        "We will be using the package `torchtext` to load, process, and batch the data.\n",
        "A tutorial to torchtext is available below. This tutorial uses the same\n",
        "Sentiment140 data set that we explored during lecture.\n",
        "\n",
        "https://medium.com/@sonicboom8/sentiment-analysis-torchtext-55fb57b1fab8\n",
        "\n",
        "Unlike what we did during lecture, we will be building a **character level RNN**.\n",
        "That is, we will treat each **character** as a token in our sequence,\n",
        "rather than each **word**.\n",
        "\n",
        "Identify two advantage and two disadvantage of modelling SMS text\n",
        "messages as a sequence of characters rather than a sequence of words."
      ]
    },
    {
      "cell_type": "markdown",
      "source": [
        "Advantage:\n",
        "\n",
        "1. Every single word's vector can be formed even it is out-of-vocabulary words. On the other hand, word embedding can only handle those seen words.\n",
        "\n",
        "2. It is good at fitting for misspelling words, emoticons, new words. It handles infrequent words better than word2vec embedding as later one suffers from lack of enough training opportunity for those rare words.\n",
        "\n",
        "Disadvantage:\n",
        "1. Word-based RNN display higher accuracy and lower computational cost than char-based RNN. This is because char-based RNN require much bigger hidden layer to successfully model long-term dependencies which means higher computational costs. \n",
        "\n",
        "2. In training, char-based RNN takes a longer path to propagate the error from the last time step back to the beginning, because the number of elements equals the number of characters in the sentence for char-based RNN rather than the number of words in the sentence."
      ],
      "metadata": {
        "id": "Mhnz8Nk-a90i"
      }
    },
    {
      "cell_type": "markdown",
      "metadata": {
        "id": "ie_D0bv9a90k"
      },
      "source": [
        "### Part (d) [1 pt]\n",
        "\n",
        "We will be loading our data set using `torchtext.data.TabularDataset`. The\n",
        "constructor will read directly from the `SMSSpamCollection` file. \n",
        "\n",
        "For the data file to be read successfuly, we\n",
        "need to specify the **fields** (columns) in the file. \n",
        "In our case, the dataset has two fields: \n",
        "\n",
        "- a text field containing the sms messages,\n",
        "- a label field which will be converted into a binary label.\n",
        "\n",
        "Split the dataset into `train`, `valid`, and `test`. Use a 60-20-20 split.\n",
        "You may find this torchtext API page helpful:\n",
        "https://torchtext.readthedocs.io/en/latest/data.html#dataset\n",
        "\n",
        "Hint: There is a `Dataset` method that can perform the random split for you."
      ]
    },
    {
      "cell_type": "code",
      "source": [
        "!pip install torch==1.8.0+cu111 torchvision==0.9.0+cu111 torchaudio==0.8.0 -f https://download.pytorch.org/whl/torch_stable.html"
      ],
      "metadata": {
        "colab": {
          "base_uri": "https://localhost:8080/"
        },
        "id": "cgkx0k6sJ1Ww",
        "outputId": "a3c8ccb9-3f9b-44bc-a8e2-123b6af35916"
      },
      "execution_count": 7,
      "outputs": [
        {
          "output_type": "stream",
          "name": "stdout",
          "text": [
            "Looking in indexes: https://pypi.org/simple, https://us-python.pkg.dev/colab-wheels/public/simple/\n",
            "Looking in links: https://download.pytorch.org/whl/torch_stable.html\n",
            "Requirement already satisfied: torch==1.8.0+cu111 in /usr/local/lib/python3.7/dist-packages (1.8.0+cu111)\n",
            "Requirement already satisfied: torchvision==0.9.0+cu111 in /usr/local/lib/python3.7/dist-packages (0.9.0+cu111)\n",
            "Requirement already satisfied: torchaudio==0.8.0 in /usr/local/lib/python3.7/dist-packages (0.8.0)\n",
            "Requirement already satisfied: numpy in /usr/local/lib/python3.7/dist-packages (from torch==1.8.0+cu111) (1.21.6)\n",
            "Requirement already satisfied: typing-extensions in /usr/local/lib/python3.7/dist-packages (from torch==1.8.0+cu111) (4.1.1)\n",
            "Requirement already satisfied: pillow>=4.1.1 in /usr/local/lib/python3.7/dist-packages (from torchvision==0.9.0+cu111) (7.1.2)\n"
          ]
        }
      ]
    },
    {
      "cell_type": "code",
      "metadata": {
        "id": "P_Y6Puz9a90l"
      },
      "source": [
        "import torchtext\n",
        "\n",
        "text_field = torchtext.legacy.data.Field(sequential=True,      # text sequence\n",
        "                                  tokenize=lambda x: x, # because are building a character-RNN\n",
        "                                  include_lengths=True, # to track the length of sequences, for batching\n",
        "                                  batch_first=True,\n",
        "                                  use_vocab=True)       # to turn each character into an integer index\n",
        "label_field = torchtext.legacy.data.Field(sequential=False,    # not a sequence\n",
        "                                   use_vocab=False,     # don't need to track vocabulary\n",
        "                                   is_target=True,      \n",
        "                                   batch_first=True,\n",
        "                                   preprocessing=lambda x: int(x == 'spam')) # convert text to 0 and 1\n",
        "\n",
        "fields = [('label', label_field), ('sms', text_field)]\n",
        "dataset = torchtext.legacy.data.TabularDataset(file_dir, # name of the file\n",
        "                                        \"tsv\",               # fields are separated by a tab\n",
        "                                        fields)\n",
        "\n",
        "# dataset[0].sms\n",
        "# dataset[0].label\n",
        "# train, valid, test = ..."
      ],
      "execution_count": 8,
      "outputs": []
    },
    {
      "cell_type": "code",
      "source": [
        "train, valid, test = dataset.split(split_ratio=[0.6, 0.2, 0.2])"
      ],
      "metadata": {
        "id": "yGt9zGI9H4ta"
      },
      "execution_count": 9,
      "outputs": []
    },
    {
      "cell_type": "markdown",
      "metadata": {
        "id": "v6nP0Ks_a90o"
      },
      "source": [
        "### Part (e) [2 pt]\n",
        "\n",
        "You saw in part (b) that there are many more non-spam messages than spam messages.\n",
        "This **imbalance** in our training data will be problematic for training.\n",
        "We can fix this disparity by duplicating spam messages in the training set,\n",
        "so that the training set is roughly **balanced**.\n",
        "\n",
        "Explain why having a balanced training set is helpful for training our neural network.\n",
        "\n",
        "Note: if you are not sure, try removing the below code and train your mode."
      ]
    },
    {
      "cell_type": "code",
      "metadata": {
        "id": "FWvx9_rka90p"
      },
      "source": [
        "# save the original training examples\n",
        "old_train_examples = train.examples\n",
        "# get all the spam messages in `train`\n",
        "train_spam = []\n",
        "for item in train.examples:\n",
        "    if item.label == 1:\n",
        "        train_spam.append(item)\n",
        "# duplicate each spam message 6 more times\n",
        "train.examples = old_train_examples + train_spam * 6"
      ],
      "execution_count": 10,
      "outputs": []
    },
    {
      "cell_type": "markdown",
      "source": [
        "With class imbalanced data, classifiers tend to make biased learning model that has a poorer predictive accuracy over the minority classes compared to the majority classes. Hence, balanced training set can helpe increase the predictive accuracy over the miniority classes."
      ],
      "metadata": {
        "id": "cBnrTFJoLEkD"
      }
    },
    {
      "cell_type": "markdown",
      "metadata": {
        "id": "j7eUmBEva90r"
      },
      "source": [
        "### Part (f) [1 pt]\n",
        "\n",
        "We need to build the vocabulary on the training data by running the below code.\n",
        "This finds all the possible character tokens in the training set.\n",
        "\n",
        "Explain what the variables `text_field.vocab.stoi` and `text_field.vocab.itos` represent."
      ]
    },
    {
      "cell_type": "markdown",
      "source": [
        "text_field.vocab.stoi is a dictionary that assigns number to each character.\n",
        "\n",
        "text_field.vocab.itos is a list of characters which are also keys in text_field.vocab.stoi"
      ],
      "metadata": {
        "id": "RtrRSdJGMUZ7"
      }
    },
    {
      "cell_type": "code",
      "metadata": {
        "id": "8CQM8flKa90s",
        "colab": {
          "base_uri": "https://localhost:8080/"
        },
        "outputId": "aa6dd97a-9aab-4d58-ded6-bc9e5e8b3f02"
      },
      "source": [
        "text_field.build_vocab(train)\n",
        "text_field.vocab.stoi"
      ],
      "execution_count": 11,
      "outputs": [
        {
          "output_type": "execute_result",
          "data": {
            "text/plain": [
              "defaultdict(<bound method Vocab._default_unk_index of <torchtext.vocab.Vocab object at 0x7fbe72715dd0>>,\n",
              "            {'<unk>': 0,\n",
              "             '<pad>': 1,\n",
              "             ' ': 2,\n",
              "             'e': 3,\n",
              "             'o': 4,\n",
              "             't': 5,\n",
              "             'a': 6,\n",
              "             'n': 7,\n",
              "             'r': 8,\n",
              "             'i': 9,\n",
              "             's': 10,\n",
              "             'l': 11,\n",
              "             'u': 12,\n",
              "             'h': 13,\n",
              "             '0': 14,\n",
              "             '.': 15,\n",
              "             'd': 16,\n",
              "             'c': 17,\n",
              "             'm': 18,\n",
              "             'y': 19,\n",
              "             'w': 20,\n",
              "             'p': 21,\n",
              "             'g': 22,\n",
              "             '1': 23,\n",
              "             'f': 24,\n",
              "             'b': 25,\n",
              "             '2': 26,\n",
              "             'T': 27,\n",
              "             '8': 28,\n",
              "             'k': 29,\n",
              "             'E': 30,\n",
              "             'S': 31,\n",
              "             '5': 32,\n",
              "             'v': 33,\n",
              "             'C': 34,\n",
              "             'O': 35,\n",
              "             'I': 36,\n",
              "             '4': 37,\n",
              "             '7': 38,\n",
              "             'N': 39,\n",
              "             '3': 40,\n",
              "             'x': 41,\n",
              "             'A': 42,\n",
              "             '6': 43,\n",
              "             'R': 44,\n",
              "             ',': 45,\n",
              "             '!': 46,\n",
              "             'P': 47,\n",
              "             'W': 48,\n",
              "             '9': 49,\n",
              "             'U': 50,\n",
              "             'M': 51,\n",
              "             'L': 52,\n",
              "             'H': 53,\n",
              "             'D': 54,\n",
              "             'F': 55,\n",
              "             'G': 56,\n",
              "             'B': 57,\n",
              "             'Y': 58,\n",
              "             '/': 59,\n",
              "             \"'\": 60,\n",
              "             '?': 61,\n",
              "             '£': 62,\n",
              "             '-': 63,\n",
              "             '&': 64,\n",
              "             'X': 65,\n",
              "             ':': 66,\n",
              "             'z': 67,\n",
              "             '*': 68,\n",
              "             'V': 69,\n",
              "             'K': 70,\n",
              "             'j': 71,\n",
              "             ')': 72,\n",
              "             ';': 73,\n",
              "             'J': 74,\n",
              "             '+': 75,\n",
              "             '(': 76,\n",
              "             'Q': 77,\n",
              "             'q': 78,\n",
              "             '#': 79,\n",
              "             '\"': 80,\n",
              "             '>': 81,\n",
              "             '@': 82,\n",
              "             '=': 83,\n",
              "             'Z': 84,\n",
              "             'ü': 85,\n",
              "             '<': 86,\n",
              "             '$': 87,\n",
              "             '%': 88,\n",
              "             'Ü': 89,\n",
              "             '‘': 90,\n",
              "             '\\x92': 91,\n",
              "             '|': 92,\n",
              "             '[': 93,\n",
              "             ']': 94,\n",
              "             '\\x93': 95,\n",
              "             '¡': 96,\n",
              "             '“': 97,\n",
              "             '…': 98,\n",
              "             '_': 99,\n",
              "             '’': 100,\n",
              "             'ú': 101,\n",
              "             '–': 102,\n",
              "             '\\\\': 103,\n",
              "             'é': 104,\n",
              "             '\\t': 105,\n",
              "             '\\n': 106,\n",
              "             '\\x96': 107,\n",
              "             '^': 108,\n",
              "             '~': 109,\n",
              "             '\\x91': 110,\n",
              "             '»': 111,\n",
              "             'É': 112,\n",
              "             'è': 113,\n",
              "             'ì': 114,\n",
              "             '┾': 115,\n",
              "             '〨': 116,\n",
              "             '鈥': 117})"
            ]
          },
          "metadata": {},
          "execution_count": 11
        }
      ]
    },
    {
      "cell_type": "code",
      "source": [
        "text_field.vocab.itos"
      ],
      "metadata": {
        "id": "L6DN3ULRNDPU",
        "colab": {
          "base_uri": "https://localhost:8080/"
        },
        "outputId": "a485dabc-d8e6-42b3-b2d1-904b42c83d34"
      },
      "execution_count": 12,
      "outputs": [
        {
          "output_type": "execute_result",
          "data": {
            "text/plain": [
              "['<unk>',\n",
              " '<pad>',\n",
              " ' ',\n",
              " 'e',\n",
              " 'o',\n",
              " 't',\n",
              " 'a',\n",
              " 'n',\n",
              " 'r',\n",
              " 'i',\n",
              " 's',\n",
              " 'l',\n",
              " 'u',\n",
              " 'h',\n",
              " '0',\n",
              " '.',\n",
              " 'd',\n",
              " 'c',\n",
              " 'm',\n",
              " 'y',\n",
              " 'w',\n",
              " 'p',\n",
              " 'g',\n",
              " '1',\n",
              " 'f',\n",
              " 'b',\n",
              " '2',\n",
              " 'T',\n",
              " '8',\n",
              " 'k',\n",
              " 'E',\n",
              " 'S',\n",
              " '5',\n",
              " 'v',\n",
              " 'C',\n",
              " 'O',\n",
              " 'I',\n",
              " '4',\n",
              " '7',\n",
              " 'N',\n",
              " '3',\n",
              " 'x',\n",
              " 'A',\n",
              " '6',\n",
              " 'R',\n",
              " ',',\n",
              " '!',\n",
              " 'P',\n",
              " 'W',\n",
              " '9',\n",
              " 'U',\n",
              " 'M',\n",
              " 'L',\n",
              " 'H',\n",
              " 'D',\n",
              " 'F',\n",
              " 'G',\n",
              " 'B',\n",
              " 'Y',\n",
              " '/',\n",
              " \"'\",\n",
              " '?',\n",
              " '£',\n",
              " '-',\n",
              " '&',\n",
              " 'X',\n",
              " ':',\n",
              " 'z',\n",
              " '*',\n",
              " 'V',\n",
              " 'K',\n",
              " 'j',\n",
              " ')',\n",
              " ';',\n",
              " 'J',\n",
              " '+',\n",
              " '(',\n",
              " 'Q',\n",
              " 'q',\n",
              " '#',\n",
              " '\"',\n",
              " '>',\n",
              " '@',\n",
              " '=',\n",
              " 'Z',\n",
              " 'ü',\n",
              " '<',\n",
              " '$',\n",
              " '%',\n",
              " 'Ü',\n",
              " '‘',\n",
              " '\\x92',\n",
              " '|',\n",
              " '[',\n",
              " ']',\n",
              " '\\x93',\n",
              " '¡',\n",
              " '“',\n",
              " '…',\n",
              " '_',\n",
              " '’',\n",
              " 'ú',\n",
              " '–',\n",
              " '\\\\',\n",
              " 'é',\n",
              " '\\t',\n",
              " '\\n',\n",
              " '\\x96',\n",
              " '^',\n",
              " '~',\n",
              " '\\x91',\n",
              " '»',\n",
              " 'É',\n",
              " 'è',\n",
              " 'ì',\n",
              " '┾',\n",
              " '〨',\n",
              " '鈥']"
            ]
          },
          "metadata": {},
          "execution_count": 12
        }
      ]
    },
    {
      "cell_type": "markdown",
      "metadata": {
        "id": "TC8WVE8Ua90u"
      },
      "source": [
        "### Part (g) [1 pt]\n",
        "\n",
        "The tokens `<unk>` and `<pad>` were not in our SMS text messages.\n",
        "What do these two values represent?"
      ]
    },
    {
      "cell_type": "markdown",
      "source": [
        "\\<unk> represents means unknown word, a word that doesn't exist the the vocabulary set\n",
        "\n",
        "\\<pad> represents  zero inputs added at the end of sentence for shorter sequences"
      ],
      "metadata": {
        "id": "y_4Er7KUa90v"
      }
    },
    {
      "cell_type": "markdown",
      "metadata": {
        "id": "Ff5CNk7Qa90y"
      },
      "source": [
        "### Part (h) [1 pt]\n",
        "\n",
        "Since text sequences are of variable length, `torchtext` provides a `BucketIterator` data loader,\n",
        "which batches similar length sequences together. The iterator also provides functionalities to\n",
        "pad sequences automatically.\n",
        "\n",
        "Take a look at 10 batches in `train_iter`. What is the maximum length of the\n",
        "input sequence in each batch? How many `<pad>` tokens are used in each of the 10\n",
        "batches?"
      ]
    },
    {
      "cell_type": "code",
      "metadata": {
        "id": "V8N8qLWOa90y"
      },
      "source": [
        "train_iter = torchtext.legacy.data.BucketIterator(train,\n",
        "                                           batch_size=32,\n",
        "                                           sort_key=lambda x: len(x.sms), # to minimize padding\n",
        "                                           sort_within_batch=True,        # sort within each batch\n",
        "                                           repeat=False)                  # repeat the iterator for many epochs"
      ],
      "execution_count": 13,
      "outputs": []
    },
    {
      "cell_type": "code",
      "metadata": {
        "id": "Qwz-rOaha902",
        "colab": {
          "base_uri": "https://localhost:8080/"
        },
        "outputId": "0eb619a5-5bb5-4b8f-9cf5-332c2ff03d33"
      },
      "source": [
        "for i, batch in enumerate(train_iter):\n",
        "    pad = (torch.full([32], len(batch.sms[0][0])) - batch.sms[1]).sum()\n",
        "    print(\"Batch {}: The maximum length of the input sequence: {}. The number of <pad> tokens are used:\".format(i+1, batch.sms[1][0]), int(pad))\n",
        "    if i == 9:\n",
        "        break"
      ],
      "execution_count": 14,
      "outputs": [
        {
          "output_type": "stream",
          "name": "stdout",
          "text": [
            "Batch 1: The maximum length of the input sequence: 147. The number of <pad> tokens are used: 27\n",
            "Batch 2: The maximum length of the input sequence: 50. The number of <pad> tokens are used: 8\n",
            "Batch 3: The maximum length of the input sequence: 29. The number of <pad> tokens are used: 13\n",
            "Batch 4: The maximum length of the input sequence: 136. The number of <pad> tokens are used: 17\n",
            "Batch 5: The maximum length of the input sequence: 64. The number of <pad> tokens are used: 51\n",
            "Batch 6: The maximum length of the input sequence: 160. The number of <pad> tokens are used: 0\n",
            "Batch 7: The maximum length of the input sequence: 158. The number of <pad> tokens are used: 0\n",
            "Batch 8: The maximum length of the input sequence: 141. The number of <pad> tokens are used: 14\n",
            "Batch 9: The maximum length of the input sequence: 148. The number of <pad> tokens are used: 1\n",
            "Batch 10: The maximum length of the input sequence: 44. The number of <pad> tokens are used: 12\n"
          ]
        }
      ]
    },
    {
      "cell_type": "markdown",
      "metadata": {
        "id": "y7HnqP6_a904"
      },
      "source": [
        "## Part 2. Model Building [5 pt]\n",
        "\n",
        "Build a recurrent neural network model, using an architecture of your choosing. \n",
        "Use the one-hot embedding of each character as input to your recurrent network.\n",
        "Use one or more fully-connected layers to make the prediction based on your\n",
        "recurrent network output.\n",
        "\n",
        "Instead of using the RNN output value for the final token, another often used\n",
        "strategy is to max-pool over the entire output array. That is, instead of calling\n",
        "something like:\n",
        "\n",
        "```\n",
        "out, _ = self.rnn(x)\n",
        "self.fc(out[:, -1, :])\n",
        "```\n",
        "\n",
        "where `self.rnn` is an `nn.RNN`, `nn.GRU`, or `nn.LSTM` module, and `self.fc` is a \n",
        "fully-connected \n",
        "layer, we use:\n",
        "\n",
        "```\n",
        "out, _ = self.rnn(x)\n",
        "self.fc(torch.max(out, dim=1)[0])\n",
        "```\n",
        "\n",
        "This works reasonably in practice. An even better alternative is to concatenate the\n",
        "max-pooling and average-pooling of the RNN outputs:\n",
        "\n",
        "```\n",
        "out, _ = self.rnn(x)\n",
        "out = torch.cat([torch.max(out, dim=1)[0], \n",
        "                 torch.mean(out, dim=1)], dim=1)\n",
        "self.fc(out)\n",
        "```\n",
        "\n",
        "We encourage you to try out all these options. The way you pool the RNN outputs\n",
        "is one of the \"hyperparameters\" that you can choose to tune later on."
      ]
    },
    {
      "cell_type": "code",
      "metadata": {
        "id": "jHl1p_Wwa905",
        "colab": {
          "base_uri": "https://localhost:8080/"
        },
        "outputId": "62ddb4f7-dc10-4237-eab4-bc456ee75474"
      },
      "source": [
        "# You might find this code helpful for obtaining\n",
        "# PyTorch one-hot vectors.\n",
        "\n",
        "ident = torch.eye(10)\n",
        "print(ident[0]) # one-hot vector\n",
        "print(ident[1]) # one-hot vector\n",
        "x = torch.tensor([[1, 2], [3, 4]])\n",
        "print(ident[x]) # one-hot vectors"
      ],
      "execution_count": null,
      "outputs": [
        {
          "output_type": "stream",
          "name": "stdout",
          "text": [
            "tensor([1., 0., 0., 0., 0., 0., 0., 0., 0., 0.])\n",
            "tensor([0., 1., 0., 0., 0., 0., 0., 0., 0., 0.])\n",
            "tensor([[[0., 1., 0., 0., 0., 0., 0., 0., 0., 0.],\n",
            "         [0., 0., 1., 0., 0., 0., 0., 0., 0., 0.]],\n",
            "\n",
            "        [[0., 0., 0., 1., 0., 0., 0., 0., 0., 0.],\n",
            "         [0., 0., 0., 0., 1., 0., 0., 0., 0., 0.]]])\n"
          ]
        }
      ]
    },
    {
      "cell_type": "code",
      "metadata": {
        "id": "4LTQ7zFka909"
      },
      "source": [
        "class MyRNN(nn.Module):\n",
        "    def __init__(self, input_size, hidden_size, num_classes):\n",
        "        super(MyRNN, self).__init__()\n",
        "        self.emb = torch.eye(hidden_size)\n",
        "        self.hidden_size = hidden_size\n",
        "        self.rnn = nn.RNN(input_size, hidden_size, batch_first=True)\n",
        "        self.fc = nn.Linear(hidden_size, num_classes)\n",
        "    \n",
        "    def forward(self, x):\n",
        "        # Look up the embedding\n",
        "        x = self.emb[x]\n",
        "        # Set an initial hidden state\n",
        "        h0 = torch.zeros(1, x.size(0), self.hidden_size)\n",
        "        #############################################\n",
        "        #To Enable GPU Usage\n",
        "        if torch.cuda.is_available():\n",
        "          h0 = h0.cuda()\n",
        "          x = x.cuda()\n",
        "        #############################################\n",
        "        # Forward propagate the RNN\n",
        "        out, _ = self.rnn(x, h0)\n",
        "        # Pass the output of the last time step to the classifier\n",
        "        out = self.fc(out[:, -1, :])\n",
        "        return out"
      ],
      "execution_count": null,
      "outputs": []
    },
    {
      "cell_type": "markdown",
      "metadata": {
        "id": "vKIYPl_Ba90_"
      },
      "source": [
        "## Part 3. Training [8 pt]\n",
        "\n",
        "### Part (a) [2 pt]\n",
        "\n",
        "Complete the `get_accuracy` function, which will compute the\n",
        "accuracy (rate) of your model across a dataset (e.g. validation set).\n",
        "You may modify `torchtext.data.BucketIterator` to make your computation\n",
        "faster."
      ]
    },
    {
      "cell_type": "code",
      "metadata": {
        "id": "pvNfhGD6a91A"
      },
      "source": [
        "def get_accuracy(model, data):\n",
        "    \"\"\" Compute the accuracy of the `model` across a dataset `data`\n",
        "    \n",
        "    Example usage:\n",
        "    \n",
        "    >>> model = MyRNN() # to be defined\n",
        "    >>> get_accuracy(model, valid) # the variable `valid` is from above\n",
        "    \"\"\"\n",
        "    correct, total = 0, 0\n",
        "    for batch in data:\n",
        "        msg = batch.sms[0]\n",
        "        label = batch.label\n",
        "        #############################################\n",
        "        #To Enable GPU Usage\n",
        "        if torch.cuda.is_available():\n",
        "          msg = msg.cuda()\n",
        "          label = label.cuda()\n",
        "        #############################################\n",
        "        output = model(msg)\n",
        "        pred = output.max(1, keepdim=True)[1]\n",
        "        correct += pred.eq(label.view_as(pred)).sum().item()\n",
        "        total += batch.label.shape[0]\n",
        "    return correct / total"
      ],
      "execution_count": 15,
      "outputs": []
    },
    {
      "cell_type": "markdown",
      "metadata": {
        "id": "TlxlcAC1a91C"
      },
      "source": [
        "### Part (b) [2 pt]\n",
        "\n",
        "Train your model. Plot the training curve of your final model. \n",
        "Your training curve should have the training/validation loss and\n",
        "accuracy plotted periodically.\n",
        "\n",
        "Note: Not all of your batches will have the same batch size.\n",
        "In particular, if your training set does not divide evenly by\n",
        "your batch size, there will be a batch that is smaller than\n",
        "the rest. "
      ]
    },
    {
      "cell_type": "code",
      "metadata": {
        "id": "CVtf7CJCa91D"
      },
      "source": [
        "import matplotlib.pyplot as plt\n",
        "\n",
        "def train_network(model, train_loader, valid_loader, num_epochs=5, learning_rate=1e-5, batch_size = 32):\n",
        "    criterion = nn.CrossEntropyLoss()\n",
        "    optimizer = torch.optim.Adam(model.parameters(), lr=learning_rate)\n",
        "    losses, train_acc, valid_acc = [], [], []\n",
        "    epochs = []\n",
        "    train_iter = torchtext.legacy.data.BucketIterator(train_loader,\n",
        "                        batch_size=batch_size,\n",
        "                        sort_key=lambda x: len(x.sms), \n",
        "                        sort_within_batch=True,        \n",
        "                        repeat=False)\n",
        "    valid_iter = torchtext.legacy.data.BucketIterator(valid_loader,\n",
        "                        batch_size=batch_size,\n",
        "                        sort_key=lambda x: len(x.sms),\n",
        "                        sort_within_batch=True,\n",
        "                        repeat=False)\n",
        "    for epoch in range(num_epochs):\n",
        "        for batch in train_iter:\n",
        "            msg = batch.sms[0]\n",
        "            label = batch.label\n",
        "            #############################################\n",
        "            #To Enable GPU Usage\n",
        "            if torch.cuda.is_available():\n",
        "              msg = msg.cuda()\n",
        "              label = label.cuda()\n",
        "            #############################################\n",
        "            optimizer.zero_grad()\n",
        "            pred = model(msg)\n",
        "            loss = criterion(pred, label)\n",
        "            loss.backward()\n",
        "            optimizer.step()\n",
        "        losses.append(float(loss))\n",
        "\n",
        "        epochs.append(epoch)\n",
        "        train_acc.append(get_accuracy(model, train_iter))\n",
        "        valid_acc.append(get_accuracy(model, valid_iter))\n",
        "        print(\"Epoch %d; Loss %f; Train Acc %f; Val Acc %f\" % (\n",
        "              epoch+1, loss, train_acc[-1], valid_acc[-1]))\n",
        "    # plotting\n",
        "    plt.title(\"Training Curve\")\n",
        "    plt.plot(losses, label=\"Train\")\n",
        "    plt.xlabel(\"Epoch\")\n",
        "    plt.ylabel(\"Loss\")\n",
        "    plt.show()\n",
        "\n",
        "    plt.title(\"Training Curve\")\n",
        "    plt.plot(epochs, train_acc, label=\"Train\")\n",
        "    plt.plot(epochs, valid_acc, label=\"Validation\")\n",
        "    plt.xlabel(\"Epoch\")\n",
        "    plt.ylabel(\"Accuracy\")\n",
        "    plt.legend(loc='best')\n",
        "    plt.show()"
      ],
      "execution_count": 16,
      "outputs": []
    },
    {
      "cell_type": "code",
      "source": [
        "model = MyRNN(len(text_field.vocab), len(text_field.vocab), 2)\n",
        "if torch.cuda.is_available():\n",
        "  model.cuda()\n",
        "  print('CUDA is available!  Training on GPU ...')\n",
        "else:\n",
        "  print('CUDA is not available.  Training on CPU ...')\n",
        "train_network(model, train, valid, num_epochs=64, learning_rate=0.0001)"
      ],
      "metadata": {
        "colab": {
          "base_uri": "https://localhost:8080/",
          "height": 1000
        },
        "id": "zgGLHjsQTzM9",
        "outputId": "0b4aa12f-b6d2-4ec7-db67-9582b4dd2b99"
      },
      "execution_count": null,
      "outputs": [
        {
          "output_type": "stream",
          "name": "stdout",
          "text": [
            "CUDA is available!  Training on GPU ...\n",
            "Epoch 1; Loss 0.636797; Train Acc 0.732878; Val Acc 0.726457\n",
            "Epoch 2; Loss 0.340566; Train Acc 0.907015; Val Acc 0.908520\n",
            "Epoch 3; Loss 0.263371; Train Acc 0.909515; Val Acc 0.948879\n",
            "Epoch 4; Loss 0.424940; Train Acc 0.911181; Val Acc 0.947982\n",
            "Epoch 5; Loss 0.305579; Train Acc 0.942176; Val Acc 0.942601\n",
            "Epoch 6; Loss 0.388399; Train Acc 0.927345; Val Acc 0.937220\n",
            "Epoch 7; Loss 0.054533; Train Acc 0.943676; Val Acc 0.944395\n",
            "Epoch 8; Loss 0.248166; Train Acc 0.895684; Val Acc 0.949776\n",
            "Epoch 9; Loss 0.044823; Train Acc 0.947009; Val Acc 0.949776\n",
            "Epoch 10; Loss 0.165181; Train Acc 0.955007; Val Acc 0.939910\n",
            "Epoch 11; Loss 0.130026; Train Acc 0.930345; Val Acc 0.904036\n",
            "Epoch 12; Loss 0.224422; Train Acc 0.946342; Val Acc 0.939013\n",
            "Epoch 13; Loss 0.281426; Train Acc 0.929512; Val Acc 0.966816\n",
            "Epoch 14; Loss 0.574861; Train Acc 0.873688; Val Acc 0.949776\n",
            "Epoch 15; Loss 0.094654; Train Acc 0.962506; Val Acc 0.943498\n",
            "Epoch 16; Loss 0.375250; Train Acc 0.936177; Val Acc 0.960538\n",
            "Epoch 17; Loss 0.040131; Train Acc 0.947342; Val Acc 0.963229\n",
            "Epoch 18; Loss 0.093041; Train Acc 0.953841; Val Acc 0.942601\n",
            "Epoch 19; Loss 0.683638; Train Acc 0.947509; Val Acc 0.957848\n",
            "Epoch 20; Loss 0.494854; Train Acc 0.892351; Val Acc 0.901345\n",
            "Epoch 21; Loss 0.432991; Train Acc 0.839527; Val Acc 0.817937\n",
            "Epoch 22; Loss 0.032401; Train Acc 0.964006; Val Acc 0.955157\n",
            "Epoch 23; Loss 0.127585; Train Acc 0.960173; Val Acc 0.956951\n",
            "Epoch 24; Loss 0.021552; Train Acc 0.952175; Val Acc 0.939910\n",
            "Epoch 25; Loss 0.119787; Train Acc 0.831195; Val Acc 0.706726\n",
            "Epoch 26; Loss 0.105892; Train Acc 0.966672; Val Acc 0.956054\n",
            "Epoch 27; Loss 0.110236; Train Acc 0.965172; Val Acc 0.965919\n",
            "Epoch 28; Loss 0.084406; Train Acc 0.960507; Val Acc 0.943498\n",
            "Epoch 29; Loss 0.064864; Train Acc 0.958007; Val Acc 0.965919\n",
            "Epoch 30; Loss 0.263911; Train Acc 0.956674; Val Acc 0.969507\n",
            "Epoch 31; Loss 0.119412; Train Acc 0.969838; Val Acc 0.954260\n",
            "Epoch 32; Loss 0.030355; Train Acc 0.968839; Val Acc 0.959641\n",
            "Epoch 33; Loss 0.216456; Train Acc 0.951841; Val Acc 0.971300\n",
            "Epoch 34; Loss 0.023724; Train Acc 0.965839; Val Acc 0.962332\n",
            "Epoch 35; Loss 0.467012; Train Acc 0.969005; Val Acc 0.956054\n",
            "Epoch 36; Loss 0.016742; Train Acc 0.966839; Val Acc 0.960538\n",
            "Epoch 37; Loss 0.078928; Train Acc 0.961506; Val Acc 0.953363\n",
            "Epoch 38; Loss 0.086717; Train Acc 0.954508; Val Acc 0.964126\n",
            "Epoch 39; Loss 0.347883; Train Acc 0.966172; Val Acc 0.956951\n",
            "Epoch 40; Loss 0.050092; Train Acc 0.974004; Val Acc 0.962332\n",
            "Epoch 41; Loss 0.290216; Train Acc 0.971005; Val Acc 0.968610\n",
            "Epoch 42; Loss 0.276672; Train Acc 0.972005; Val Acc 0.965022\n",
            "Epoch 43; Loss 0.123522; Train Acc 0.971171; Val Acc 0.966816\n",
            "Epoch 44; Loss 0.008336; Train Acc 0.970338; Val Acc 0.969507\n",
            "Epoch 45; Loss 0.510519; Train Acc 0.832195; Val Acc 0.932735\n",
            "Epoch 46; Loss 0.054902; Train Acc 0.966172; Val Acc 0.949776\n",
            "Epoch 47; Loss 0.065108; Train Acc 0.972838; Val Acc 0.962332\n",
            "Epoch 48; Loss 0.113855; Train Acc 0.972505; Val Acc 0.965919\n",
            "Epoch 49; Loss 0.036202; Train Acc 0.971838; Val Acc 0.967713\n",
            "Epoch 50; Loss 0.108521; Train Acc 0.975004; Val Acc 0.966816\n",
            "Epoch 51; Loss 0.120410; Train Acc 0.916514; Val Acc 0.962332\n",
            "Epoch 52; Loss 0.109988; Train Acc 0.976671; Val Acc 0.966816\n",
            "Epoch 53; Loss 0.048927; Train Acc 0.964339; Val Acc 0.936323\n",
            "Epoch 54; Loss 0.105392; Train Acc 0.976171; Val Acc 0.965919\n",
            "Epoch 55; Loss 0.474428; Train Acc 0.974838; Val Acc 0.963229\n",
            "Epoch 56; Loss 0.114858; Train Acc 0.972005; Val Acc 0.965022\n",
            "Epoch 57; Loss 0.599618; Train Acc 0.749042; Val Acc 0.576682\n",
            "Epoch 58; Loss 0.350444; Train Acc 0.832861; Val Acc 0.811659\n",
            "Epoch 59; Loss 0.170957; Train Acc 0.932678; Val Acc 0.949776\n",
            "Epoch 60; Loss 0.947390; Train Acc 0.951008; Val Acc 0.956054\n",
            "Epoch 61; Loss 0.700248; Train Acc 0.971171; Val Acc 0.968610\n",
            "Epoch 62; Loss 0.097955; Train Acc 0.973838; Val Acc 0.965022\n",
            "Epoch 63; Loss 0.783165; Train Acc 0.975504; Val Acc 0.968610\n",
            "Epoch 64; Loss 0.017393; Train Acc 0.972505; Val Acc 0.966816\n"
          ]
        },
        {
          "output_type": "display_data",
          "data": {
            "text/plain": [
              "<Figure size 432x288 with 1 Axes>"
            ],
            "image/png": "[encoded data removed]"
          },
          "metadata": {
            "needs_background": "light"
          }
        },
        {
          "output_type": "display_data",
          "data": {
            "text/plain": [
              "<Figure size 432x288 with 1 Axes>"
            ],
            "image/png": "[encoded data removed]"
          },
          "metadata": {
            "needs_background": "light"
          }
        }
      ]
    },
    {
      "cell_type": "markdown",
      "metadata": {
        "id": "fE3eRkDAa91F"
      },
      "source": [
        "### Part (c) [2 pt]\n",
        "\n",
        "Choose at least 4 hyperparameters to tune. Explain how you tuned the hyperparameters.\n",
        "You don't need to include your training curve for every model you trained.\n",
        "Instead, explain what hyperparemters you tuned, what the best validation accuracy was,\n",
        "and the reasoning behind the hyperparameter decisions you made.\n",
        "\n",
        "For this assignment, you should tune more than just your learning rate and epoch. \n",
        "Choose at least 2 hyperparameters that are unrelated to the optimizer."
      ]
    },
    {
      "cell_type": "markdown",
      "source": [
        "1. Reduce epochs to 32, because the accuracy hasn't changed much after epoch 30, and there are more severe sudden drops in accuracy after epoch 30. Also, it can prevent overfitting"
      ],
      "metadata": {
        "id": "A2GEWfDca91G"
      }
    },
    {
      "cell_type": "code",
      "source": [
        "model_MyRNN_ep = MyRNN(len(text_field.vocab), len(text_field.vocab), 2)\n",
        "if torch.cuda.is_available():\n",
        "  model_MyRNN_ep.cuda()\n",
        "  print('CUDA is available!  Training on GPU ...')\n",
        "else:\n",
        "  print('CUDA is not available.  Training on CPU ...')\n",
        "train_network(model_MyRNN_ep, train, valid, num_epochs=32, learning_rate=0.0001)"
      ],
      "metadata": {
        "colab": {
          "base_uri": "https://localhost:8080/",
          "height": 1000
        },
        "id": "OHWW3Nhqa_kb",
        "outputId": "751ab158-0c41-490a-dae2-2d95f6881a1c"
      },
      "execution_count": null,
      "outputs": [
        {
          "output_type": "stream",
          "name": "stdout",
          "text": [
            "CUDA is available!  Training on GPU ...\n",
            "Epoch 1; Loss 0.692128; Train Acc 0.678720; Val Acc 0.552466\n",
            "Epoch 2; Loss 0.290967; Train Acc 0.876021; Val Acc 0.808969\n",
            "Epoch 3; Loss 0.270953; Train Acc 0.902350; Val Acc 0.939910\n",
            "Epoch 4; Loss 0.521625; Train Acc 0.906182; Val Acc 0.939910\n",
            "Epoch 5; Loss 0.443964; Train Acc 0.838194; Val Acc 0.860987\n",
            "Epoch 6; Loss 0.185612; Train Acc 0.930678; Val Acc 0.945291\n",
            "Epoch 7; Loss 0.081829; Train Acc 0.946342; Val Acc 0.925561\n",
            "Epoch 8; Loss 0.284414; Train Acc 0.945176; Val Acc 0.924664\n",
            "Epoch 9; Loss 0.051633; Train Acc 0.950508; Val Acc 0.956951\n",
            "Epoch 10; Loss 0.964930; Train Acc 0.920847; Val Acc 0.963229\n",
            "Epoch 11; Loss 0.129292; Train Acc 0.952508; Val Acc 0.952466\n",
            "Epoch 12; Loss 0.152960; Train Acc 0.952508; Val Acc 0.963229\n",
            "Epoch 13; Loss 0.071891; Train Acc 0.955507; Val Acc 0.965919\n",
            "Epoch 14; Loss 0.162022; Train Acc 0.961006; Val Acc 0.959641\n",
            "Epoch 15; Loss 0.184836; Train Acc 0.961506; Val Acc 0.962332\n",
            "Epoch 16; Loss 0.317454; Train Acc 0.966006; Val Acc 0.967713\n",
            "Epoch 17; Loss 0.072824; Train Acc 0.961673; Val Acc 0.971300\n",
            "Epoch 18; Loss 0.331941; Train Acc 0.933844; Val Acc 0.890583\n",
            "Epoch 19; Loss 0.685787; Train Acc 0.703216; Val Acc 0.509417\n",
            "Epoch 20; Loss 0.623362; Train Acc 0.848692; Val Acc 0.851121\n",
            "Epoch 21; Loss 0.042309; Train Acc 0.950675; Val Acc 0.965919\n",
            "Epoch 22; Loss 0.148166; Train Acc 0.866189; Val Acc 0.782063\n",
            "Epoch 23; Loss 0.162693; Train Acc 0.960840; Val Acc 0.941704\n",
            "Epoch 24; Loss 0.511165; Train Acc 0.715047; Val Acc 0.514798\n",
            "Epoch 25; Loss 0.382458; Train Acc 0.782536; Val Acc 0.678924\n",
            "Epoch 26; Loss 0.374861; Train Acc 0.818697; Val Acc 0.796413\n",
            "Epoch 27; Loss 0.238853; Train Acc 0.841693; Val Acc 0.839462\n",
            "Epoch 28; Loss 0.285469; Train Acc 0.886686; Val Acc 0.875336\n",
            "Epoch 29; Loss 0.655003; Train Acc 0.891018; Val Acc 0.826906\n",
            "Epoch 30; Loss 0.120789; Train Acc 0.958507; Val Acc 0.964126\n",
            "Epoch 31; Loss 0.026118; Train Acc 0.970172; Val Acc 0.965919\n",
            "Epoch 32; Loss 0.048636; Train Acc 0.972005; Val Acc 0.956951\n"
          ]
        },
        {
          "output_type": "display_data",
          "data": {
            "text/plain": [
              "<Figure size 432x288 with 1 Axes>"
            ],
            "image/png": "[encoded data removed]"
          },
          "metadata": {
            "needs_background": "light"
          }
        },
        {
          "output_type": "display_data",
          "data": {
            "text/plain": [
              "<Figure size 432x288 with 1 Axes>"
            ],
            "image/png": "[encoded data removed]"
          },
          "metadata": {
            "needs_background": "light"
          }
        }
      ]
    },
    {
      "cell_type": "markdown",
      "source": [
        "2. Increase the learning rate to 0.005, to add reduce the chance of being stuck in the local minimum, and computationally more efficient."
      ],
      "metadata": {
        "id": "uwFlfPbEbE3x"
      }
    },
    {
      "cell_type": "code",
      "source": [
        "model_MyRNN_lr = MyRNN(len(text_field.vocab), len(text_field.vocab), 2)\n",
        "if torch.cuda.is_available():\n",
        "  model_MyRNN_lr.cuda()\n",
        "  print('CUDA is available!  Training on GPU ...')\n",
        "else:\n",
        "  print('CUDA is not available.  Training on CPU ...')\n",
        "train_network(model_MyRNN_lr, train, valid, num_epochs=64, learning_rate=0.0005)"
      ],
      "metadata": {
        "colab": {
          "base_uri": "https://localhost:8080/",
          "height": 1000
        },
        "id": "nU-YcnonbynU",
        "outputId": "0343d4ec-0dc4-489b-a22b-eb14e0721180"
      },
      "execution_count": null,
      "outputs": [
        {
          "output_type": "stream",
          "name": "stdout",
          "text": [
            "CUDA is available!  Training on GPU ...\n",
            "Epoch 1; Loss 0.057037; Train Acc 0.917014; Val Acc 0.921973\n",
            "Epoch 2; Loss 0.454300; Train Acc 0.888019; Val Acc 0.914798\n",
            "Epoch 3; Loss 0.565778; Train Acc 0.834028; Val Acc 0.804484\n",
            "Epoch 4; Loss 0.188982; Train Acc 0.919347; Val Acc 0.966816\n",
            "Epoch 5; Loss 0.175467; Train Acc 0.935511; Val Acc 0.959641\n",
            "Epoch 6; Loss 0.658685; Train Acc 0.734544; Val Acc 0.756054\n",
            "Epoch 7; Loss 0.663337; Train Acc 0.620397; Val Acc 0.650224\n",
            "Epoch 8; Loss 0.603847; Train Acc 0.737544; Val Acc 0.782063\n",
            "Epoch 9; Loss 0.521667; Train Acc 0.695884; Val Acc 0.659193\n",
            "Epoch 10; Loss 0.480556; Train Acc 0.923679; Val Acc 0.923767\n",
            "Epoch 11; Loss 0.223498; Train Acc 0.914181; Val Acc 0.854709\n",
            "Epoch 12; Loss 0.056246; Train Acc 0.948175; Val Acc 0.959641\n",
            "Epoch 13; Loss 0.718632; Train Acc 0.733378; Val Acc 0.670852\n",
            "Epoch 14; Loss 0.201871; Train Acc 0.926846; Val Acc 0.888789\n",
            "Epoch 15; Loss 0.236602; Train Acc 0.953508; Val Acc 0.927354\n",
            "Epoch 16; Loss 0.393931; Train Acc 0.783536; Val Acc 0.760538\n",
            "Epoch 17; Loss 0.059202; Train Acc 0.927179; Val Acc 0.954260\n",
            "Epoch 18; Loss 0.427249; Train Acc 0.777704; Val Acc 0.747982\n",
            "Epoch 19; Loss 0.631802; Train Acc 0.755541; Val Acc 0.711211\n",
            "Epoch 20; Loss 0.668639; Train Acc 0.798867; Val Acc 0.763229\n",
            "Epoch 21; Loss 0.262437; Train Acc 0.860690; Val Acc 0.850224\n",
            "Epoch 22; Loss 0.246283; Train Acc 0.547909; Val Acc 0.226906\n",
            "Epoch 23; Loss 0.155167; Train Acc 0.913348; Val Acc 0.913004\n",
            "Epoch 24; Loss 0.090074; Train Acc 0.939010; Val Acc 0.966816\n",
            "Epoch 25; Loss 0.280285; Train Acc 0.773538; Val Acc 0.600000\n",
            "Epoch 26; Loss 0.752271; Train Acc 0.824863; Val Acc 0.931839\n",
            "Epoch 27; Loss 0.480599; Train Acc 0.763206; Val Acc 0.881614\n",
            "Epoch 28; Loss 0.774429; Train Acc 0.732545; Val Acc 0.501345\n",
            "Epoch 29; Loss 0.590053; Train Acc 0.688385; Val Acc 0.718386\n",
            "Epoch 30; Loss 0.393367; Train Acc 0.812365; Val Acc 0.826009\n",
            "Epoch 31; Loss 0.158464; Train Acc 0.919680; Val Acc 0.930942\n",
            "Epoch 32; Loss 0.041314; Train Acc 0.950675; Val Acc 0.954260\n",
            "Epoch 33; Loss 0.164974; Train Acc 0.948175; Val Acc 0.970404\n",
            "Epoch 34; Loss 0.009065; Train Acc 0.946009; Val Acc 0.959641\n",
            "Epoch 35; Loss 0.466204; Train Acc 0.768205; Val Acc 0.764126\n",
            "Epoch 36; Loss 0.384297; Train Acc 0.825862; Val Acc 0.823318\n",
            "Epoch 37; Loss 0.315718; Train Acc 0.936511; Val Acc 0.943498\n",
            "Epoch 38; Loss 0.276686; Train Acc 0.898517; Val Acc 0.872646\n",
            "Epoch 39; Loss 0.499825; Train Acc 0.953841; Val Acc 0.942601\n",
            "Epoch 40; Loss 0.083610; Train Acc 0.953008; Val Acc 0.939910\n",
            "Epoch 41; Loss 0.335575; Train Acc 0.955674; Val Acc 0.952466\n",
            "Epoch 42; Loss 0.553724; Train Acc 0.941676; Val Acc 0.949776\n",
            "Epoch 43; Loss 0.227925; Train Acc 0.931011; Val Acc 0.913004\n",
            "Epoch 44; Loss 0.050191; Train Acc 0.963506; Val Acc 0.956054\n",
            "Epoch 45; Loss 0.227693; Train Acc 0.928679; Val Acc 0.919283\n",
            "Epoch 46; Loss 0.388487; Train Acc 0.958007; Val Acc 0.945291\n",
            "Epoch 47; Loss 0.008925; Train Acc 0.963506; Val Acc 0.959641\n",
            "Epoch 48; Loss 0.228042; Train Acc 0.943843; Val Acc 0.936323\n",
            "Epoch 49; Loss 0.040285; Train Acc 0.964673; Val Acc 0.947085\n",
            "Epoch 50; Loss 0.187701; Train Acc 0.963506; Val Acc 0.966816\n",
            "Epoch 51; Loss 0.080721; Train Acc 0.969172; Val Acc 0.959641\n",
            "Epoch 52; Loss 0.208986; Train Acc 0.837360; Val Acc 0.914798\n",
            "Epoch 53; Loss 0.122800; Train Acc 0.950508; Val Acc 0.959641\n",
            "Epoch 54; Loss 0.289745; Train Acc 0.967005; Val Acc 0.966816\n",
            "Epoch 55; Loss 0.930332; Train Acc 0.966672; Val Acc 0.963229\n",
            "Epoch 56; Loss 0.036509; Train Acc 0.966672; Val Acc 0.965022\n",
            "Epoch 57; Loss 0.042571; Train Acc 0.967672; Val Acc 0.965022\n",
            "Epoch 58; Loss 0.260708; Train Acc 0.929178; Val Acc 0.901345\n",
            "Epoch 59; Loss 0.423910; Train Acc 0.963506; Val Acc 0.944395\n",
            "Epoch 60; Loss 0.325759; Train Acc 0.798867; Val Acc 0.677130\n",
            "Epoch 61; Loss 0.645799; Train Acc 0.969338; Val Acc 0.955157\n",
            "Epoch 62; Loss 0.136611; Train Acc 0.969838; Val Acc 0.958744\n",
            "Epoch 63; Loss 1.162544; Train Acc 0.972005; Val Acc 0.965919\n",
            "Epoch 64; Loss 0.016929; Train Acc 0.971671; Val Acc 0.965919\n"
          ]
        },
        {
          "output_type": "display_data",
          "data": {
            "text/plain": [
              "<Figure size 432x288 with 1 Axes>"
            ],
            "image/png": "[encoded data removed]"
          },
          "metadata": {
            "needs_background": "light"
          }
        },
        {
          "output_type": "display_data",
          "data": {
            "text/plain": [
              "<Figure size 432x288 with 1 Axes>"
            ],
            "image/png": "[encoded data removed]"
          },
          "metadata": {
            "needs_background": "light"
          }
        }
      ]
    },
    {
      "cell_type": "markdown",
      "source": [
        "3. Max-pooling the entire model's output array to help increase the accuracy by providing an abstracted form of the representation. As well, it reduces the computational cost."
      ],
      "metadata": {
        "id": "cSP4o45fb2mL"
      }
    },
    {
      "cell_type": "code",
      "source": [
        "class MyRNN_max(nn.Module):\n",
        "    def __init__(self, input_size, hidden_size, num_classes):\n",
        "        super(MyRNN_max, self).__init__()\n",
        "        self.emb = torch.eye(hidden_size)\n",
        "        self.hidden_size = hidden_size\n",
        "        self.rnn = nn.RNN(input_size, hidden_size, batch_first=True)\n",
        "        self.fc = nn.Linear(hidden_size, num_classes)\n",
        "    \n",
        "    def forward(self, x):\n",
        "        # Look up the embedding\n",
        "        x = self.emb[x]\n",
        "        # Set an initial hidden state\n",
        "        h0 = torch.zeros(1, x.size(0), self.hidden_size)\n",
        "        #############################################\n",
        "        #To Enable GPU Usage\n",
        "        if torch.cuda.is_available():\n",
        "          h0 = h0.cuda()\n",
        "          x = x.cuda()\n",
        "        #############################################\n",
        "        # Forward propagate the RNN\n",
        "        out, _ = self.rnn(x, h0)\n",
        "        # Pass the output of the last time step to the classifier\n",
        "        out = self.fc(torch.max(out, dim=1)[0])\n",
        "        return out"
      ],
      "metadata": {
        "id": "fViHjq8OdT_d"
      },
      "execution_count": 17,
      "outputs": []
    },
    {
      "cell_type": "code",
      "source": [
        "model_MyRNN_max = MyRNN_max(len(text_field.vocab), len(text_field.vocab), 2)"
      ],
      "metadata": {
        "id": "12QLJMywiRlF"
      },
      "execution_count": 18,
      "outputs": []
    },
    {
      "cell_type": "code",
      "source": [
        "model_MyRNN_max = MyRNN_max(len(text_field.vocab), len(text_field.vocab), 2)\n",
        "if torch.cuda.is_available():\n",
        "  model_MyRNN_max.cuda()\n",
        "  print('CUDA is available!  Training on GPU ...')\n",
        "else:\n",
        "  print('CUDA is not available.  Training on CPU ...')\n",
        "train_network(model_MyRNN_max, train, valid, num_epochs=64, learning_rate=0.0001)"
      ],
      "metadata": {
        "colab": {
          "base_uri": "https://localhost:8080/",
          "height": 1000
        },
        "id": "5ikbVEiTeQ5S",
        "outputId": "2fc2bea0-443f-47aa-9ad8-d22dfb1e0735"
      },
      "execution_count": null,
      "outputs": [
        {
          "output_type": "stream",
          "name": "stdout",
          "text": [
            "CUDA is available!  Training on GPU ...\n",
            "Epoch 1; Loss 0.698438; Train Acc 0.646559; Val Acc 0.371300\n",
            "Epoch 2; Loss 0.604358; Train Acc 0.948675; Val Acc 0.908520\n",
            "Epoch 3; Loss 0.406367; Train Acc 0.918014; Val Acc 0.940807\n",
            "Epoch 4; Loss 0.219776; Train Acc 0.940177; Val Acc 0.961435\n",
            "Epoch 5; Loss 0.232444; Train Acc 0.951175; Val Acc 0.955157\n",
            "Epoch 6; Loss 0.509389; Train Acc 0.930012; Val Acc 0.970404\n",
            "Epoch 7; Loss 0.115100; Train Acc 0.956841; Val Acc 0.954260\n",
            "Epoch 8; Loss 0.073487; Train Acc 0.963006; Val Acc 0.955157\n",
            "Epoch 9; Loss 0.023941; Train Acc 0.960007; Val Acc 0.966816\n",
            "Epoch 10; Loss 0.136226; Train Acc 0.969338; Val Acc 0.964126\n",
            "Epoch 11; Loss 0.020283; Train Acc 0.958840; Val Acc 0.944395\n",
            "Epoch 12; Loss 0.081030; Train Acc 0.969672; Val Acc 0.963229\n",
            "Epoch 13; Loss 0.032840; Train Acc 0.964006; Val Acc 0.968610\n",
            "Epoch 14; Loss 0.105356; Train Acc 0.969172; Val Acc 0.971300\n",
            "Epoch 15; Loss 0.144971; Train Acc 0.970672; Val Acc 0.961435\n",
            "Epoch 16; Loss 0.293308; Train Acc 0.972171; Val Acc 0.964126\n",
            "Epoch 17; Loss 0.039300; Train Acc 0.972171; Val Acc 0.965919\n",
            "Epoch 18; Loss 0.026751; Train Acc 0.972171; Val Acc 0.964126\n",
            "Epoch 19; Loss 0.448786; Train Acc 0.972671; Val Acc 0.965022\n",
            "Epoch 20; Loss 0.107001; Train Acc 0.974504; Val Acc 0.966816\n",
            "Epoch 21; Loss 0.031303; Train Acc 0.974004; Val Acc 0.966816\n",
            "Epoch 22; Loss 0.014899; Train Acc 0.976337; Val Acc 0.968610\n",
            "Epoch 23; Loss 0.037419; Train Acc 0.975504; Val Acc 0.966816\n",
            "Epoch 24; Loss 0.029563; Train Acc 0.976004; Val Acc 0.965919\n",
            "Epoch 25; Loss 0.027223; Train Acc 0.977004; Val Acc 0.967713\n",
            "Epoch 26; Loss 0.014218; Train Acc 0.975837; Val Acc 0.971300\n",
            "Epoch 27; Loss 0.043669; Train Acc 0.973338; Val Acc 0.972197\n",
            "Epoch 28; Loss 0.039635; Train Acc 0.979170; Val Acc 0.967713\n",
            "Epoch 29; Loss 0.033037; Train Acc 0.978837; Val Acc 0.973094\n",
            "Epoch 30; Loss 0.023461; Train Acc 0.970005; Val Acc 0.973991\n",
            "Epoch 31; Loss 0.014033; Train Acc 0.978837; Val Acc 0.973991\n",
            "Epoch 32; Loss 0.020718; Train Acc 0.981503; Val Acc 0.974888\n",
            "Epoch 33; Loss 0.067842; Train Acc 0.980337; Val Acc 0.974888\n",
            "Epoch 34; Loss 0.007779; Train Acc 0.984503; Val Acc 0.973094\n",
            "Epoch 35; Loss 0.335692; Train Acc 0.983003; Val Acc 0.970404\n",
            "Epoch 36; Loss 0.040293; Train Acc 0.985502; Val Acc 0.974888\n",
            "Epoch 37; Loss 0.011954; Train Acc 0.984836; Val Acc 0.975785\n",
            "Epoch 38; Loss 0.014601; Train Acc 0.985002; Val Acc 0.973991\n",
            "Epoch 39; Loss 0.013973; Train Acc 0.988335; Val Acc 0.971300\n",
            "Epoch 40; Loss 0.017037; Train Acc 0.986336; Val Acc 0.969507\n",
            "Epoch 41; Loss 0.133382; Train Acc 0.984503; Val Acc 0.977578\n",
            "Epoch 42; Loss 0.069290; Train Acc 0.985836; Val Acc 0.975785\n",
            "Epoch 43; Loss 0.045972; Train Acc 0.991001; Val Acc 0.974888\n",
            "Epoch 44; Loss 0.005409; Train Acc 0.981336; Val Acc 0.976682\n",
            "Epoch 45; Loss 0.004002; Train Acc 0.989502; Val Acc 0.971300\n",
            "Epoch 46; Loss 0.033652; Train Acc 0.988502; Val Acc 0.982063\n",
            "Epoch 47; Loss 0.009085; Train Acc 0.987669; Val Acc 0.979372\n",
            "Epoch 48; Loss 0.027083; Train Acc 0.993501; Val Acc 0.975785\n",
            "Epoch 49; Loss 0.004093; Train Acc 0.990502; Val Acc 0.982063\n",
            "Epoch 50; Loss 0.036027; Train Acc 0.989002; Val Acc 0.982063\n",
            "Epoch 51; Loss 0.123069; Train Acc 0.987335; Val Acc 0.962332\n",
            "Epoch 52; Loss 0.020709; Train Acc 0.995834; Val Acc 0.976682\n",
            "Epoch 53; Loss 0.007751; Train Acc 0.995001; Val Acc 0.976682\n",
            "Epoch 54; Loss 0.018697; Train Acc 0.996501; Val Acc 0.980269\n",
            "Epoch 55; Loss 0.038963; Train Acc 0.996667; Val Acc 0.980269\n",
            "Epoch 56; Loss 0.011041; Train Acc 0.997334; Val Acc 0.981166\n",
            "Epoch 57; Loss 0.004901; Train Acc 0.991501; Val Acc 0.982960\n",
            "Epoch 58; Loss 0.019342; Train Acc 0.995334; Val Acc 0.977578\n",
            "Epoch 59; Loss 0.008972; Train Acc 0.998000; Val Acc 0.981166\n",
            "Epoch 60; Loss 0.130931; Train Acc 0.998000; Val Acc 0.980269\n",
            "Epoch 61; Loss 0.138606; Train Acc 0.992335; Val Acc 0.981166\n",
            "Epoch 62; Loss 0.157221; Train Acc 0.989502; Val Acc 0.964126\n",
            "Epoch 63; Loss 0.066617; Train Acc 0.996001; Val Acc 0.982063\n",
            "Epoch 64; Loss 0.000630; Train Acc 0.997834; Val Acc 0.980269\n"
          ]
        },
        {
          "output_type": "display_data",
          "data": {
            "text/plain": [
              "<Figure size 432x288 with 1 Axes>"
            ],
            "image/png": "[encoded data removed]"
          },
          "metadata": {
            "needs_background": "light"
          }
        },
        {
          "output_type": "display_data",
          "data": {
            "text/plain": [
              "<Figure size 432x288 with 1 Axes>"
            ],
            "image/png": "[encoded data removed]"
          },
          "metadata": {
            "needs_background": "light"
          }
        }
      ]
    },
    {
      "cell_type": "markdown",
      "source": [
        "4. Concatenate the max-pooling and average-pooling of the RNN outputs to not just select the outstanding features(max-pooling), but also get the smooth repesentation of all features in the output (average-pooling). "
      ],
      "metadata": {
        "id": "HeHW_7BAc2i_"
      }
    },
    {
      "cell_type": "code",
      "source": [
        "class MyRNN_max_mean(nn.Module):\n",
        "    def __init__(self, input_size, hidden_size, num_classes):\n",
        "        super(MyRNN_max_mean, self).__init__()\n",
        "        self.emb = torch.eye(hidden_size)\n",
        "        self.hidden_size = hidden_size\n",
        "        self.rnn = nn.RNN(input_size, hidden_size, batch_first=True)\n",
        "        self.fc = nn.Linear(2*hidden_size, num_classes)\n",
        "    \n",
        "    def forward(self, x):\n",
        "        # Look up the embedding\n",
        "        x = self.emb[x]\n",
        "        # Set an initial hidden state\n",
        "        h0 = torch.zeros(1, x.size(0), self.hidden_size)\n",
        "        #############################################\n",
        "        #To Enable GPU Usage\n",
        "        if torch.cuda.is_available():\n",
        "          h0 = h0.cuda()\n",
        "          x = x.cuda()\n",
        "        #############################################\n",
        "        # Forward propagate the RNN\n",
        "        out, _ = self.rnn(x, h0)\n",
        "        # Pass the output of the last time step to the classifier\n",
        "        out = torch.cat([torch.max(out, dim=1)[0], \n",
        "                 torch.mean(out, dim=1)], dim=1)\n",
        "        out = self.fc(out)\n",
        "        return out"
      ],
      "metadata": {
        "id": "ERgdZWm-dfw7"
      },
      "execution_count": null,
      "outputs": []
    },
    {
      "cell_type": "code",
      "source": [
        "model_MyRNN_max_mean = MyRNN_max_mean(len(text_field.vocab), len(text_field.vocab), 2)\n",
        "if torch.cuda.is_available():\n",
        "  model_MyRNN_max_mean.cuda()\n",
        "  print('CUDA is available!  Training on GPU ...')\n",
        "else:\n",
        "  print('CUDA is not available.  Training on CPU ...')\n",
        "train_network(model_MyRNN_max_mean, train, valid, num_epochs=64, learning_rate=0.0001)"
      ],
      "metadata": {
        "colab": {
          "base_uri": "https://localhost:8080/",
          "height": 1000
        },
        "id": "l_TwdPrjeZDP",
        "outputId": "a691d06c-71f3-4cfc-901c-b5fff18a498d"
      },
      "execution_count": null,
      "outputs": [
        {
          "output_type": "stream",
          "name": "stdout",
          "text": [
            "CUDA is available!  Training on GPU ...\n",
            "Epoch 1; Loss 0.705604; Train Acc 0.542243; Val Acc 0.188341\n",
            "Epoch 2; Loss 0.662050; Train Acc 0.743209; Val Acc 0.910314\n",
            "Epoch 3; Loss 0.358654; Train Acc 0.935844; Val Acc 0.946188\n",
            "Epoch 4; Loss 0.344223; Train Acc 0.928679; Val Acc 0.963229\n",
            "Epoch 5; Loss 0.270857; Train Acc 0.935844; Val Acc 0.957848\n",
            "Epoch 6; Loss 0.213308; Train Acc 0.941676; Val Acc 0.957848\n",
            "Epoch 7; Loss 0.130649; Train Acc 0.949508; Val Acc 0.947085\n",
            "Epoch 8; Loss 0.095339; Train Acc 0.951008; Val Acc 0.958744\n",
            "Epoch 9; Loss 0.035462; Train Acc 0.945509; Val Acc 0.970404\n",
            "Epoch 10; Loss 0.172102; Train Acc 0.954008; Val Acc 0.962332\n",
            "Epoch 11; Loss 0.022147; Train Acc 0.958174; Val Acc 0.947085\n",
            "Epoch 12; Loss 0.172282; Train Acc 0.961506; Val Acc 0.951570\n",
            "Epoch 13; Loss 0.085141; Train Acc 0.963506; Val Acc 0.959641\n",
            "Epoch 14; Loss 0.077058; Train Acc 0.959340; Val Acc 0.965919\n",
            "Epoch 15; Loss 0.144886; Train Acc 0.965672; Val Acc 0.956951\n",
            "Epoch 16; Loss 0.233431; Train Acc 0.965172; Val Acc 0.963229\n",
            "Epoch 17; Loss 0.029691; Train Acc 0.967839; Val Acc 0.965919\n",
            "Epoch 18; Loss 0.029358; Train Acc 0.967339; Val Acc 0.953363\n",
            "Epoch 19; Loss 0.720395; Train Acc 0.969838; Val Acc 0.963229\n",
            "Epoch 20; Loss 0.177040; Train Acc 0.970005; Val Acc 0.966816\n",
            "Epoch 21; Loss 0.045322; Train Acc 0.971171; Val Acc 0.965919\n",
            "Epoch 22; Loss 0.023689; Train Acc 0.974338; Val Acc 0.965022\n",
            "Epoch 23; Loss 0.035728; Train Acc 0.976004; Val Acc 0.963229\n",
            "Epoch 24; Loss 0.026824; Train Acc 0.972838; Val Acc 0.969507\n",
            "Epoch 25; Loss 0.055552; Train Acc 0.973671; Val Acc 0.970404\n",
            "Epoch 26; Loss 0.014966; Train Acc 0.960173; Val Acc 0.973991\n",
            "Epoch 27; Loss 0.026200; Train Acc 0.957507; Val Acc 0.973991\n",
            "Epoch 28; Loss 0.043117; Train Acc 0.977170; Val Acc 0.964126\n",
            "Epoch 29; Loss 0.041956; Train Acc 0.975671; Val Acc 0.973094\n",
            "Epoch 30; Loss 0.025881; Train Acc 0.972171; Val Acc 0.975785\n",
            "Epoch 31; Loss 0.010453; Train Acc 0.973838; Val Acc 0.974888\n",
            "Epoch 32; Loss 0.016759; Train Acc 0.980170; Val Acc 0.971300\n",
            "Epoch 33; Loss 0.101714; Train Acc 0.972838; Val Acc 0.974888\n",
            "Epoch 34; Loss 0.006660; Train Acc 0.977837; Val Acc 0.971300\n",
            "Epoch 35; Loss 0.485312; Train Acc 0.981836; Val Acc 0.967713\n",
            "Epoch 36; Loss 0.081649; Train Acc 0.979003; Val Acc 0.973991\n",
            "Epoch 37; Loss 0.014083; Train Acc 0.982670; Val Acc 0.971300\n",
            "Epoch 38; Loss 0.014556; Train Acc 0.974171; Val Acc 0.977578\n",
            "Epoch 39; Loss 0.019224; Train Acc 0.981003; Val Acc 0.963229\n",
            "Epoch 40; Loss 0.038771; Train Acc 0.969838; Val Acc 0.940807\n",
            "Epoch 41; Loss 0.083988; Train Acc 0.982336; Val Acc 0.973991\n",
            "Epoch 42; Loss 0.080997; Train Acc 0.980003; Val Acc 0.974888\n",
            "Epoch 43; Loss 0.231130; Train Acc 0.968839; Val Acc 0.938117\n",
            "Epoch 44; Loss 0.003957; Train Acc 0.975504; Val Acc 0.975785\n",
            "Epoch 45; Loss 0.016927; Train Acc 0.982836; Val Acc 0.969507\n",
            "Epoch 46; Loss 0.097932; Train Acc 0.981836; Val Acc 0.975785\n",
            "Epoch 47; Loss 0.008849; Train Acc 0.985669; Val Acc 0.974888\n",
            "Epoch 48; Loss 0.106928; Train Acc 0.980337; Val Acc 0.973991\n",
            "Epoch 49; Loss 0.002317; Train Acc 0.981836; Val Acc 0.975785\n",
            "Epoch 50; Loss 0.084008; Train Acc 0.983503; Val Acc 0.974888\n",
            "Epoch 51; Loss 0.083119; Train Acc 0.981170; Val Acc 0.959641\n",
            "Epoch 52; Loss 0.146962; Train Acc 0.987335; Val Acc 0.973094\n",
            "Epoch 53; Loss 0.021632; Train Acc 0.983836; Val Acc 0.970404\n",
            "Epoch 54; Loss 0.022989; Train Acc 0.985502; Val Acc 0.972197\n",
            "Epoch 55; Loss 0.288914; Train Acc 0.987502; Val Acc 0.973094\n",
            "Epoch 56; Loss 0.012720; Train Acc 0.986669; Val Acc 0.975785\n",
            "Epoch 57; Loss 0.013400; Train Acc 0.987169; Val Acc 0.972197\n",
            "Epoch 58; Loss 0.067093; Train Acc 0.986002; Val Acc 0.968610\n",
            "Epoch 59; Loss 0.050930; Train Acc 0.987835; Val Acc 0.973991\n",
            "Epoch 60; Loss 0.673886; Train Acc 0.988835; Val Acc 0.973094\n",
            "Epoch 61; Loss 0.397140; Train Acc 0.990002; Val Acc 0.973094\n",
            "Epoch 62; Loss 0.295240; Train Acc 0.945176; Val Acc 0.899552\n",
            "Epoch 63; Loss 0.267324; Train Acc 0.989668; Val Acc 0.973094\n",
            "Epoch 64; Loss 0.003740; Train Acc 0.993001; Val Acc 0.972197\n"
          ]
        },
        {
          "output_type": "display_data",
          "data": {
            "text/plain": [
              "<Figure size 432x288 with 1 Axes>"
            ],
            "image/png": "[encoded data removed]"
          },
          "metadata": {
            "needs_background": "light"
          }
        },
        {
          "output_type": "display_data",
          "data": {
            "text/plain": [
              "<Figure size 432x288 with 1 Axes>"
            ],
            "image/png": "[encoded data removed]"
          },
          "metadata": {
            "needs_background": "light"
          }
        }
      ]
    },
    {
      "cell_type": "markdown",
      "source": [
        "The best validation accuracy is 0.980269 from Max-pooling RNN model with epochs 64 and learning rate 0.0001."
      ],
      "metadata": {
        "id": "_yZq1QvFgiNX"
      }
    },
    {
      "cell_type": "markdown",
      "metadata": {
        "id": "v7DY56rKa91I"
      },
      "source": [
        "### Part (d) [1 pt]\n",
        "\n",
        "Before we deploy a machine learning model, we usually want to have a better understanding\n",
        "of how our model performs beyond its validation accuracy. An important metric to track is\n",
        "*how well our model performs in certain subsets of the data*.\n",
        "\n",
        "In particular, what is the model's error rate amongst data with negative labels?\n",
        "This is called the **false positive rate**.\n",
        "\n",
        "What about the model's error rate amongst data with positive labels?\n",
        "This is called the **false negative rate**.\n",
        "\n",
        "Report your final model's false positive and false negative rate across the\n",
        "validation set."
      ]
    },
    {
      "cell_type": "code",
      "source": [
        "def error_rate(data, model, batch_size=32):\n",
        "    # Create a Dataset of only spam validation examples\n",
        "    valid_spam = torchtext.legacy.data.Dataset(\n",
        "        [e for e in valid.examples if e.label == 1],\n",
        "        valid.fields)\n",
        "    # Create a Dataset of only non-spam validation examples\n",
        "    valid_ham = torchtext.legacy.data.Dataset(\n",
        "        [e for e in data.examples if e.label == 0],\n",
        "        data.fields)\n",
        "\n",
        "    spam_loader = torchtext.legacy.data.BucketIterator(valid_spam,\n",
        "                                        batch_size=batch_size,\n",
        "                                        sort_key=lambda x: len(x.sms), \n",
        "                                        sort_within_batch=True,        \n",
        "                                        repeat=False)\n",
        "    ham_loader = torchtext.legacy.data.BucketIterator(valid_ham,\n",
        "                                        batch_size=batch_size,\n",
        "                                        sort_key=lambda x: len(x.sms), \n",
        "                                        sort_within_batch=True,        \n",
        "                                        repeat=False)\n",
        "  \n",
        "    fal_pos_rate = 1 - get_accuracy(model, ham_loader)\n",
        "    fal_neg_rate = 1 - get_accuracy(model, spam_loader)\n",
        "    print('The false positive rate is ', fal_pos_rate)\n",
        "    print('Th false negative rate is ', fal_neg_rate)"
      ],
      "metadata": {
        "id": "oKATh8KShO_8"
      },
      "execution_count": 19,
      "outputs": []
    },
    {
      "cell_type": "code",
      "source": [
        "error_rate(valid, model_MyRNN_max)"
      ],
      "metadata": {
        "colab": {
          "base_uri": "https://localhost:8080/"
        },
        "id": "9qzeC5KbhYrV",
        "outputId": "a083e43f-d0cf-47d9-d2c2-0df08ac94571"
      },
      "execution_count": null,
      "outputs": [
        {
          "output_type": "stream",
          "name": "stdout",
          "text": [
            "The false positive rate is  0.007322175732217606\n",
            "Th false negative rate is  0.08805031446540879\n"
          ]
        }
      ]
    },
    {
      "cell_type": "markdown",
      "metadata": {
        "id": "N1iRteb3a91O"
      },
      "source": [
        "### Part (e) [1 pt]\n",
        "\n",
        "The impact of a false positive vs a false negative can be drastically different.\n",
        "If our spam detection algorithm was deployed on your phone, what is the impact\n",
        "of a false positive on the phone's user? What is the impact of a false negative?"
      ]
    },
    {
      "cell_type": "markdown",
      "source": [
        "Impact of false positive:\n",
        "\n",
        "Classify non-spam messages as spam messages. Higher rate, more important messages being classified as spam messages, people miss out important messages that they neeed to receive.\n",
        "\n",
        "Impact of false negative:\n",
        "\n",
        "Classify spam messages as non-spam messages. Higher rate, more spam messages being classified as non-spam messages, make people confusing whether to trust it or not.\n",
        "\n"
      ],
      "metadata": {
        "id": "hFLUOJTGa91Q"
      }
    },
    {
      "cell_type": "markdown",
      "metadata": {
        "id": "Gznefulsa91V"
      },
      "source": [
        "## Part 4. Evaluation [7 pt]\n",
        "\n",
        "### Part (a) [1 pt]\n",
        "\n",
        "Report the final test accuracy of your model."
      ]
    },
    {
      "cell_type": "code",
      "metadata": {
        "id": "D5L5D-A1a91W",
        "colab": {
          "base_uri": "https://localhost:8080/"
        },
        "outputId": "25ea3004-c9c6-4df6-a985-11c189c138f9"
      },
      "source": [
        "test_loader = torchtext.legacy.data.BucketIterator(test,\n",
        "                            batch_size=32,\n",
        "                            sort_key=lambda x: len(x.sms), \n",
        "                            sort_within_batch=True,        \n",
        "                            repeat=False) \n",
        "print(\"Test accuracy:\", get_accuracy(model_MyRNN_max, test_loader))"
      ],
      "execution_count": null,
      "outputs": [
        {
          "output_type": "stream",
          "name": "stdout",
          "text": [
            "Test accuracy: 0.9775583482944344\n"
          ]
        }
      ]
    },
    {
      "cell_type": "markdown",
      "metadata": {
        "id": "6Hjmd8rca91Y"
      },
      "source": [
        "### Part (b) [1 pt]\n",
        "\n",
        "Report the false positive rate and false negative rate of your model across the test set."
      ]
    },
    {
      "cell_type": "code",
      "metadata": {
        "id": "GFiAKztJa91Z",
        "colab": {
          "base_uri": "https://localhost:8080/"
        },
        "outputId": "c502b0f6-8dcb-4bff-a61a-6ed63aef1143"
      },
      "source": [
        "error_rate(test, model_MyRNN_max)"
      ],
      "execution_count": null,
      "outputs": [
        {
          "output_type": "stream",
          "name": "stdout",
          "text": [
            "The false positive rate is  0.016511867905056765\n",
            "Th false negative rate is  0.08805031446540879\n"
          ]
        }
      ]
    },
    {
      "cell_type": "markdown",
      "metadata": {
        "id": "0jGHtQFpa91b"
      },
      "source": [
        "### Part (c) [3 pt]\n",
        "\n",
        "What is your model's prediction of the **probability** that\n",
        "the SMS message \"machine learning is sooo cool!\" is spam?\n",
        "\n",
        "Hint: To begin, use `text_field.vocab.stoi` to look up the index\n",
        "of each character in the vocabulary."
      ]
    },
    {
      "cell_type": "code",
      "metadata": {
        "id": "h_2nSJq8a91b"
      },
      "source": [
        "msg = \"machine learning is sooo cool!\"\n",
        "\n",
        "def spam_pred(msg, model):\n",
        "  token = []\n",
        "  for i in msg:\n",
        "      token.append(torch.tensor(text_field.vocab.stoi[i]))\n",
        "  k = torch.stack(token).unsqueeze_(0)\n",
        "  softmax = nn.Softmax(dim=1)\n",
        "  prob = softmax(model(k))[0]\n",
        "  return prob"
      ],
      "execution_count": 20,
      "outputs": []
    },
    {
      "cell_type": "code",
      "source": [
        "print('The proability of this message is spam message is ', spam_pred(msg, model_MyRNN_max)[1].item())"
      ],
      "metadata": {
        "colab": {
          "base_uri": "https://localhost:8080/"
        },
        "id": "a6uMGw3Blq_Z",
        "outputId": "2c754967-b1f4-48d7-f255-402ba1b70a0e"
      },
      "execution_count": null,
      "outputs": [
        {
          "output_type": "stream",
          "name": "stdout",
          "text": [
            "The proability of this message is spam message is  0.011002445593476295\n"
          ]
        }
      ]
    },
    {
      "cell_type": "markdown",
      "metadata": {
        "id": "QD1zgYJpa91f"
      },
      "source": [
        "### Part (d) [2 pt]\n",
        "\n",
        "Do you think detecting spam is an easy or difficult task?\n",
        "\n",
        "Since machine learning models are expensive to train and deploy, it is very\n",
        "important to compare our models against baseline models: a simple\n",
        "model that is easy to build and inexpensive to run that we can compare our\n",
        "recurrent neural network model against.\n",
        "\n",
        "Explain how you might build a simple baseline model. This baseline model\n",
        "can be a simple neural network (with very few weights), a hand-written algorithm,\n",
        "or any other strategy that is easy to build and test.\n",
        "\n",
        "**Do not actually build a baseline model. Instead, provide instructions on\n",
        "how to build it.**"
      ]
    },
    {
      "cell_type": "markdown",
      "source": [
        "I think detecting spam is a difficult task, consider that a lot data is needed to feed the machine, so it can understand the pattern of sequence in spam message. Also, considering spam message also evolves as time passes, multiple metrics needs to be updated and implemented and new data needs to be collected.\n",
        "\n",
        "A baseline model would be a simple logistic regression model with data being one-hot-encoding transformed"
      ],
      "metadata": {
        "id": "7dwiiZYdvz34"
      }
    },
    {
      "cell_type": "markdown",
      "metadata": {
        "id": "zIR3Q5l0v1HP"
      },
      "source": [
        "# PART B - Transfer Learning [20 pt]\n",
        "\n",
        "In this part we will compare our earlier model with one that takes advantage of a generative RNN model to improve the prediction. There are several ways to implement transfer learning with RNNs, here we will use an approach known as ULMFiT developed by fastai. Rather than rebuilding the model from scratch, we will take advantage of the fastai library.\n",
        "\n",
        "Provided below is some helper code to get you started.\n",
        "\n",
        "#### Helper Code"
      ]
    },
    {
      "cell_type": "code",
      "metadata": {
        "id": "5R-_BQyiAMoo",
        "colab": {
          "base_uri": "https://localhost:8080/"
        },
        "outputId": "9029e801-c8ba-4a5b-a9d7-7ac8c57bcdc6"
      },
      "source": [
        "# install relevant libraries\n",
        "!pip install spacy==2.3.5\n",
        "!pip install fastai==1.0.61"
      ],
      "execution_count": 21,
      "outputs": [
        {
          "output_type": "stream",
          "name": "stdout",
          "text": [
            "Looking in indexes: https://pypi.org/simple, https://us-python.pkg.dev/colab-wheels/public/simple/\n",
            "Collecting spacy==2.3.5\n",
            "  Downloading spacy-2.3.5-cp37-cp37m-manylinux2014_x86_64.whl (10.4 MB)\n",
            "\u001b[K     |████████████████████████████████| 10.4 MB 10.6 MB/s \n",
            "\u001b[?25hCollecting catalogue<1.1.0,>=0.0.7\n",
            "  Downloading catalogue-1.0.2-py2.py3-none-any.whl (16 kB)\n",
            "Requirement already satisfied: numpy>=1.15.0 in /usr/local/lib/python3.7/dist-packages (from spacy==2.3.5) (1.21.6)\n",
            "Requirement already satisfied: wasabi<1.1.0,>=0.4.0 in /usr/local/lib/python3.7/dist-packages (from spacy==2.3.5) (0.10.1)\n",
            "Collecting srsly<1.1.0,>=1.0.2\n",
            "  Downloading srsly-1.0.6-cp37-cp37m-manylinux_2_17_x86_64.manylinux2014_x86_64.whl (208 kB)\n",
            "\u001b[K     |████████████████████████████████| 208 kB 70.3 MB/s \n",
            "\u001b[?25hRequirement already satisfied: preshed<3.1.0,>=3.0.2 in /usr/local/lib/python3.7/dist-packages (from spacy==2.3.5) (3.0.8)\n",
            "Requirement already satisfied: requests<3.0.0,>=2.13.0 in /usr/local/lib/python3.7/dist-packages (from spacy==2.3.5) (2.23.0)\n",
            "Collecting plac<1.2.0,>=0.9.6\n",
            "  Downloading plac-1.1.3-py2.py3-none-any.whl (20 kB)\n",
            "Requirement already satisfied: setuptools in /usr/local/lib/python3.7/dist-packages (from spacy==2.3.5) (57.4.0)\n",
            "Requirement already satisfied: cymem<2.1.0,>=2.0.2 in /usr/local/lib/python3.7/dist-packages (from spacy==2.3.5) (2.0.7)\n",
            "Requirement already satisfied: tqdm<5.0.0,>=4.38.0 in /usr/local/lib/python3.7/dist-packages (from spacy==2.3.5) (4.64.1)\n",
            "Requirement already satisfied: murmurhash<1.1.0,>=0.28.0 in /usr/local/lib/python3.7/dist-packages (from spacy==2.3.5) (1.0.9)\n",
            "Collecting thinc<7.5.0,>=7.4.1\n",
            "  Downloading thinc-7.4.6-cp37-cp37m-manylinux_2_17_x86_64.manylinux2014_x86_64.whl (1.0 MB)\n",
            "\u001b[K     |████████████████████████████████| 1.0 MB 60.3 MB/s \n",
            "\u001b[?25hRequirement already satisfied: blis<0.8.0,>=0.4.0 in /usr/local/lib/python3.7/dist-packages (from spacy==2.3.5) (0.7.9)\n",
            "Requirement already satisfied: typing-extensions>=3.6.4 in /usr/local/lib/python3.7/dist-packages (from catalogue<1.1.0,>=0.0.7->spacy==2.3.5) (4.1.1)\n",
            "Requirement already satisfied: zipp>=0.5 in /usr/local/lib/python3.7/dist-packages (from catalogue<1.1.0,>=0.0.7->spacy==2.3.5) (3.10.0)\n",
            "Requirement already satisfied: certifi>=2017.4.17 in /usr/local/lib/python3.7/dist-packages (from requests<3.0.0,>=2.13.0->spacy==2.3.5) (2022.9.24)\n",
            "Requirement already satisfied: chardet<4,>=3.0.2 in /usr/local/lib/python3.7/dist-packages (from requests<3.0.0,>=2.13.0->spacy==2.3.5) (3.0.4)\n",
            "Requirement already satisfied: idna<3,>=2.5 in /usr/local/lib/python3.7/dist-packages (from requests<3.0.0,>=2.13.0->spacy==2.3.5) (2.10)\n",
            "Requirement already satisfied: urllib3!=1.25.0,!=1.25.1,<1.26,>=1.21.1 in /usr/local/lib/python3.7/dist-packages (from requests<3.0.0,>=2.13.0->spacy==2.3.5) (1.24.3)\n",
            "Installing collected packages: srsly, plac, catalogue, thinc, spacy\n",
            "  Attempting uninstall: srsly\n",
            "    Found existing installation: srsly 2.4.5\n",
            "    Uninstalling srsly-2.4.5:\n",
            "      Successfully uninstalled srsly-2.4.5\n",
            "  Attempting uninstall: catalogue\n",
            "    Found existing installation: catalogue 2.0.8\n",
            "    Uninstalling catalogue-2.0.8:\n",
            "      Successfully uninstalled catalogue-2.0.8\n",
            "  Attempting uninstall: thinc\n",
            "    Found existing installation: thinc 8.1.5\n",
            "    Uninstalling thinc-8.1.5:\n",
            "      Successfully uninstalled thinc-8.1.5\n",
            "  Attempting uninstall: spacy\n",
            "    Found existing installation: spacy 3.4.3\n",
            "    Uninstalling spacy-3.4.3:\n",
            "      Successfully uninstalled spacy-3.4.3\n",
            "\u001b[31mERROR: pip's dependency resolver does not currently take into account all the packages that are installed. This behaviour is the source of the following dependency conflicts.\n",
            "en-core-web-sm 3.4.1 requires spacy<3.5.0,>=3.4.0, but you have spacy 2.3.5 which is incompatible.\n",
            "confection 0.0.3 requires srsly<3.0.0,>=2.4.0, but you have srsly 1.0.6 which is incompatible.\u001b[0m\n",
            "Successfully installed catalogue-1.0.2 plac-1.1.3 spacy-2.3.5 srsly-1.0.6 thinc-7.4.6\n",
            "Looking in indexes: https://pypi.org/simple, https://us-python.pkg.dev/colab-wheels/public/simple/\n",
            "Collecting fastai==1.0.61\n",
            "  Downloading fastai-1.0.61-py3-none-any.whl (239 kB)\n",
            "\u001b[K     |████████████████████████████████| 239 kB 5.6 MB/s \n",
            "\u001b[?25hRequirement already satisfied: matplotlib in /usr/local/lib/python3.7/dist-packages (from fastai==1.0.61) (3.2.2)\n",
            "Requirement already satisfied: torch>=1.0.0 in /usr/local/lib/python3.7/dist-packages (from fastai==1.0.61) (1.8.0+cu111)\n",
            "Collecting nvidia-ml-py3\n",
            "  Downloading nvidia-ml-py3-7.352.0.tar.gz (19 kB)\n",
            "Requirement already satisfied: scipy in /usr/local/lib/python3.7/dist-packages (from fastai==1.0.61) (1.7.3)\n",
            "Requirement already satisfied: Pillow in /usr/local/lib/python3.7/dist-packages (from fastai==1.0.61) (7.1.2)\n",
            "Requirement already satisfied: pandas in /usr/local/lib/python3.7/dist-packages (from fastai==1.0.61) (1.3.5)\n",
            "Requirement already satisfied: pyyaml in /usr/local/lib/python3.7/dist-packages (from fastai==1.0.61) (6.0)\n",
            "Requirement already satisfied: packaging in /usr/local/lib/python3.7/dist-packages (from fastai==1.0.61) (21.3)\n",
            "Requirement already satisfied: requests in /usr/local/lib/python3.7/dist-packages (from fastai==1.0.61) (2.23.0)\n",
            "Requirement already satisfied: beautifulsoup4 in /usr/local/lib/python3.7/dist-packages (from fastai==1.0.61) (4.6.3)\n",
            "Requirement already satisfied: torchvision in /usr/local/lib/python3.7/dist-packages (from fastai==1.0.61) (0.9.0+cu111)\n",
            "Collecting bottleneck\n",
            "  Downloading Bottleneck-1.3.5-cp37-cp37m-manylinux_2_5_x86_64.manylinux1_x86_64.manylinux_2_17_x86_64.manylinux2014_x86_64.whl (355 kB)\n",
            "\u001b[K     |████████████████████████████████| 355 kB 21.7 MB/s \n",
            "\u001b[?25hRequirement already satisfied: numpy>=1.15 in /usr/local/lib/python3.7/dist-packages (from fastai==1.0.61) (1.21.6)\n",
            "Requirement already satisfied: fastprogress>=0.2.1 in /usr/local/lib/python3.7/dist-packages (from fastai==1.0.61) (1.0.3)\n",
            "Requirement already satisfied: numexpr in /usr/local/lib/python3.7/dist-packages (from fastai==1.0.61) (2.8.4)\n",
            "Requirement already satisfied: spacy>=2.0.18 in /usr/local/lib/python3.7/dist-packages (from fastai==1.0.61) (2.3.5)\n",
            "Requirement already satisfied: setuptools in /usr/local/lib/python3.7/dist-packages (from spacy>=2.0.18->fastai==1.0.61) (57.4.0)\n",
            "Requirement already satisfied: thinc<7.5.0,>=7.4.1 in /usr/local/lib/python3.7/dist-packages (from spacy>=2.0.18->fastai==1.0.61) (7.4.6)\n",
            "Requirement already satisfied: plac<1.2.0,>=0.9.6 in /usr/local/lib/python3.7/dist-packages (from spacy>=2.0.18->fastai==1.0.61) (1.1.3)\n",
            "Requirement already satisfied: tqdm<5.0.0,>=4.38.0 in /usr/local/lib/python3.7/dist-packages (from spacy>=2.0.18->fastai==1.0.61) (4.64.1)\n",
            "Requirement already satisfied: wasabi<1.1.0,>=0.4.0 in /usr/local/lib/python3.7/dist-packages (from spacy>=2.0.18->fastai==1.0.61) (0.10.1)\n",
            "Requirement already satisfied: murmurhash<1.1.0,>=0.28.0 in /usr/local/lib/python3.7/dist-packages (from spacy>=2.0.18->fastai==1.0.61) (1.0.9)\n",
            "Requirement already satisfied: srsly<1.1.0,>=1.0.2 in /usr/local/lib/python3.7/dist-packages (from spacy>=2.0.18->fastai==1.0.61) (1.0.6)\n",
            "Requirement already satisfied: cymem<2.1.0,>=2.0.2 in /usr/local/lib/python3.7/dist-packages (from spacy>=2.0.18->fastai==1.0.61) (2.0.7)\n",
            "Requirement already satisfied: preshed<3.1.0,>=3.0.2 in /usr/local/lib/python3.7/dist-packages (from spacy>=2.0.18->fastai==1.0.61) (3.0.8)\n",
            "Requirement already satisfied: catalogue<1.1.0,>=0.0.7 in /usr/local/lib/python3.7/dist-packages (from spacy>=2.0.18->fastai==1.0.61) (1.0.2)\n",
            "Requirement already satisfied: blis<0.8.0,>=0.4.0 in /usr/local/lib/python3.7/dist-packages (from spacy>=2.0.18->fastai==1.0.61) (0.7.9)\n",
            "Requirement already satisfied: zipp>=0.5 in /usr/local/lib/python3.7/dist-packages (from catalogue<1.1.0,>=0.0.7->spacy>=2.0.18->fastai==1.0.61) (3.10.0)\n",
            "Requirement already satisfied: typing-extensions>=3.6.4 in /usr/local/lib/python3.7/dist-packages (from catalogue<1.1.0,>=0.0.7->spacy>=2.0.18->fastai==1.0.61) (4.1.1)\n",
            "Requirement already satisfied: certifi>=2017.4.17 in /usr/local/lib/python3.7/dist-packages (from requests->fastai==1.0.61) (2022.9.24)\n",
            "Requirement already satisfied: urllib3!=1.25.0,!=1.25.1,<1.26,>=1.21.1 in /usr/local/lib/python3.7/dist-packages (from requests->fastai==1.0.61) (1.24.3)\n",
            "Requirement already satisfied: chardet<4,>=3.0.2 in /usr/local/lib/python3.7/dist-packages (from requests->fastai==1.0.61) (3.0.4)\n",
            "Requirement already satisfied: idna<3,>=2.5 in /usr/local/lib/python3.7/dist-packages (from requests->fastai==1.0.61) (2.10)\n",
            "Requirement already satisfied: pyparsing!=2.0.4,!=2.1.2,!=2.1.6,>=2.0.1 in /usr/local/lib/python3.7/dist-packages (from matplotlib->fastai==1.0.61) (3.0.9)\n",
            "Requirement already satisfied: kiwisolver>=1.0.1 in /usr/local/lib/python3.7/dist-packages (from matplotlib->fastai==1.0.61) (1.4.4)\n",
            "Requirement already satisfied: cycler>=0.10 in /usr/local/lib/python3.7/dist-packages (from matplotlib->fastai==1.0.61) (0.11.0)\n",
            "Requirement already satisfied: python-dateutil>=2.1 in /usr/local/lib/python3.7/dist-packages (from matplotlib->fastai==1.0.61) (2.8.2)\n",
            "Requirement already satisfied: six>=1.5 in /usr/local/lib/python3.7/dist-packages (from python-dateutil>=2.1->matplotlib->fastai==1.0.61) (1.15.0)\n",
            "Requirement already satisfied: pytz>=2017.3 in /usr/local/lib/python3.7/dist-packages (from pandas->fastai==1.0.61) (2022.6)\n",
            "Building wheels for collected packages: nvidia-ml-py3\n",
            "  Building wheel for nvidia-ml-py3 (setup.py) ... \u001b[?25l\u001b[?25hdone\n",
            "  Created wheel for nvidia-ml-py3: filename=nvidia_ml_py3-7.352.0-py3-none-any.whl size=19190 sha256=d9aabe7c0a7c6d4f087378d2f7ab9e9a2e38a6767603d92fa3c28f58580ba939\n",
            "  Stored in directory: /root/.cache/pip/wheels/df/99/da/c34f202dc8fd1dffd35e0ecf1a7d7f8374ca05fbcbaf974b83\n",
            "Successfully built nvidia-ml-py3\n",
            "Installing collected packages: nvidia-ml-py3, bottleneck, fastai\n",
            "  Attempting uninstall: fastai\n",
            "    Found existing installation: fastai 2.7.10\n",
            "    Uninstalling fastai-2.7.10:\n",
            "      Successfully uninstalled fastai-2.7.10\n",
            "Successfully installed bottleneck-1.3.5 fastai-1.0.61 nvidia-ml-py3-7.352.0\n"
          ]
        }
      ]
    },
    {
      "cell_type": "code",
      "metadata": {
        "id": "316Xs5WBv0kg"
      },
      "source": [
        "# load relevant libraries\n",
        "from fastai import * \n",
        "import pandas as pd\n",
        "import numpy as np\n",
        "from functools import partial\n",
        "import io\n",
        "import os\n",
        "from fastai.text import *"
      ],
      "execution_count": 22,
      "outputs": []
    },
    {
      "cell_type": "code",
      "metadata": {
        "id": "MfoKX8tKAU4Q",
        "colab": {
          "base_uri": "https://localhost:8080/"
        },
        "outputId": "ee85cff5-d8b2-4a0d-eb1f-57454c9ce2a4"
      },
      "source": [
        "# download SPAM data\n",
        "!wget https://archive.ics.uci.edu/ml/machine-learning-databases/00228/smsspamcollection.zip\n",
        "!unzip smsspamcollection.zip"
      ],
      "execution_count": 23,
      "outputs": [
        {
          "output_type": "stream",
          "name": "stdout",
          "text": [
            "--2022-11-22 04:15:09--  https://archive.ics.uci.edu/ml/machine-learning-databases/00228/smsspamcollection.zip\n",
            "Resolving archive.ics.uci.edu (archive.ics.uci.edu)... 128.195.10.252\n",
            "Connecting to archive.ics.uci.edu (archive.ics.uci.edu)|128.195.10.252|:443... connected.\n",
            "HTTP request sent, awaiting response... 200 OK\n",
            "Length: 203415 (199K) [application/x-httpd-php]\n",
            "Saving to: ‘smsspamcollection.zip’\n",
            "\n",
            "smsspamcollection.z 100%[===================>] 198.65K   334KB/s    in 0.6s    \n",
            "\n",
            "2022-11-22 04:15:11 (334 KB/s) - ‘smsspamcollection.zip’ saved [203415/203415]\n",
            "\n",
            "Archive:  smsspamcollection.zip\n",
            "  inflating: SMSSpamCollection       \n",
            "  inflating: readme                  \n"
          ]
        }
      ]
    },
    {
      "cell_type": "markdown",
      "metadata": {
        "id": "J4vSv4Z9QxTJ"
      },
      "source": [
        "This time we will load the data using pandas."
      ]
    },
    {
      "cell_type": "code",
      "metadata": {
        "id": "RKPhLwlhAbv-",
        "colab": {
          "base_uri": "https://localhost:8080/",
          "height": 206
        },
        "outputId": "40ee75a4-f25c-4c1f-e3c3-c37feaec63ab"
      },
      "source": [
        "# set up data and verify\n",
        "df1 = pd.read_csv('SMSSpamCollection', sep='\\t',  header=None, names=['target', 'text'])\n",
        "df1.head()"
      ],
      "execution_count": 24,
      "outputs": [
        {
          "output_type": "execute_result",
          "data": {
            "text/plain": [
              "  target                                               text\n",
              "0    ham  Go until jurong point, crazy.. Available only ...\n",
              "1    ham                      Ok lar... Joking wif u oni...\n",
              "2   spam  Free entry in 2 a wkly comp to win FA Cup fina...\n",
              "3    ham  U dun say so early hor... U c already then say...\n",
              "4    ham  Nah I don't think he goes to usf, he lives aro..."
            ],
            "text/html": [
              "\n",
              "  <div id=\"df-75f6fa08-b1cc-47a6-8b6e-cc9ec443e107\">\n",
              "    <div class=\"colab-df-container\">\n",
              "      <div>\n",
              "<style scoped>\n",
              "    .dataframe tbody tr th:only-of-type {\n",
              "        vertical-align: middle;\n",
              "    }\n",
              "\n",
              "    .dataframe tbody tr th {\n",
              "        vertical-align: top;\n",
              "    }\n",
              "\n",
              "    .dataframe thead th {\n",
              "        text-align: right;\n",
              "    }\n",
              "</style>\n",
              "<table border=\"1\" class=\"dataframe\">\n",
              "  <thead>\n",
              "    <tr style=\"text-align: right;\">\n",
              "      <th></th>\n",
              "      <th>target</th>\n",
              "      <th>text</th>\n",
              "    </tr>\n",
              "  </thead>\n",
              "  <tbody>\n",
              "    <tr>\n",
              "      <th>0</th>\n",
              "      <td>ham</td>\n",
              "      <td>Go until jurong point, crazy.. Available only ...</td>\n",
              "    </tr>\n",
              "    <tr>\n",
              "      <th>1</th>\n",
              "      <td>ham</td>\n",
              "      <td>Ok lar... Joking wif u oni...</td>\n",
              "    </tr>\n",
              "    <tr>\n",
              "      <th>2</th>\n",
              "      <td>spam</td>\n",
              "      <td>Free entry in 2 a wkly comp to win FA Cup fina...</td>\n",
              "    </tr>\n",
              "    <tr>\n",
              "      <th>3</th>\n",
              "      <td>ham</td>\n",
              "      <td>U dun say so early hor... U c already then say...</td>\n",
              "    </tr>\n",
              "    <tr>\n",
              "      <th>4</th>\n",
              "      <td>ham</td>\n",
              "      <td>Nah I don't think he goes to usf, he lives aro...</td>\n",
              "    </tr>\n",
              "  </tbody>\n",
              "</table>\n",
              "</div>\n",
              "      <button class=\"colab-df-convert\" onclick=\"convertToInteractive('df-75f6fa08-b1cc-47a6-8b6e-cc9ec443e107')\"\n",
              "              title=\"Convert this dataframe to an interactive table.\"\n",
              "              style=\"display:none;\">\n",
              "        \n",
              "  <svg xmlns=\"http://www.w3.org/2000/svg\" height=\"24px\"viewBox=\"0 0 24 24\"\n",
              "       width=\"24px\">\n",
              "    <path d=\"M0 0h24v24H0V0z\" fill=\"none\"/>\n",
              "    <path d=\"M18.56 5.44l.94 2.06.94-2.06 2.06-.94-2.06-.94-.94-2.06-.94 2.06-2.06.94zm-11 1L8.5 8.5l.94-2.06 2.06-.94-2.06-.94L8.5 2.5l-.94 2.06-2.06.94zm10 10l.94 2.06.94-2.06 2.06-.94-2.06-.94-.94-2.06-.94 2.06-2.06.94z\"/><path d=\"M17.41 7.96l-1.37-1.37c-.4-.4-.92-.59-1.43-.59-.52 0-1.04.2-1.43.59L10.3 9.45l-7.72 7.72c-.78.78-.78 2.05 0 2.83L4 21.41c.39.39.9.59 1.41.59.51 0 1.02-.2 1.41-.59l7.78-7.78 2.81-2.81c.8-.78.8-2.07 0-2.86zM5.41 20L4 18.59l7.72-7.72 1.47 1.35L5.41 20z\"/>\n",
              "  </svg>\n",
              "      </button>\n",
              "      \n",
              "  <style>\n",
              "    .colab-df-container {\n",
              "      display:flex;\n",
              "      flex-wrap:wrap;\n",
              "      gap: 12px;\n",
              "    }\n",
              "\n",
              "    .colab-df-convert {\n",
              "      background-color: #E8F0FE;\n",
              "      border: none;\n",
              "      border-radius: 50%;\n",
              "      cursor: pointer;\n",
              "      display: none;\n",
              "      fill: #1967D2;\n",
              "      height: 32px;\n",
              "      padding: 0 0 0 0;\n",
              "      width: 32px;\n",
              "    }\n",
              "\n",
              "    .colab-df-convert:hover {\n",
              "      background-color: #E2EBFA;\n",
              "      box-shadow: 0px 1px 2px rgba(60, 64, 67, 0.3), 0px 1px 3px 1px rgba(60, 64, 67, 0.15);\n",
              "      fill: #174EA6;\n",
              "    }\n",
              "\n",
              "    [theme=dark] .colab-df-convert {\n",
              "      background-color: #3B4455;\n",
              "      fill: #D2E3FC;\n",
              "    }\n",
              "\n",
              "    [theme=dark] .colab-df-convert:hover {\n",
              "      background-color: #434B5C;\n",
              "      box-shadow: 0px 1px 3px 1px rgba(0, 0, 0, 0.15);\n",
              "      filter: drop-shadow(0px 1px 2px rgba(0, 0, 0, 0.3));\n",
              "      fill: #FFFFFF;\n",
              "    }\n",
              "  </style>\n",
              "\n",
              "      <script>\n",
              "        const buttonEl =\n",
              "          document.querySelector('#df-75f6fa08-b1cc-47a6-8b6e-cc9ec443e107 button.colab-df-convert');\n",
              "        buttonEl.style.display =\n",
              "          google.colab.kernel.accessAllowed ? 'block' : 'none';\n",
              "\n",
              "        async function convertToInteractive(key) {\n",
              "          const element = document.querySelector('#df-75f6fa08-b1cc-47a6-8b6e-cc9ec443e107');\n",
              "          const dataTable =\n",
              "            await google.colab.kernel.invokeFunction('convertToInteractive',\n",
              "                                                     [key], {});\n",
              "          if (!dataTable) return;\n",
              "\n",
              "          const docLinkHtml = 'Like what you see? Visit the ' +\n",
              "            '<a target=\"_blank\" href=https://colab.research.google.com/notebooks/data_table.ipynb>data table notebook</a>'\n",
              "            + ' to learn more about interactive tables.';\n",
              "          element.innerHTML = '';\n",
              "          dataTable['output_type'] = 'display_data';\n",
              "          await google.colab.output.renderOutput(dataTable, element);\n",
              "          const docLink = document.createElement('div');\n",
              "          docLink.innerHTML = docLinkHtml;\n",
              "          element.appendChild(docLink);\n",
              "        }\n",
              "      </script>\n",
              "    </div>\n",
              "  </div>\n",
              "  "
            ]
          },
          "metadata": {},
          "execution_count": 24
        }
      ]
    },
    {
      "cell_type": "code",
      "metadata": {
        "id": "rorC2T1yAfWY",
        "colab": {
          "base_uri": "https://localhost:8080/"
        },
        "outputId": "372df52b-d3d7-4f05-e3df-e8d22e05e88a"
      },
      "source": [
        "# check distribution\n",
        "df1['target'].value_counts()"
      ],
      "execution_count": 25,
      "outputs": [
        {
          "output_type": "execute_result",
          "data": {
            "text/plain": [
              "ham     4825\n",
              "spam     747\n",
              "Name: target, dtype: int64"
            ]
          },
          "metadata": {},
          "execution_count": 25
        }
      ]
    },
    {
      "cell_type": "markdown",
      "metadata": {
        "id": "snNazefHQ3yo"
      },
      "source": [
        "Split the data into training and validation datasets."
      ]
    },
    {
      "cell_type": "code",
      "metadata": {
        "id": "i4WuVTDhArhc"
      },
      "source": [
        "# split the data and check dimensions\n",
        "\n",
        "from sklearn.model_selection import train_test_split\n",
        "\n",
        "# split data into training and validation set\n",
        "df_trn, df_val = train_test_split(df1, stratify = df1['target'], test_size = 0.3, random_state = 999)"
      ],
      "execution_count": 26,
      "outputs": []
    },
    {
      "cell_type": "code",
      "metadata": {
        "colab": {
          "base_uri": "https://localhost:8080/"
        },
        "id": "uyCkDbTRAyxk",
        "outputId": "24d654e4-99d7-4702-a9cd-551c18192eeb"
      },
      "source": [
        "df_trn.shape, df_val.shape"
      ],
      "execution_count": 27,
      "outputs": [
        {
          "output_type": "execute_result",
          "data": {
            "text/plain": [
              "((3900, 2), (1672, 2))"
            ]
          },
          "metadata": {},
          "execution_count": 27
        }
      ]
    },
    {
      "cell_type": "markdown",
      "metadata": {
        "id": "kuGx5mebBfEm"
      },
      "source": [
        "### Create the language model\n",
        "Esentially, the language model contains the structure of the language (English in this case), allowing us to quickly use in a classification model, skipping the part of learning the semantics of the language from scratch.\n",
        "\n",
        "Creating a language model from scratch can be intensive due to the sheer size of data. Instead we will download the pre-trained model, which is a neural network (NN) with an AWD_LSTM architecture. By setting pretrained = True we say to fastai to download the weights from the trained model (a corpus of 103 MM of wikipedia articles)."
      ]
    },
    {
      "cell_type": "code",
      "metadata": {
        "id": "S6yWJklsBdPp",
        "colab": {
          "base_uri": "https://localhost:8080/",
          "height": 89
        },
        "outputId": "ab919ebd-4a1c-4e5b-fc40-fed02beacc98"
      },
      "source": [
        "# create pretrained language model data\n",
        "data_lm = TextLMDataBunch.from_df(train_df = df_trn, valid_df = df_val, path = \"\")\n",
        "lang_mod = language_model_learner(data_lm,  arch = AWD_LSTM, pretrained = True, drop_mult=1.)"
      ],
      "execution_count": 28,
      "outputs": [
        {
          "output_type": "display_data",
          "data": {
            "text/plain": [
              "<IPython.core.display.HTML object>"
            ],
            "text/html": [
              "\n",
              "<style>\n",
              "    /* Turns off some styling */\n",
              "    progress {\n",
              "        /* gets rid of default border in Firefox and Opera. */\n",
              "        border: none;\n",
              "        /* Needs to be in here for Safari polyfill so background images work as expected. */\n",
              "        background-size: auto;\n",
              "    }\n",
              "    progress:not([value]), progress:not([value])::-webkit-progress-bar {\n",
              "        background: repeating-linear-gradient(45deg, #7e7e7e, #7e7e7e 10px, #5c5c5c 10px, #5c5c5c 20px);\n",
              "    }\n",
              "    .progress-bar-interrupted, .progress-bar-interrupted::-webkit-progress-bar {\n",
              "        background: #F44336;\n",
              "    }\n",
              "</style>\n"
            ]
          },
          "metadata": {}
        },
        {
          "output_type": "display_data",
          "data": {
            "text/plain": [
              "<IPython.core.display.HTML object>"
            ],
            "text/html": []
          },
          "metadata": {}
        },
        {
          "output_type": "stream",
          "name": "stderr",
          "text": [
            "/usr/local/lib/python3.7/dist-packages/fastai/core.py:302: VisibleDeprecationWarning: Creating an ndarray from ragged nested sequences (which is a list-or-tuple of lists-or-tuples-or ndarrays with different lengths or shapes) is deprecated. If you meant to do this, you must specify 'dtype=object' when creating the ndarray.\n",
            "  return np.array(a, dtype=dtype, **kwargs)\n"
          ]
        },
        {
          "output_type": "display_data",
          "data": {
            "text/plain": [
              "<IPython.core.display.HTML object>"
            ],
            "text/html": [
              "\n",
              "<style>\n",
              "    /* Turns off some styling */\n",
              "    progress {\n",
              "        /* gets rid of default border in Firefox and Opera. */\n",
              "        border: none;\n",
              "        /* Needs to be in here for Safari polyfill so background images work as expected. */\n",
              "        background-size: auto;\n",
              "    }\n",
              "    progress:not([value]), progress:not([value])::-webkit-progress-bar {\n",
              "        background: repeating-linear-gradient(45deg, #7e7e7e, #7e7e7e 10px, #5c5c5c 10px, #5c5c5c 20px);\n",
              "    }\n",
              "    .progress-bar-interrupted, .progress-bar-interrupted::-webkit-progress-bar {\n",
              "        background: #F44336;\n",
              "    }\n",
              "</style>\n"
            ]
          },
          "metadata": {}
        },
        {
          "output_type": "display_data",
          "data": {
            "text/plain": [
              "<IPython.core.display.HTML object>"
            ],
            "text/html": []
          },
          "metadata": {}
        },
        {
          "output_type": "stream",
          "name": "stdout",
          "text": [
            "Downloading https://s3.amazonaws.com/fast-ai-modelzoo/wt103-fwd.tgz\n"
          ]
        },
        {
          "output_type": "display_data",
          "data": {
            "text/plain": [
              "<IPython.core.display.HTML object>"
            ],
            "text/html": [
              "\n",
              "<style>\n",
              "    /* Turns off some styling */\n",
              "    progress {\n",
              "        /* gets rid of default border in Firefox and Opera. */\n",
              "        border: none;\n",
              "        /* Needs to be in here for Safari polyfill so background images work as expected. */\n",
              "        background-size: auto;\n",
              "    }\n",
              "    progress:not([value]), progress:not([value])::-webkit-progress-bar {\n",
              "        background: repeating-linear-gradient(45deg, #7e7e7e, #7e7e7e 10px, #5c5c5c 10px, #5c5c5c 20px);\n",
              "    }\n",
              "    .progress-bar-interrupted, .progress-bar-interrupted::-webkit-progress-bar {\n",
              "        background: #F44336;\n",
              "    }\n",
              "</style>\n"
            ]
          },
          "metadata": {}
        },
        {
          "output_type": "display_data",
          "data": {
            "text/plain": [
              "<IPython.core.display.HTML object>"
            ],
            "text/html": []
          },
          "metadata": {}
        }
      ]
    },
    {
      "cell_type": "markdown",
      "metadata": {
        "id": "lT_aVqCRB8DJ"
      },
      "source": [
        "### Testing the language model\n"
      ]
    },
    {
      "cell_type": "code",
      "metadata": {
        "id": "PlZgAMGbCZXY",
        "colab": {
          "base_uri": "https://localhost:8080/"
        },
        "outputId": "a9b375e6-2994-44f9-b651-b6e89f39cdf4"
      },
      "source": [
        "for i in range(5):\n",
        "  print(lang_mod.predict(\"The problem usually starts when\", n_words=10))"
      ],
      "execution_count": 29,
      "outputs": [
        {
          "output_type": "stream",
          "name": "stdout",
          "text": [
            "The problem usually starts when Ryan has recently wanted to sit in a car\n",
            "The problem usually starts when \n",
            "  If , in the case of the\n",
            "The problem usually starts when a police car is already off the ground , but\n",
            "The problem usually starts when it becomes a public news news . a then -\n",
            "The problem usually starts when the very end is called . This is in\n"
          ]
        }
      ]
    },
    {
      "cell_type": "markdown",
      "metadata": {
        "id": "8-9pK9cTCmFP"
      },
      "source": [
        "Each time we excecute the `predict`, we get a different random sentence, completed with the number of choosen words (`n_words`).\n",
        "\n",
        "Try your own sentences!"
      ]
    },
    {
      "cell_type": "markdown",
      "metadata": {
        "id": "Q8-HUwNYCqSO"
      },
      "source": [
        "### Fine-tuning the language model\n",
        "The language model that we have \"loaded\" is great for generating wikipedia-like sentances, but here we're more interested in generating data like our email dataset. \n",
        "\n",
        "Make sure to enable GPU for this step or it make takes several hours to train."
      ]
    },
    {
      "cell_type": "code",
      "metadata": {
        "id": "2Z6lG13vRnbo",
        "colab": {
          "base_uri": "https://localhost:8080/",
          "height": 554
        },
        "outputId": "40ab25d8-1070-4cb8-ec94-62572b1afbcf"
      },
      "source": [
        "# fine-tune language model data\n",
        "lang_mod.fit_one_cycle(4, max_lr= 5e-02)\n",
        "lang_mod.freeze_to(-1)\n",
        "lang_mod.fit_one_cycle(3, slice(1e-2/(2.6**4), 1e-2))\n",
        "lang_mod.freeze_to(-2)\n",
        "lang_mod.fit_one_cycle(3, slice(3e-3/(2.6**4), 1e-3))\n",
        "lang_mod.unfreeze()\n",
        "lang_mod.fit_one_cycle(3, slice(3e-3/(2.6**4), 1e-3))\n",
        "\n",
        "# save language model\n",
        "lang_mod.save_encoder('my_awsome_encoder')"
      ],
      "execution_count": 30,
      "outputs": [
        {
          "output_type": "display_data",
          "data": {
            "text/plain": [
              "<IPython.core.display.HTML object>"
            ],
            "text/html": [
              "\n",
              "<style>\n",
              "    /* Turns off some styling */\n",
              "    progress {\n",
              "        /* gets rid of default border in Firefox and Opera. */\n",
              "        border: none;\n",
              "        /* Needs to be in here for Safari polyfill so background images work as expected. */\n",
              "        background-size: auto;\n",
              "    }\n",
              "    progress:not([value]), progress:not([value])::-webkit-progress-bar {\n",
              "        background: repeating-linear-gradient(45deg, #7e7e7e, #7e7e7e 10px, #5c5c5c 10px, #5c5c5c 20px);\n",
              "    }\n",
              "    .progress-bar-interrupted, .progress-bar-interrupted::-webkit-progress-bar {\n",
              "        background: #F44336;\n",
              "    }\n",
              "</style>\n"
            ]
          },
          "metadata": {}
        },
        {
          "output_type": "display_data",
          "data": {
            "text/plain": [
              "<IPython.core.display.HTML object>"
            ],
            "text/html": [
              "<table border=\"1\" class=\"dataframe\">\n",
              "  <thead>\n",
              "    <tr style=\"text-align: left;\">\n",
              "      <th>epoch</th>\n",
              "      <th>train_loss</th>\n",
              "      <th>valid_loss</th>\n",
              "      <th>accuracy</th>\n",
              "      <th>time</th>\n",
              "    </tr>\n",
              "  </thead>\n",
              "  <tbody>\n",
              "    <tr>\n",
              "      <td>0</td>\n",
              "      <td>5.553376</td>\n",
              "      <td>3.853791</td>\n",
              "      <td>0.300000</td>\n",
              "      <td>00:02</td>\n",
              "    </tr>\n",
              "    <tr>\n",
              "      <td>1</td>\n",
              "      <td>4.820383</td>\n",
              "      <td>4.007055</td>\n",
              "      <td>0.271429</td>\n",
              "      <td>00:02</td>\n",
              "    </tr>\n",
              "    <tr>\n",
              "      <td>2</td>\n",
              "      <td>4.379030</td>\n",
              "      <td>3.881753</td>\n",
              "      <td>0.257143</td>\n",
              "      <td>00:02</td>\n",
              "    </tr>\n",
              "    <tr>\n",
              "      <td>3</td>\n",
              "      <td>4.065218</td>\n",
              "      <td>3.832055</td>\n",
              "      <td>0.271429</td>\n",
              "      <td>00:02</td>\n",
              "    </tr>\n",
              "  </tbody>\n",
              "</table>"
            ]
          },
          "metadata": {}
        },
        {
          "output_type": "display_data",
          "data": {
            "text/plain": [
              "<IPython.core.display.HTML object>"
            ],
            "text/html": [
              "\n",
              "<style>\n",
              "    /* Turns off some styling */\n",
              "    progress {\n",
              "        /* gets rid of default border in Firefox and Opera. */\n",
              "        border: none;\n",
              "        /* Needs to be in here for Safari polyfill so background images work as expected. */\n",
              "        background-size: auto;\n",
              "    }\n",
              "    progress:not([value]), progress:not([value])::-webkit-progress-bar {\n",
              "        background: repeating-linear-gradient(45deg, #7e7e7e, #7e7e7e 10px, #5c5c5c 10px, #5c5c5c 20px);\n",
              "    }\n",
              "    .progress-bar-interrupted, .progress-bar-interrupted::-webkit-progress-bar {\n",
              "        background: #F44336;\n",
              "    }\n",
              "</style>\n"
            ]
          },
          "metadata": {}
        },
        {
          "output_type": "display_data",
          "data": {
            "text/plain": [
              "<IPython.core.display.HTML object>"
            ],
            "text/html": [
              "<table border=\"1\" class=\"dataframe\">\n",
              "  <thead>\n",
              "    <tr style=\"text-align: left;\">\n",
              "      <th>epoch</th>\n",
              "      <th>train_loss</th>\n",
              "      <th>valid_loss</th>\n",
              "      <th>accuracy</th>\n",
              "      <th>time</th>\n",
              "    </tr>\n",
              "  </thead>\n",
              "  <tbody>\n",
              "    <tr>\n",
              "      <td>0</td>\n",
              "      <td>3.574463</td>\n",
              "      <td>3.777923</td>\n",
              "      <td>0.285714</td>\n",
              "      <td>00:02</td>\n",
              "    </tr>\n",
              "    <tr>\n",
              "      <td>1</td>\n",
              "      <td>3.552554</td>\n",
              "      <td>3.723692</td>\n",
              "      <td>0.314286</td>\n",
              "      <td>00:02</td>\n",
              "    </tr>\n",
              "    <tr>\n",
              "      <td>2</td>\n",
              "      <td>3.488541</td>\n",
              "      <td>3.729576</td>\n",
              "      <td>0.271429</td>\n",
              "      <td>00:02</td>\n",
              "    </tr>\n",
              "  </tbody>\n",
              "</table>"
            ]
          },
          "metadata": {}
        },
        {
          "output_type": "display_data",
          "data": {
            "text/plain": [
              "<IPython.core.display.HTML object>"
            ],
            "text/html": [
              "\n",
              "<style>\n",
              "    /* Turns off some styling */\n",
              "    progress {\n",
              "        /* gets rid of default border in Firefox and Opera. */\n",
              "        border: none;\n",
              "        /* Needs to be in here for Safari polyfill so background images work as expected. */\n",
              "        background-size: auto;\n",
              "    }\n",
              "    progress:not([value]), progress:not([value])::-webkit-progress-bar {\n",
              "        background: repeating-linear-gradient(45deg, #7e7e7e, #7e7e7e 10px, #5c5c5c 10px, #5c5c5c 20px);\n",
              "    }\n",
              "    .progress-bar-interrupted, .progress-bar-interrupted::-webkit-progress-bar {\n",
              "        background: #F44336;\n",
              "    }\n",
              "</style>\n"
            ]
          },
          "metadata": {}
        },
        {
          "output_type": "display_data",
          "data": {
            "text/plain": [
              "<IPython.core.display.HTML object>"
            ],
            "text/html": [
              "<table border=\"1\" class=\"dataframe\">\n",
              "  <thead>\n",
              "    <tr style=\"text-align: left;\">\n",
              "      <th>epoch</th>\n",
              "      <th>train_loss</th>\n",
              "      <th>valid_loss</th>\n",
              "      <th>accuracy</th>\n",
              "      <th>time</th>\n",
              "    </tr>\n",
              "  </thead>\n",
              "  <tbody>\n",
              "    <tr>\n",
              "      <td>0</td>\n",
              "      <td>3.417027</td>\n",
              "      <td>3.737947</td>\n",
              "      <td>0.285714</td>\n",
              "      <td>00:02</td>\n",
              "    </tr>\n",
              "    <tr>\n",
              "      <td>1</td>\n",
              "      <td>3.387839</td>\n",
              "      <td>3.735439</td>\n",
              "      <td>0.285714</td>\n",
              "      <td>00:02</td>\n",
              "    </tr>\n",
              "    <tr>\n",
              "      <td>2</td>\n",
              "      <td>3.358741</td>\n",
              "      <td>3.727376</td>\n",
              "      <td>0.257143</td>\n",
              "      <td>00:02</td>\n",
              "    </tr>\n",
              "  </tbody>\n",
              "</table>"
            ]
          },
          "metadata": {}
        },
        {
          "output_type": "display_data",
          "data": {
            "text/plain": [
              "<IPython.core.display.HTML object>"
            ],
            "text/html": [
              "\n",
              "<style>\n",
              "    /* Turns off some styling */\n",
              "    progress {\n",
              "        /* gets rid of default border in Firefox and Opera. */\n",
              "        border: none;\n",
              "        /* Needs to be in here for Safari polyfill so background images work as expected. */\n",
              "        background-size: auto;\n",
              "    }\n",
              "    progress:not([value]), progress:not([value])::-webkit-progress-bar {\n",
              "        background: repeating-linear-gradient(45deg, #7e7e7e, #7e7e7e 10px, #5c5c5c 10px, #5c5c5c 20px);\n",
              "    }\n",
              "    .progress-bar-interrupted, .progress-bar-interrupted::-webkit-progress-bar {\n",
              "        background: #F44336;\n",
              "    }\n",
              "</style>\n"
            ]
          },
          "metadata": {}
        },
        {
          "output_type": "display_data",
          "data": {
            "text/plain": [
              "<IPython.core.display.HTML object>"
            ],
            "text/html": [
              "<table border=\"1\" class=\"dataframe\">\n",
              "  <thead>\n",
              "    <tr style=\"text-align: left;\">\n",
              "      <th>epoch</th>\n",
              "      <th>train_loss</th>\n",
              "      <th>valid_loss</th>\n",
              "      <th>accuracy</th>\n",
              "      <th>time</th>\n",
              "    </tr>\n",
              "  </thead>\n",
              "  <tbody>\n",
              "    <tr>\n",
              "      <td>0</td>\n",
              "      <td>3.310079</td>\n",
              "      <td>3.743547</td>\n",
              "      <td>0.257143</td>\n",
              "      <td>00:03</td>\n",
              "    </tr>\n",
              "    <tr>\n",
              "      <td>1</td>\n",
              "      <td>3.291249</td>\n",
              "      <td>3.723637</td>\n",
              "      <td>0.271429</td>\n",
              "      <td>00:03</td>\n",
              "    </tr>\n",
              "    <tr>\n",
              "      <td>2</td>\n",
              "      <td>3.252733</td>\n",
              "      <td>3.720690</td>\n",
              "      <td>0.257143</td>\n",
              "      <td>00:03</td>\n",
              "    </tr>\n",
              "  </tbody>\n",
              "</table>"
            ]
          },
          "metadata": {}
        }
      ]
    },
    {
      "cell_type": "markdown",
      "metadata": {
        "id": "KT-Y6pB1SrGg"
      },
      "source": [
        "### Classification model\n",
        "Now we can train a classification model that will identify spam and non-spam messages. Since we used a fastai language model, it will be easier to just continue working with the fastai library."
      ]
    },
    {
      "cell_type": "code",
      "metadata": {
        "id": "MIvfaeOfTDZV",
        "colab": {
          "base_uri": "https://localhost:8080/",
          "height": 124
        },
        "outputId": "5dc5e665-60f6-4f36-fa32-0921dde36083"
      },
      "source": [
        "# Classifier model data\n",
        "data_clas = TextClasDataBunch.from_df(path = \"\", train_df = df_trn,  valid_df = df_val, vocab=data_lm.train_ds.vocab, bs=32)"
      ],
      "execution_count": 31,
      "outputs": [
        {
          "output_type": "display_data",
          "data": {
            "text/plain": [
              "<IPython.core.display.HTML object>"
            ],
            "text/html": [
              "\n",
              "<style>\n",
              "    /* Turns off some styling */\n",
              "    progress {\n",
              "        /* gets rid of default border in Firefox and Opera. */\n",
              "        border: none;\n",
              "        /* Needs to be in here for Safari polyfill so background images work as expected. */\n",
              "        background-size: auto;\n",
              "    }\n",
              "    progress:not([value]), progress:not([value])::-webkit-progress-bar {\n",
              "        background: repeating-linear-gradient(45deg, #7e7e7e, #7e7e7e 10px, #5c5c5c 10px, #5c5c5c 20px);\n",
              "    }\n",
              "    .progress-bar-interrupted, .progress-bar-interrupted::-webkit-progress-bar {\n",
              "        background: #F44336;\n",
              "    }\n",
              "</style>\n"
            ]
          },
          "metadata": {}
        },
        {
          "output_type": "display_data",
          "data": {
            "text/plain": [
              "<IPython.core.display.HTML object>"
            ],
            "text/html": []
          },
          "metadata": {}
        },
        {
          "output_type": "stream",
          "name": "stderr",
          "text": [
            "/usr/local/lib/python3.7/dist-packages/fastai/core.py:302: VisibleDeprecationWarning: Creating an ndarray from ragged nested sequences (which is a list-or-tuple of lists-or-tuples-or ndarrays with different lengths or shapes) is deprecated. If you meant to do this, you must specify 'dtype=object' when creating the ndarray.\n",
            "  return np.array(a, dtype=dtype, **kwargs)\n"
          ]
        },
        {
          "output_type": "display_data",
          "data": {
            "text/plain": [
              "<IPython.core.display.HTML object>"
            ],
            "text/html": [
              "\n",
              "<style>\n",
              "    /* Turns off some styling */\n",
              "    progress {\n",
              "        /* gets rid of default border in Firefox and Opera. */\n",
              "        border: none;\n",
              "        /* Needs to be in here for Safari polyfill so background images work as expected. */\n",
              "        background-size: auto;\n",
              "    }\n",
              "    progress:not([value]), progress:not([value])::-webkit-progress-bar {\n",
              "        background: repeating-linear-gradient(45deg, #7e7e7e, #7e7e7e 10px, #5c5c5c 10px, #5c5c5c 20px);\n",
              "    }\n",
              "    .progress-bar-interrupted, .progress-bar-interrupted::-webkit-progress-bar {\n",
              "        background: #F44336;\n",
              "    }\n",
              "</style>\n"
            ]
          },
          "metadata": {}
        },
        {
          "output_type": "display_data",
          "data": {
            "text/plain": [
              "<IPython.core.display.HTML object>"
            ],
            "text/html": []
          },
          "metadata": {}
        },
        {
          "output_type": "stream",
          "name": "stderr",
          "text": [
            "/usr/local/lib/python3.7/dist-packages/fastai/text/data.py:124: VisibleDeprecationWarning: Creating an ndarray from ragged nested sequences (which is a list-or-tuple of lists-or-tuples-or ndarrays with different lengths or shapes) is deprecated. If you meant to do this, you must specify 'dtype=object' when creating the ndarray.\n",
            "  sort_idx = np.concatenate(np.random.permutation(ck_idx[1:])) if len(ck_idx) > 1 else np.array([],dtype=np.int)\n",
            "<string>:6: VisibleDeprecationWarning: Creating an ndarray from ragged nested sequences (which is a list-or-tuple of lists-or-tuples-or ndarrays with different lengths or shapes) is deprecated. If you meant to do this, you must specify 'dtype=object' when creating the ndarray.\n"
          ]
        }
      ]
    },
    {
      "cell_type": "code",
      "metadata": {
        "id": "Kc2fiXTCTjHh",
        "colab": {
          "base_uri": "https://localhost:8080/",
          "height": 293
        },
        "outputId": "da2ca112-4aba-4ad2-91a2-73a54ac56a06"
      },
      "source": [
        "data_clas.show_batch()"
      ],
      "execution_count": 32,
      "outputs": [
        {
          "output_type": "display_data",
          "data": {
            "text/plain": [
              "<IPython.core.display.HTML object>"
            ],
            "text/html": [
              "<table border=\"1\" class=\"dataframe\">\n",
              "  <thead>\n",
              "    <tr style=\"text-align: right;\">\n",
              "      <th>text</th>\n",
              "      <th>target</th>\n",
              "    </tr>\n",
              "  </thead>\n",
              "  <tbody>\n",
              "    <tr>\n",
              "      <td>xxbos xxmaj the last thing i ever wanted to do was hurt you . xxmaj and i did n't think it would have . xxmaj you 'd laugh , be embarassed , delete the xxunk and keep going . xxmaj but as far as i knew , it was n't even up . xxmaj the fact that you even felt like i would do it to hurt you shows you</td>\n",
              "      <td>ham</td>\n",
              "    </tr>\n",
              "    <tr>\n",
              "      <td>xxbos xxmaj how to xxmaj make a girl xxmaj happy ? xxmaj it 's not at all difficult to make girls happy . u only need to be ... 1 . a friend 2 . xxmaj xxunk 3 . xxmaj lover 4 . xxmaj xxunk . . . &lt; # &gt; . xxmaj good xxunk &lt; # &gt; . xxmaj xxunk &lt; # &gt; . xxmaj good boyfriend &lt; #</td>\n",
              "      <td>ham</td>\n",
              "    </tr>\n",
              "    <tr>\n",
              "      <td>xxbos xxmaj indians r poor but xxmaj india is not a poor country . xxmaj says one of the swiss bank xxunk . xxmaj he says that \" &lt; # &gt; xxunk crore \" of xxmaj indian money is xxunk in swiss banks which can be used for ' xxunk ' budget for &lt; # &gt; yrs . xxmaj can give &lt; # &gt; crore xxunk to all xxmaj indians</td>\n",
              "      <td>ham</td>\n",
              "    </tr>\n",
              "    <tr>\n",
              "      <td>xxbos xxmaj solve d xxmaj case : a xxmaj man xxmaj was xxmaj found xxmaj murdered xxmaj on &lt; xxup decimal &gt; . &lt; # &gt; afternoon . 1,his wife called xxmaj police . 2,police questioned everyone . 3,wife : xxmaj sir , i was sleeping , when the murder took place . 4.cook : i was cooking . 5.gardener : i was picking vegetables . 6.house - xxmaj maid</td>\n",
              "      <td>ham</td>\n",
              "    </tr>\n",
              "    <tr>\n",
              "      <td>xxbos xxmaj good evening xxmaj sir , hope you are having a nice day . i wanted to bring it to your notice that i have been late in paying rent for the past few months and have had to pay a $ &lt; # &gt; charge . i felt it would be inconsiderate of me to nag about something you give at great cost to yourself and that 's</td>\n",
              "      <td>ham</td>\n",
              "    </tr>\n",
              "  </tbody>\n",
              "</table>"
            ]
          },
          "metadata": {}
        }
      ]
    },
    {
      "cell_type": "code",
      "metadata": {
        "id": "6sjwotSITjHi"
      },
      "source": [
        "# create the classifier\n",
        "learn_classifier = text_classifier_learner(data_clas, drop_mult=0.7, arch = AWD_LSTM)"
      ],
      "execution_count": 33,
      "outputs": []
    },
    {
      "cell_type": "code",
      "metadata": {
        "id": "sfzqId9jTjHi",
        "colab": {
          "base_uri": "https://localhost:8080/"
        },
        "outputId": "376ae84e-3d91-49e0-9e45-7c4736c441b5"
      },
      "source": [
        "# load language model\n",
        "learn_classifier.load_encoder('my_awsome_encoder')"
      ],
      "execution_count": 34,
      "outputs": [
        {
          "output_type": "execute_result",
          "data": {
            "text/plain": [
              "RNNLearner(data=TextClasDataBunch;\n",
              "\n",
              "Train: LabelList (3900 items)\n",
              "x: TextList\n",
              "xxbos i liked your new house,xxbos xxmaj xxunk i 'm walking in xxunk now ü faster come down ... xxmaj me very hungry ...,xxbos xxmaj wan2 win a meet+greet with xxmaj westlife 4 u or a m8 ? xxmaj they are currently on what tour ? 1)unbreakable , 2)untamed , 3)unkempt . xxmaj text 1,2 or 3 to 83049 . xxmaj cost 50p + std text,xxbos xxmaj otherwise had part time job na - tuition ..,xxbos xxmaj wait , do you know if xxunk in town ? i bet she does hella drugs !\n",
              "y: CategoryList\n",
              "ham,ham,spam,ham,ham\n",
              "Path: .;\n",
              "\n",
              "Valid: LabelList (1672 items)\n",
              "x: TextList\n",
              "xxbos xxmaj not a lot has happened here . xxmaj feels very xxunk . xxmaj xxunk is at her xxunk and xxunk is working lots . xxmaj just me and xxunk in at the mo . xxmaj how have you been ?,xxbos xxmaj the current xxunk bid is xxunk . xxmaj to xxunk this auction send xxup out . xxmaj customer xxmaj care : xxunk,xxbos xxmaj are you free xxunk i call now ?,xxbos xxmaj cold . xxmaj do nt be sad dear,xxbos xxmaj cool , text me when you 're xxunk\n",
              "y: CategoryList\n",
              "ham,spam,ham,ham,ham\n",
              "Path: .;\n",
              "\n",
              "Test: None, model=SequentialRNN(\n",
              "  (0): MultiBatchEncoder(\n",
              "    (module): AWD_LSTM(\n",
              "      (encoder): Embedding(3552, 400, padding_idx=1)\n",
              "      (encoder_dp): EmbeddingDropout(\n",
              "        (emb): Embedding(3552, 400, padding_idx=1)\n",
              "      )\n",
              "      (rnns): ModuleList(\n",
              "        (0): WeightDropout(\n",
              "          (module): LSTM(400, 1152, batch_first=True)\n",
              "        )\n",
              "        (1): WeightDropout(\n",
              "          (module): LSTM(1152, 1152, batch_first=True)\n",
              "        )\n",
              "        (2): WeightDropout(\n",
              "          (module): LSTM(1152, 400, batch_first=True)\n",
              "        )\n",
              "      )\n",
              "      (input_dp): RNNDropout()\n",
              "      (hidden_dps): ModuleList(\n",
              "        (0): RNNDropout()\n",
              "        (1): RNNDropout()\n",
              "        (2): RNNDropout()\n",
              "      )\n",
              "    )\n",
              "  )\n",
              "  (1): PoolingLinearClassifier(\n",
              "    (layers): Sequential(\n",
              "      (0): BatchNorm1d(1200, eps=1e-05, momentum=0.1, affine=True, track_running_stats=True)\n",
              "      (1): Dropout(p=0.27999999999999997, inplace=False)\n",
              "      (2): Linear(in_features=1200, out_features=50, bias=True)\n",
              "      (3): ReLU(inplace=True)\n",
              "      (4): BatchNorm1d(50, eps=1e-05, momentum=0.1, affine=True, track_running_stats=True)\n",
              "      (5): Dropout(p=0.1, inplace=False)\n",
              "      (6): Linear(in_features=50, out_features=2, bias=True)\n",
              "    )\n",
              "  )\n",
              "), opt_func=functools.partial(<class 'torch.optim.adam.Adam'>, betas=(0.9, 0.99)), loss_func=FlattenedLoss of CrossEntropyLoss(), metrics=[<function accuracy at 0x7fbe57f18a70>], true_wd=True, bn_wd=True, wd=0.01, train_bn=True, path=PosixPath('.'), model_dir='models', callback_fns=[functools.partial(<class 'fastai.basic_train.Recorder'>, add_time=True, silent=False)], callbacks=[RNNTrainer\n",
              "learn: ...\n",
              "alpha: 2.0\n",
              "beta: 1.0], layer_groups=[Sequential(\n",
              "  (0): Embedding(3552, 400, padding_idx=1)\n",
              "  (1): EmbeddingDropout(\n",
              "    (emb): Embedding(3552, 400, padding_idx=1)\n",
              "  )\n",
              "), Sequential(\n",
              "  (0): WeightDropout(\n",
              "    (module): LSTM(400, 1152, batch_first=True)\n",
              "  )\n",
              "  (1): RNNDropout()\n",
              "), Sequential(\n",
              "  (0): WeightDropout(\n",
              "    (module): LSTM(1152, 1152, batch_first=True)\n",
              "  )\n",
              "  (1): RNNDropout()\n",
              "), Sequential(\n",
              "  (0): WeightDropout(\n",
              "    (module): LSTM(1152, 400, batch_first=True)\n",
              "  )\n",
              "  (1): RNNDropout()\n",
              "), Sequential(\n",
              "  (0): PoolingLinearClassifier(\n",
              "    (layers): Sequential(\n",
              "      (0): BatchNorm1d(1200, eps=1e-05, momentum=0.1, affine=True, track_running_stats=True)\n",
              "      (1): Dropout(p=0.27999999999999997, inplace=False)\n",
              "      (2): Linear(in_features=1200, out_features=50, bias=True)\n",
              "      (3): ReLU(inplace=True)\n",
              "      (4): BatchNorm1d(50, eps=1e-05, momentum=0.1, affine=True, track_running_stats=True)\n",
              "      (5): Dropout(p=0.1, inplace=False)\n",
              "      (6): Linear(in_features=50, out_features=2, bias=True)\n",
              "    )\n",
              "  )\n",
              ")], add_time=True, silent=False)"
            ]
          },
          "metadata": {},
          "execution_count": 34
        }
      ]
    },
    {
      "cell_type": "code",
      "metadata": {
        "id": "yQzxgvqSTjHi",
        "colab": {
          "base_uri": "https://localhost:8080/",
          "height": 481
        },
        "outputId": "97d54c11-06ca-4525-937d-e352d09e0e67"
      },
      "source": [
        "# train classifier\n",
        "learn_classifier.lr_find()\n",
        "learn_classifier.recorder.plot(suggestion=True)"
      ],
      "execution_count": 35,
      "outputs": [
        {
          "output_type": "display_data",
          "data": {
            "text/plain": [
              "<IPython.core.display.HTML object>"
            ],
            "text/html": [
              "\n",
              "<style>\n",
              "    /* Turns off some styling */\n",
              "    progress {\n",
              "        /* gets rid of default border in Firefox and Opera. */\n",
              "        border: none;\n",
              "        /* Needs to be in here for Safari polyfill so background images work as expected. */\n",
              "        background-size: auto;\n",
              "    }\n",
              "    progress:not([value]), progress:not([value])::-webkit-progress-bar {\n",
              "        background: repeating-linear-gradient(45deg, #7e7e7e, #7e7e7e 10px, #5c5c5c 10px, #5c5c5c 20px);\n",
              "    }\n",
              "    .progress-bar-interrupted, .progress-bar-interrupted::-webkit-progress-bar {\n",
              "        background: #F44336;\n",
              "    }\n",
              "</style>\n"
            ]
          },
          "metadata": {}
        },
        {
          "output_type": "display_data",
          "data": {
            "text/plain": [
              "<IPython.core.display.HTML object>"
            ],
            "text/html": [
              "\n",
              "    <div>\n",
              "      <progress value='0' class='' max='1' style='width:300px; height:20px; vertical-align: middle;'></progress>\n",
              "      0.00% [0/1 00:00&lt;?]\n",
              "    </div>\n",
              "    \n",
              "<table border=\"1\" class=\"dataframe\">\n",
              "  <thead>\n",
              "    <tr style=\"text-align: left;\">\n",
              "      <th>epoch</th>\n",
              "      <th>train_loss</th>\n",
              "      <th>valid_loss</th>\n",
              "      <th>accuracy</th>\n",
              "      <th>time</th>\n",
              "    </tr>\n",
              "  </thead>\n",
              "  <tbody>\n",
              "  </tbody>\n",
              "</table><p>\n",
              "\n",
              "    <div>\n",
              "      <progress value='92' class='' max='121' style='width:300px; height:20px; vertical-align: middle;'></progress>\n",
              "      76.03% [92/121 00:01&lt;00:00 0.8225]\n",
              "    </div>\n",
              "    "
            ]
          },
          "metadata": {}
        },
        {
          "output_type": "stream",
          "name": "stderr",
          "text": [
            "/usr/local/lib/python3.7/dist-packages/fastai/text/data.py:124: VisibleDeprecationWarning: Creating an ndarray from ragged nested sequences (which is a list-or-tuple of lists-or-tuples-or ndarrays with different lengths or shapes) is deprecated. If you meant to do this, you must specify 'dtype=object' when creating the ndarray.\n",
            "  sort_idx = np.concatenate(np.random.permutation(ck_idx[1:])) if len(ck_idx) > 1 else np.array([],dtype=np.int)\n",
            "<string>:6: VisibleDeprecationWarning: Creating an ndarray from ragged nested sequences (which is a list-or-tuple of lists-or-tuples-or ndarrays with different lengths or shapes) is deprecated. If you meant to do this, you must specify 'dtype=object' when creating the ndarray.\n"
          ]
        },
        {
          "output_type": "stream",
          "name": "stdout",
          "text": [
            "LR Finder is complete, type {learner_name}.recorder.plot() to see the graph.\n",
            "Min numerical gradient: 1.00E-03\n",
            "Min loss divided by 10: 3.63E-02\n"
          ]
        },
        {
          "output_type": "display_data",
          "data": {
            "text/plain": [
              "<Figure size 432x288 with 1 Axes>"
            ],
            "image/png": "[encoded data removed]"
          },
          "metadata": {
            "needs_background": "light"
          }
        }
      ]
    },
    {
      "cell_type": "code",
      "metadata": {
        "id": "7boiRtwsTjHi",
        "colab": {
          "base_uri": "https://localhost:8080/",
          "height": 486
        },
        "outputId": "ebc76a7d-821e-4bc0-8b03-f82f9ce0b3af"
      },
      "source": [
        "learn_classifier.fit_one_cycle(5, max_lr=1e-2, moms=(0.8,0.7))"
      ],
      "execution_count": 36,
      "outputs": [
        {
          "output_type": "display_data",
          "data": {
            "text/plain": [
              "<IPython.core.display.HTML object>"
            ],
            "text/html": [
              "\n",
              "<style>\n",
              "    /* Turns off some styling */\n",
              "    progress {\n",
              "        /* gets rid of default border in Firefox and Opera. */\n",
              "        border: none;\n",
              "        /* Needs to be in here for Safari polyfill so background images work as expected. */\n",
              "        background-size: auto;\n",
              "    }\n",
              "    progress:not([value]), progress:not([value])::-webkit-progress-bar {\n",
              "        background: repeating-linear-gradient(45deg, #7e7e7e, #7e7e7e 10px, #5c5c5c 10px, #5c5c5c 20px);\n",
              "    }\n",
              "    .progress-bar-interrupted, .progress-bar-interrupted::-webkit-progress-bar {\n",
              "        background: #F44336;\n",
              "    }\n",
              "</style>\n"
            ]
          },
          "metadata": {}
        },
        {
          "output_type": "display_data",
          "data": {
            "text/plain": [
              "<IPython.core.display.HTML object>"
            ],
            "text/html": [
              "<table border=\"1\" class=\"dataframe\">\n",
              "  <thead>\n",
              "    <tr style=\"text-align: left;\">\n",
              "      <th>epoch</th>\n",
              "      <th>train_loss</th>\n",
              "      <th>valid_loss</th>\n",
              "      <th>accuracy</th>\n",
              "      <th>time</th>\n",
              "    </tr>\n",
              "  </thead>\n",
              "  <tbody>\n",
              "    <tr>\n",
              "      <td>0</td>\n",
              "      <td>0.385632</td>\n",
              "      <td>0.077828</td>\n",
              "      <td>0.977273</td>\n",
              "      <td>00:03</td>\n",
              "    </tr>\n",
              "    <tr>\n",
              "      <td>1</td>\n",
              "      <td>0.190206</td>\n",
              "      <td>0.076921</td>\n",
              "      <td>0.980861</td>\n",
              "      <td>00:03</td>\n",
              "    </tr>\n",
              "    <tr>\n",
              "      <td>2</td>\n",
              "      <td>0.114654</td>\n",
              "      <td>0.069584</td>\n",
              "      <td>0.982057</td>\n",
              "      <td>00:03</td>\n",
              "    </tr>\n",
              "    <tr>\n",
              "      <td>3</td>\n",
              "      <td>0.086208</td>\n",
              "      <td>0.073147</td>\n",
              "      <td>0.985048</td>\n",
              "      <td>00:03</td>\n",
              "    </tr>\n",
              "    <tr>\n",
              "      <td>4</td>\n",
              "      <td>0.075583</td>\n",
              "      <td>0.087191</td>\n",
              "      <td>0.980861</td>\n",
              "      <td>00:03</td>\n",
              "    </tr>\n",
              "  </tbody>\n",
              "</table>"
            ]
          },
          "metadata": {}
        },
        {
          "output_type": "stream",
          "name": "stderr",
          "text": [
            "/usr/local/lib/python3.7/dist-packages/fastai/text/data.py:124: VisibleDeprecationWarning: Creating an ndarray from ragged nested sequences (which is a list-or-tuple of lists-or-tuples-or ndarrays with different lengths or shapes) is deprecated. If you meant to do this, you must specify 'dtype=object' when creating the ndarray.\n",
            "  sort_idx = np.concatenate(np.random.permutation(ck_idx[1:])) if len(ck_idx) > 1 else np.array([],dtype=np.int)\n",
            "<string>:6: VisibleDeprecationWarning: Creating an ndarray from ragged nested sequences (which is a list-or-tuple of lists-or-tuples-or ndarrays with different lengths or shapes) is deprecated. If you meant to do this, you must specify 'dtype=object' when creating the ndarray.\n",
            "/usr/local/lib/python3.7/dist-packages/fastai/text/data.py:124: VisibleDeprecationWarning: Creating an ndarray from ragged nested sequences (which is a list-or-tuple of lists-or-tuples-or ndarrays with different lengths or shapes) is deprecated. If you meant to do this, you must specify 'dtype=object' when creating the ndarray.\n",
            "  sort_idx = np.concatenate(np.random.permutation(ck_idx[1:])) if len(ck_idx) > 1 else np.array([],dtype=np.int)\n",
            "<string>:6: VisibleDeprecationWarning: Creating an ndarray from ragged nested sequences (which is a list-or-tuple of lists-or-tuples-or ndarrays with different lengths or shapes) is deprecated. If you meant to do this, you must specify 'dtype=object' when creating the ndarray.\n",
            "/usr/local/lib/python3.7/dist-packages/fastai/text/data.py:124: VisibleDeprecationWarning: Creating an ndarray from ragged nested sequences (which is a list-or-tuple of lists-or-tuples-or ndarrays with different lengths or shapes) is deprecated. If you meant to do this, you must specify 'dtype=object' when creating the ndarray.\n",
            "  sort_idx = np.concatenate(np.random.permutation(ck_idx[1:])) if len(ck_idx) > 1 else np.array([],dtype=np.int)\n",
            "<string>:6: VisibleDeprecationWarning: Creating an ndarray from ragged nested sequences (which is a list-or-tuple of lists-or-tuples-or ndarrays with different lengths or shapes) is deprecated. If you meant to do this, you must specify 'dtype=object' when creating the ndarray.\n",
            "/usr/local/lib/python3.7/dist-packages/fastai/text/data.py:124: VisibleDeprecationWarning: Creating an ndarray from ragged nested sequences (which is a list-or-tuple of lists-or-tuples-or ndarrays with different lengths or shapes) is deprecated. If you meant to do this, you must specify 'dtype=object' when creating the ndarray.\n",
            "  sort_idx = np.concatenate(np.random.permutation(ck_idx[1:])) if len(ck_idx) > 1 else np.array([],dtype=np.int)\n",
            "<string>:6: VisibleDeprecationWarning: Creating an ndarray from ragged nested sequences (which is a list-or-tuple of lists-or-tuples-or ndarrays with different lengths or shapes) is deprecated. If you meant to do this, you must specify 'dtype=object' when creating the ndarray.\n",
            "/usr/local/lib/python3.7/dist-packages/fastai/text/data.py:124: VisibleDeprecationWarning: Creating an ndarray from ragged nested sequences (which is a list-or-tuple of lists-or-tuples-or ndarrays with different lengths or shapes) is deprecated. If you meant to do this, you must specify 'dtype=object' when creating the ndarray.\n",
            "  sort_idx = np.concatenate(np.random.permutation(ck_idx[1:])) if len(ck_idx) > 1 else np.array([],dtype=np.int)\n",
            "<string>:6: VisibleDeprecationWarning: Creating an ndarray from ragged nested sequences (which is a list-or-tuple of lists-or-tuples-or ndarrays with different lengths or shapes) is deprecated. If you meant to do this, you must specify 'dtype=object' when creating the ndarray.\n"
          ]
        }
      ]
    },
    {
      "cell_type": "code",
      "metadata": {
        "id": "ToR6na02TjHi",
        "colab": {
          "base_uri": "https://localhost:8080/",
          "height": 279
        },
        "outputId": "8b023f2a-2c36-4d28-845a-a8d2942c1719"
      },
      "source": [
        "learn_classifier.recorder.plot_losses()"
      ],
      "execution_count": 37,
      "outputs": [
        {
          "output_type": "display_data",
          "data": {
            "text/plain": [
              "<Figure size 432x288 with 1 Axes>"
            ],
            "image/png": "[encoded data removed]"
          },
          "metadata": {
            "needs_background": "light"
          }
        }
      ]
    },
    {
      "cell_type": "code",
      "metadata": {
        "id": "BLHJl3oQTjHi",
        "colab": {
          "base_uri": "https://localhost:8080/",
          "height": 481
        },
        "outputId": "f191d63b-2f13-4d23-a417-bbe74dd6d81a"
      },
      "source": [
        "lang_mod.freeze_to(-1)\n",
        "\n",
        "learn_classifier.lr_find()\n",
        "learn_classifier.recorder.plot(suggestion=True)"
      ],
      "execution_count": 38,
      "outputs": [
        {
          "output_type": "display_data",
          "data": {
            "text/plain": [
              "<IPython.core.display.HTML object>"
            ],
            "text/html": [
              "\n",
              "<style>\n",
              "    /* Turns off some styling */\n",
              "    progress {\n",
              "        /* gets rid of default border in Firefox and Opera. */\n",
              "        border: none;\n",
              "        /* Needs to be in here for Safari polyfill so background images work as expected. */\n",
              "        background-size: auto;\n",
              "    }\n",
              "    progress:not([value]), progress:not([value])::-webkit-progress-bar {\n",
              "        background: repeating-linear-gradient(45deg, #7e7e7e, #7e7e7e 10px, #5c5c5c 10px, #5c5c5c 20px);\n",
              "    }\n",
              "    .progress-bar-interrupted, .progress-bar-interrupted::-webkit-progress-bar {\n",
              "        background: #F44336;\n",
              "    }\n",
              "</style>\n"
            ]
          },
          "metadata": {}
        },
        {
          "output_type": "display_data",
          "data": {
            "text/plain": [
              "<IPython.core.display.HTML object>"
            ],
            "text/html": [
              "\n",
              "    <div>\n",
              "      <progress value='0' class='' max='1' style='width:300px; height:20px; vertical-align: middle;'></progress>\n",
              "      0.00% [0/1 00:00&lt;?]\n",
              "    </div>\n",
              "    \n",
              "<table border=\"1\" class=\"dataframe\">\n",
              "  <thead>\n",
              "    <tr style=\"text-align: left;\">\n",
              "      <th>epoch</th>\n",
              "      <th>train_loss</th>\n",
              "      <th>valid_loss</th>\n",
              "      <th>accuracy</th>\n",
              "      <th>time</th>\n",
              "    </tr>\n",
              "  </thead>\n",
              "  <tbody>\n",
              "  </tbody>\n",
              "</table><p>\n",
              "\n",
              "    <div>\n",
              "      <progress value='78' class='' max='121' style='width:300px; height:20px; vertical-align: middle;'></progress>\n",
              "      64.46% [78/121 00:01&lt;00:01 0.0916]\n",
              "    </div>\n",
              "    "
            ]
          },
          "metadata": {}
        },
        {
          "output_type": "stream",
          "name": "stderr",
          "text": [
            "/usr/local/lib/python3.7/dist-packages/fastai/text/data.py:124: VisibleDeprecationWarning: Creating an ndarray from ragged nested sequences (which is a list-or-tuple of lists-or-tuples-or ndarrays with different lengths or shapes) is deprecated. If you meant to do this, you must specify 'dtype=object' when creating the ndarray.\n",
            "  sort_idx = np.concatenate(np.random.permutation(ck_idx[1:])) if len(ck_idx) > 1 else np.array([],dtype=np.int)\n",
            "<string>:6: VisibleDeprecationWarning: Creating an ndarray from ragged nested sequences (which is a list-or-tuple of lists-or-tuples-or ndarrays with different lengths or shapes) is deprecated. If you meant to do this, you must specify 'dtype=object' when creating the ndarray.\n"
          ]
        },
        {
          "output_type": "stream",
          "name": "stdout",
          "text": [
            "LR Finder is complete, type {learner_name}.recorder.plot() to see the graph.\n",
            "Min numerical gradient: 1.10E-06\n",
            "Min loss divided by 10: 1.45E-04\n"
          ]
        },
        {
          "output_type": "display_data",
          "data": {
            "text/plain": [
              "<Figure size 432x288 with 1 Axes>"
            ],
            "image/png": "[encoded data removed]"
          },
          "metadata": {
            "needs_background": "light"
          }
        }
      ]
    },
    {
      "cell_type": "markdown",
      "metadata": {
        "id": "ZyADkr6yTyG9"
      },
      "source": [
        "Test out the classification model on spam and non-spam examples."
      ]
    },
    {
      "cell_type": "code",
      "metadata": {
        "colab": {
          "base_uri": "https://localhost:8080/"
        },
        "id": "Y_KKaOnrTjHj",
        "outputId": "51cacb26-1c8c-44e4-a2a4-2c985fa56b8b"
      },
      "source": [
        "# predict\n",
        "learn_classifier.predict('did you buy the groceries for dinner? :)')"
      ],
      "execution_count": 39,
      "outputs": [
        {
          "output_type": "execute_result",
          "data": {
            "text/plain": [
              "(Category tensor(0), tensor(0), tensor([0.9989, 0.0011]))"
            ]
          },
          "metadata": {},
          "execution_count": 39
        }
      ]
    },
    {
      "cell_type": "code",
      "metadata": {
        "colab": {
          "base_uri": "https://localhost:8080/"
        },
        "id": "A8Xv4N9STjHj",
        "outputId": "3b701717-0f5f-4688-ba81-f87f39460346"
      },
      "source": [
        "# predict\n",
        "learn_classifier.predict('Free entry call back now')"
      ],
      "execution_count": 40,
      "outputs": [
        {
          "output_type": "execute_result",
          "data": {
            "text/plain": [
              "(Category tensor(0), tensor(0), tensor([0.7487, 0.2513]))"
            ]
          },
          "metadata": {},
          "execution_count": 40
        }
      ]
    },
    {
      "cell_type": "markdown",
      "metadata": {
        "id": "gcUOVjveT8Xu"
      },
      "source": [
        "Next we will evaluate on all of our validation data."
      ]
    },
    {
      "cell_type": "code",
      "metadata": {
        "colab": {
          "base_uri": "https://localhost:8080/",
          "height": 34
        },
        "id": "jkvU1PvTTjHj",
        "outputId": "c7cefcf5-86d2-43e9-f0ae-70e74add1764"
      },
      "source": [
        "# get predictions from validation\n",
        "valid_preds, valid_label=learn_classifier.get_preds(ds_type=DatasetType.Valid, ordered=True)\n",
        "valid_preds.shape"
      ],
      "execution_count": 41,
      "outputs": [
        {
          "output_type": "display_data",
          "data": {
            "text/plain": [
              "<IPython.core.display.HTML object>"
            ],
            "text/html": [
              "\n",
              "<style>\n",
              "    /* Turns off some styling */\n",
              "    progress {\n",
              "        /* gets rid of default border in Firefox and Opera. */\n",
              "        border: none;\n",
              "        /* Needs to be in here for Safari polyfill so background images work as expected. */\n",
              "        background-size: auto;\n",
              "    }\n",
              "    progress:not([value]), progress:not([value])::-webkit-progress-bar {\n",
              "        background: repeating-linear-gradient(45deg, #7e7e7e, #7e7e7e 10px, #5c5c5c 10px, #5c5c5c 20px);\n",
              "    }\n",
              "    .progress-bar-interrupted, .progress-bar-interrupted::-webkit-progress-bar {\n",
              "        background: #F44336;\n",
              "    }\n",
              "</style>\n"
            ]
          },
          "metadata": {}
        },
        {
          "output_type": "display_data",
          "data": {
            "text/plain": [
              "<IPython.core.display.HTML object>"
            ],
            "text/html": []
          },
          "metadata": {}
        },
        {
          "output_type": "execute_result",
          "data": {
            "text/plain": [
              "torch.Size([1672, 2])"
            ]
          },
          "metadata": {},
          "execution_count": 41
        }
      ]
    },
    {
      "cell_type": "markdown",
      "metadata": {
        "id": "s4UopYcrWw38"
      },
      "source": [
        "## Part 1. Evaluate Performance [10pt]\n",
        "\n",
        "### Part (a) [5pt]\n",
        "\n",
        "Implement the above helper code for spam detection. \n",
        "\n",
        "What is the accuracy obtained with ULMFiT? How does ULMFiT compare to the approach in the first part using only LSTM?"
      ]
    },
    {
      "cell_type": "code",
      "source": [
        "def data_conver(data):\n",
        "  label, msg = [], []\n",
        "  for i in range(len(data)):\n",
        "    label.append(0 if data[i].label == 0 else 1)\n",
        "    msg.append(data[i].sms)\n",
        "    \n",
        "  df = pd.DataFrame({'target': label, 'text': msg})\n",
        "  return df\n",
        "\n",
        "df_trn = data_conver(train)\n",
        "df_val = data_conver(valid)\n",
        "df_test = data_conver(test)"
      ],
      "metadata": {
        "id": "4yHQ6CZ8taeL"
      },
      "execution_count": 42,
      "outputs": []
    },
    {
      "cell_type": "code",
      "metadata": {
        "id": "hJFv4ywTWw4F",
        "colab": {
          "base_uri": "https://localhost:8080/",
          "height": 141
        },
        "outputId": "dfedc685-8e2f-488e-94d9-85ea6d71fc3a"
      },
      "source": [
        "eval_data = TextClasDataBunch.from_df(path = \"\", train_df = df_trn, valid_df = df_val, test_df = df_test, vocab=data_lm.train_ds.vocab, bs=32)\n",
        "learn_classifier.data = eval_data\n",
        "test_pred, test_label=learn_classifier.get_preds(ds_type=DatasetType.Test, ordered=True)\n",
        "test_pred = torch.argmax(test_pred, dim=1)    \n",
        "accuracy = np.mean([i == k for i, k in zip(test_pred, df_test['target'].values)])\n",
        "\n",
        "print('Accuracy on testing dataset: ',accuracy)"
      ],
      "execution_count": 43,
      "outputs": [
        {
          "output_type": "display_data",
          "data": {
            "text/plain": [
              "<IPython.core.display.HTML object>"
            ],
            "text/html": [
              "\n",
              "<style>\n",
              "    /* Turns off some styling */\n",
              "    progress {\n",
              "        /* gets rid of default border in Firefox and Opera. */\n",
              "        border: none;\n",
              "        /* Needs to be in here for Safari polyfill so background images work as expected. */\n",
              "        background-size: auto;\n",
              "    }\n",
              "    progress:not([value]), progress:not([value])::-webkit-progress-bar {\n",
              "        background: repeating-linear-gradient(45deg, #7e7e7e, #7e7e7e 10px, #5c5c5c 10px, #5c5c5c 20px);\n",
              "    }\n",
              "    .progress-bar-interrupted, .progress-bar-interrupted::-webkit-progress-bar {\n",
              "        background: #F44336;\n",
              "    }\n",
              "</style>\n"
            ]
          },
          "metadata": {}
        },
        {
          "output_type": "display_data",
          "data": {
            "text/plain": [
              "<IPython.core.display.HTML object>"
            ],
            "text/html": []
          },
          "metadata": {}
        },
        {
          "output_type": "stream",
          "name": "stderr",
          "text": [
            "/usr/local/lib/python3.7/dist-packages/fastai/core.py:302: VisibleDeprecationWarning: Creating an ndarray from ragged nested sequences (which is a list-or-tuple of lists-or-tuples-or ndarrays with different lengths or shapes) is deprecated. If you meant to do this, you must specify 'dtype=object' when creating the ndarray.\n",
            "  return np.array(a, dtype=dtype, **kwargs)\n"
          ]
        },
        {
          "output_type": "display_data",
          "data": {
            "text/plain": [
              "<IPython.core.display.HTML object>"
            ],
            "text/html": [
              "\n",
              "<style>\n",
              "    /* Turns off some styling */\n",
              "    progress {\n",
              "        /* gets rid of default border in Firefox and Opera. */\n",
              "        border: none;\n",
              "        /* Needs to be in here for Safari polyfill so background images work as expected. */\n",
              "        background-size: auto;\n",
              "    }\n",
              "    progress:not([value]), progress:not([value])::-webkit-progress-bar {\n",
              "        background: repeating-linear-gradient(45deg, #7e7e7e, #7e7e7e 10px, #5c5c5c 10px, #5c5c5c 20px);\n",
              "    }\n",
              "    .progress-bar-interrupted, .progress-bar-interrupted::-webkit-progress-bar {\n",
              "        background: #F44336;\n",
              "    }\n",
              "</style>\n"
            ]
          },
          "metadata": {}
        },
        {
          "output_type": "display_data",
          "data": {
            "text/plain": [
              "<IPython.core.display.HTML object>"
            ],
            "text/html": []
          },
          "metadata": {}
        },
        {
          "output_type": "display_data",
          "data": {
            "text/plain": [
              "<IPython.core.display.HTML object>"
            ],
            "text/html": [
              "\n",
              "<style>\n",
              "    /* Turns off some styling */\n",
              "    progress {\n",
              "        /* gets rid of default border in Firefox and Opera. */\n",
              "        border: none;\n",
              "        /* Needs to be in here for Safari polyfill so background images work as expected. */\n",
              "        background-size: auto;\n",
              "    }\n",
              "    progress:not([value]), progress:not([value])::-webkit-progress-bar {\n",
              "        background: repeating-linear-gradient(45deg, #7e7e7e, #7e7e7e 10px, #5c5c5c 10px, #5c5c5c 20px);\n",
              "    }\n",
              "    .progress-bar-interrupted, .progress-bar-interrupted::-webkit-progress-bar {\n",
              "        background: #F44336;\n",
              "    }\n",
              "</style>\n"
            ]
          },
          "metadata": {}
        },
        {
          "output_type": "display_data",
          "data": {
            "text/plain": [
              "<IPython.core.display.HTML object>"
            ],
            "text/html": []
          },
          "metadata": {}
        },
        {
          "output_type": "stream",
          "name": "stderr",
          "text": [
            "/usr/local/lib/python3.7/dist-packages/fastai/text/data.py:124: VisibleDeprecationWarning: Creating an ndarray from ragged nested sequences (which is a list-or-tuple of lists-or-tuples-or ndarrays with different lengths or shapes) is deprecated. If you meant to do this, you must specify 'dtype=object' when creating the ndarray.\n",
            "  sort_idx = np.concatenate(np.random.permutation(ck_idx[1:])) if len(ck_idx) > 1 else np.array([],dtype=np.int)\n",
            "<string>:6: VisibleDeprecationWarning: Creating an ndarray from ragged nested sequences (which is a list-or-tuple of lists-or-tuples-or ndarrays with different lengths or shapes) is deprecated. If you meant to do this, you must specify 'dtype=object' when creating the ndarray.\n"
          ]
        },
        {
          "output_type": "display_data",
          "data": {
            "text/plain": [
              "<IPython.core.display.HTML object>"
            ],
            "text/html": [
              "\n",
              "<style>\n",
              "    /* Turns off some styling */\n",
              "    progress {\n",
              "        /* gets rid of default border in Firefox and Opera. */\n",
              "        border: none;\n",
              "        /* Needs to be in here for Safari polyfill so background images work as expected. */\n",
              "        background-size: auto;\n",
              "    }\n",
              "    progress:not([value]), progress:not([value])::-webkit-progress-bar {\n",
              "        background: repeating-linear-gradient(45deg, #7e7e7e, #7e7e7e 10px, #5c5c5c 10px, #5c5c5c 20px);\n",
              "    }\n",
              "    .progress-bar-interrupted, .progress-bar-interrupted::-webkit-progress-bar {\n",
              "        background: #F44336;\n",
              "    }\n",
              "</style>\n"
            ]
          },
          "metadata": {}
        },
        {
          "output_type": "display_data",
          "data": {
            "text/plain": [
              "<IPython.core.display.HTML object>"
            ],
            "text/html": []
          },
          "metadata": {}
        },
        {
          "output_type": "stream",
          "name": "stdout",
          "text": [
            "Accuracy on testing dataset:  0.9721723518850988\n"
          ]
        }
      ]
    },
    {
      "cell_type": "markdown",
      "metadata": {
        "id": "ybdyEKx5Ww4F"
      },
      "source": [
        "### Part (b) [5pt]\n",
        "Provide a confusion matrix of the performance for the two models. How do they compare? Are there any qualitative differences between the performances (i.e. examine the samples for which the models differred)?"
      ]
    },
    {
      "cell_type": "code",
      "metadata": {
        "id": "vuxLCHhFWw4F"
      },
      "source": [
        "import matplotlib.pyplot as plt\n",
        "from sklearn.metrics import confusion_matrix\n",
        "def con_mat(y_true, y_pred, classes,\n",
        "                          normalize=False,\n",
        "                          title=None,\n",
        "                          cmap=plt.cm.Blues):\n",
        "    \"\"\"\n",
        "    This function prints and plots the confusion matrix.\n",
        "    \"\"\"\n",
        "    if not title:\n",
        "        if normalize:\n",
        "            title = 'Normalized confusion matrix'\n",
        "        else:\n",
        "            title = 'Confusion matrix, without normalization'\n",
        "\n",
        "    # Compute confusion matrix\n",
        "    cm = confusion_matrix(y_true, y_pred)\n",
        "\n",
        "    fig, ax = plt.subplots()\n",
        "    im = ax.imshow(cm, interpolation='nearest', cmap=cmap)\n",
        "    ax.figure.colorbar(im, ax=ax)\n",
        "    ax.set(xticks=np.arange(cm.shape[1]),\n",
        "           yticks=np.arange(cm.shape[0]),\n",
        "           # ... and label them with the respective list entries\n",
        "           xticklabels=classes, yticklabels=classes,\n",
        "           title=title,\n",
        "           ylabel='True label',\n",
        "           xlabel='Predicted label')\n",
        "\n",
        "    # Rotate the tick labels and set their alignment.\n",
        "    plt.setp(ax.get_xticklabels(), rotation=45, ha=\"right\",\n",
        "             rotation_mode=\"anchor\")\n",
        "\n",
        "    # Loop over data dimensions and create text annotations.\n",
        "    fmt = '.2f' if normalize else 'd'\n",
        "    thresh = cm.max() / 2.\n",
        "    for i in range(cm.shape[0]):\n",
        "        for j in range(cm.shape[1]):\n",
        "            ax.text(j, i, format(cm[i, j], fmt),\n",
        "                    ha=\"center\", va=\"center\",\n",
        "                    color=\"white\" if cm[i, j] > thresh else \"black\")\n",
        "    fig.tight_layout()\n",
        "    return ax"
      ],
      "execution_count": 48,
      "outputs": []
    },
    {
      "cell_type": "code",
      "source": [
        "print('Confusion matrix for ULMFiT model: ')\n",
        "con_mat(df_test['target'].values,test_pred, classes=['nonspam','spam'])\n",
        "plt.show()"
      ],
      "metadata": {
        "id": "v6Ceg4SbumT6",
        "colab": {
          "base_uri": "https://localhost:8080/",
          "height": 314
        },
        "outputId": "55c09d70-288e-4451-9d50-5d74038dcf0a"
      },
      "execution_count": 49,
      "outputs": [
        {
          "output_type": "stream",
          "name": "stdout",
          "text": [
            "Confusion matrix for ULMFiT model: \n"
          ]
        },
        {
          "output_type": "display_data",
          "data": {
            "text/plain": [
              "<Figure size 432x288 with 2 Axes>"
            ],
            "image/png": "[encoded data removed]"
          },
          "metadata": {
            "needs_background": "light"
          }
        }
      ]
    },
    {
      "cell_type": "code",
      "source": [
        "test_iter = torchtext.legacy.data.BucketIterator(test,\n",
        "                    batch_size=32,\n",
        "                    sort_key=lambda x: len(x.sms), \n",
        "                    sort_within_batch=True,        \n",
        "                    repeat=False) \n",
        "labels = []\n",
        "preds = []\n",
        "for msg, label in test_iter:\n",
        "    msg = msg[0]\n",
        "    #############################################\n",
        "    #To Enable GPU Usage\n",
        "    if torch.cuda.is_available():\n",
        "      msg = msg.cuda()\n",
        "      label = label.cuda()\n",
        "    #############################################\n",
        "    output = model_MyRNN_max(msg)\n",
        "    pred = output.max(1, keepdim=True)[1]\n",
        "    labels.append(label.cpu().detach().numpy())\n",
        "    preds.append(pred.cpu().detach().numpy())\n",
        "\n",
        "labels = np.concatenate(labels).ravel()\n",
        "preds = np.concatenate(preds).ravel()\n",
        "\n",
        "\n",
        "print('Confusion matrix for RNN model: ')\n",
        "con_mat(labels, preds, classes=['nonspam','spam'])\n",
        "plt.show()"
      ],
      "metadata": {
        "id": "ux-sIWYBwIn5",
        "colab": {
          "base_uri": "https://localhost:8080/",
          "height": 314
        },
        "outputId": "fe1fdcc4-8848-4808-84b7-858f06ce1141"
      },
      "execution_count": 54,
      "outputs": [
        {
          "output_type": "stream",
          "name": "stdout",
          "text": [
            "Confusion matrix for RNN model: \n"
          ]
        },
        {
          "output_type": "display_data",
          "data": {
            "text/plain": [
              "<Figure size 432x288 with 2 Axes>"
            ],
            "image/png": "[encoded data removed]"
          },
          "metadata": {
            "needs_background": "light"
          }
        }
      ]
    },
    {
      "cell_type": "markdown",
      "source": [
        "ULMFiT model is better at detecting nonspam message with lower FPR, while my RNN_max-pooling model is better at detecting spam message with lower FNR. "
      ],
      "metadata": {
        "id": "0mnDptlomZ5S"
      }
    },
    {
      "cell_type": "markdown",
      "metadata": {
        "id": "F9BpSLGBWw4F"
      },
      "source": [
        "## Part 2. Evaluate on New Data [10pt]\n",
        "\n",
        "### Part (a) [4pt]\n",
        "What is your model's prediction of the probability that the SMS message \"machine learning is sooo cool!\" is spam?"
      ]
    },
    {
      "cell_type": "code",
      "metadata": {
        "id": "Ho0F4VMCnzXR"
      },
      "source": [
        "probs = learn_classifier.predict('machine learning is sooo cool!')"
      ],
      "execution_count": 55,
      "outputs": []
    },
    {
      "cell_type": "code",
      "source": [
        "print('The probablity this message is spam: {}%'.format(probs[2][1]*100))"
      ],
      "metadata": {
        "id": "r4GflrNGwTvH",
        "colab": {
          "base_uri": "https://localhost:8080/"
        },
        "outputId": "dc7ba0f1-e491-4d8e-cb2e-dcb309788180"
      },
      "execution_count": 56,
      "outputs": [
        {
          "output_type": "stream",
          "name": "stdout",
          "text": [
            "The probablity this message is spam: 1.1118834152001877e-11%\n"
          ]
        }
      ]
    },
    {
      "cell_type": "markdown",
      "metadata": {
        "id": "H4FlSj_Mn2yY"
      },
      "source": [
        "### Part (b) [3 pt] \n",
        "Load 5 sample sentences from your spam mail and test it out out the two models you created. How well do they perform?"
      ]
    },
    {
      "cell_type": "code",
      "metadata": {
        "id": "y3DCyMW_n05f"
      },
      "source": [
        "def eval_spam(msg):\n",
        "    probs = learn_classifier.predict(msg)[2][1].item()\n",
        "    print('Probability of ULMFiT on spam message: {}'.format(probs))\n",
        "\n",
        "    rnn_probs = spam_pred(msg, model_MyRNN_max)\n",
        "    rnn_prob = rnn_probs[1].cpu().detach().numpy()\n",
        "    print('Probability of RNN on spam message: {}'.format(rnn_prob))"
      ],
      "execution_count": 57,
      "outputs": []
    },
    {
      "cell_type": "code",
      "source": [
        "spam_lst = [\"Congratulations! You've won a $1000 Walmart gift card. Go to http://bit.ly/123456 tp claim now\",\n",
        "       \"Hello, your FEDDEX package with tracking code DZ-8342-FY34 is waiting for you to set delivery preference: c4lrs.info/GM08s43vz1\",\n",
        "       \"Amazon is sending you a refunding of $32.64. Please reply with your bank account and routing number to receive your refund.\",\n",
        "       \"Wells Fargo Bank: Your account is temporarily locked. Please log in at http://goo.gl/2a234 to secure your account\",\n",
        "       \"Your IRS tax refund is pending acceptance. Must accept within 24 hours: http://bit.ly/sdfsdf\"\n",
        "      ]"
      ],
      "metadata": {
        "id": "pKH3AYrywcFC"
      },
      "execution_count": 58,
      "outputs": []
    },
    {
      "cell_type": "code",
      "source": [
        "for i in spam_lst:\n",
        "  eval_spam(i)"
      ],
      "metadata": {
        "id": "vcp9Tu1Iwd4l",
        "colab": {
          "base_uri": "https://localhost:8080/"
        },
        "outputId": "9e5c78d1-ffa7-4492-85f5-443ea147ede9"
      },
      "execution_count": 59,
      "outputs": [
        {
          "output_type": "stream",
          "name": "stdout",
          "text": [
            "Probability of ULMFiT on spam message: 0.9381364583969116\n",
            "Probability of RNN on spam message: 0.9980781078338623\n",
            "Probability of ULMFiT on spam message: 0.5382256507873535\n",
            "Probability of RNN on spam message: 0.9964069724082947\n",
            "Probability of ULMFiT on spam message: 0.15373805165290833\n",
            "Probability of RNN on spam message: 0.007640365976840258\n",
            "Probability of ULMFiT on spam message: 0.6529828310012817\n",
            "Probability of RNN on spam message: 0.9918527007102966\n",
            "Probability of ULMFiT on spam message: 0.4966866970062256\n",
            "Probability of RNN on spam message: 0.977655291557312\n"
          ]
        }
      ]
    },
    {
      "cell_type": "markdown",
      "source": [
        "Overall, the RNN_max pooling model perform bettter with higher accuracy."
      ],
      "metadata": {
        "id": "a5gSzVxurFQz"
      }
    },
    {
      "cell_type": "markdown",
      "metadata": {
        "id": "646WjsAwWw4F"
      },
      "source": [
        "### Part (c) [3pt]\n",
        "Load 5 sample sentences from your regular mail and test it out out the two models you created. How well do they perform?"
      ]
    },
    {
      "cell_type": "code",
      "metadata": {
        "id": "0OvvnW8OWw4G"
      },
      "source": [
        "def eval_ham(msg):\n",
        "    probs = learn_classifier.predict(msg)[2][0].item()\n",
        "    print('Probability of ULMFiT on ham message: {}'.format(probs))\n",
        "\n",
        "    rnn_probs = spam_pred(msg, model_MyRNN_max)\n",
        "    rnn_prob = rnn_probs[0].cpu().detach().numpy()\n",
        "    print('Probability of RNN on ham message: {}'.format(rnn_prob))"
      ],
      "execution_count": 61,
      "outputs": []
    },
    {
      "cell_type": "code",
      "source": [
        "ham_lst = [\"We’re wishing you the best of luck in the next step of your career.\",\n",
        "           \"Thanks for choosing Mantle Hotels. We hope you enjoyed your stay. Please let us know how we did so we can serve you better\",\n",
        "           \"Thank you for bringing your unrelenting joy to work every day. Your smile was contagious, and I’ll try to hold onto to it in future meetings.\",\n",
        "          \"Hi! Thanks for stopping by today. We’d appreciate it if you took a moment to tell us what you like about our services and how we can improve.\",\n",
        "          \"Thanks for patronizing our jewelry store. How would you rate our service on a scale of 1-10. Kindly reply to this message with your honest answer.\"\n",
        "      ]"
      ],
      "metadata": {
        "id": "BxGuB_Mvwh1N"
      },
      "execution_count": 66,
      "outputs": []
    },
    {
      "cell_type": "code",
      "source": [
        "for i in ham_lst:\n",
        "  eval_ham(i)"
      ],
      "metadata": {
        "id": "yjdhkQORwk3s",
        "colab": {
          "base_uri": "https://localhost:8080/"
        },
        "outputId": "8a75db4d-5746-4803-ba3c-a4ddf9521e16"
      },
      "execution_count": 67,
      "outputs": [
        {
          "output_type": "stream",
          "name": "stdout",
          "text": [
            "Probability of ULMFiT on ham message: 0.9993333220481873\n",
            "Probability of RNN on ham message: 0.9967831373214722\n",
            "Probability of ULMFiT on ham message: 0.9567344188690186\n",
            "Probability of RNN on ham message: 0.9931790828704834\n",
            "Probability of ULMFiT on ham message: 0.9999880790710449\n",
            "Probability of RNN on ham message: 0.998542308807373\n",
            "Probability of ULMFiT on ham message: 0.9900919795036316\n",
            "Probability of RNN on ham message: 0.9925790429115295\n",
            "Probability of ULMFiT on ham message: 0.7611426711082458\n",
            "Probability of RNN on ham message: 0.9569676518440247\n"
          ]
        }
      ]
    },
    {
      "cell_type": "markdown",
      "source": [
        "Both models perform very badly at recognizing nonspam emails that are actually customer surveys."
      ],
      "metadata": {
        "id": "d_Zhi8r_ry5a"
      }
    },
    {
      "cell_type": "markdown",
      "metadata": {
        "id": "FYwI4RmFS2RB"
      },
      "source": [
        "### Saving to HTML\n",
        "Detailed instructions for saving to HTML can be found <a href=\"https://stackoverflow.com/questions/53460051/convert-ipynb-notebook-to-html-in-google-colab/64487858#64487858\">here</a>. Provided below are a summary of the instructions:\n",
        "\n",
        "(1) download your ipynb file by clicking on File->Download.ipynb\n",
        "\n",
        "(2) reupload your file to the temporary Google Colab storage (you can access the temporary storage from the tab to the left)\n",
        "\n",
        "(3) run the following:"
      ]
    },
    {
      "cell_type": "code",
      "metadata": {
        "id": "2TrsqdNgS5ex",
        "colab": {
          "base_uri": "https://localhost:8080/"
        },
        "outputId": "fadbeb34-0b7d-4190-d837-a5ec9f276eb6"
      },
      "source": [
        "%%shell\n",
        "jupyter nbconvert --to html LAB_4_Sequential_Data.ipynb"
      ],
      "execution_count": null,
      "outputs": [
        {
          "output_type": "stream",
          "text": [
            "[NbConvertApp] Converting notebook TUT_4B_Generative_RNN.ipynb to html\n",
            "[NbConvertApp] Writing 602750 bytes to TUT_4B_Generative_RNN.html\n"
          ],
          "name": "stdout"
        },
        {
          "output_type": "execute_result",
          "data": {
            "text/plain": [
              ""
            ]
          },
          "metadata": {
            "tags": []
          },
          "execution_count": 3
        }
      ]
    },
    {
      "cell_type": "markdown",
      "metadata": {
        "id": "nuXhlFlPTY7F"
      },
      "source": [
        "(4) the html file will be available for download in the temporary Google Colab storage\n",
        "\n",
        "(5) review the html file and make sure all the results are visible before submitting your assignment to Quercus"
      ]
    }
  ]
}