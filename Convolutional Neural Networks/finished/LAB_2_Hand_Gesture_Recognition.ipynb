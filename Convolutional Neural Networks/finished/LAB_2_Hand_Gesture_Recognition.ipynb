{
  "cells": [
    {
      "cell_type": "markdown",
      "metadata": {
        "id": "X6WDvajSqIDs"
      },
      "source": [
        "# Lab 2: Hand Gesture Recognition\n",
        "\n",
        "This lab is based on an assignment developed by Prof. Lisa Zhang.\n",
        "\n",
        "This lab will be completed in two parts. In Part A you will gain experience gathering your own data set (specifically images of hand gestures), and understand the challenges involved in the data cleaning process. In Part B you will train a convolutional neural network to make classifications on different hand gestures. By the end of the lab, you should be able to:\n",
        "\n",
        "1. Generate and preprocess your own data\n",
        "2. Load and split data for training, validation and testing\n",
        "3. Train a Convolutional Neural Network\n",
        "4. Apply transfer learning to improve your model\n",
        "\n",
        "Note that for this lab we will not be providing you with any starter code. You should be able to take the code used in previous labs, tutorials and lectures and modify it accordingly to complete the tasks outlined below.\n",
        "\n",
        "### What to submit\n",
        "\n",
        "**Submission for Part A:**  \n",
        "Submit a zip file containing your images. Three images each of American Sign Language gestures for letters A - I (total of 27 images). You will be required to clean the images before submitting them. Details are provided under Part A of the handout.\n",
        "\n",
        "Individual image file names should follow the convention of student-number_Alphabet_file-number.jpg\n",
        "(e.g. 100343434_A_1.jpg).\n",
        "\n",
        "\n",
        "**Submission for Part B:**  \n",
        "Submit an HTML file containing all your code, outputs, and write-up\n",
        "from parts A and B. You can produce a HTML file directly from Google Colab. The Colab instructions are provided at the end of this document.\n",
        "\n",
        "**Do not submit any other files produced by your code.**\n",
        "\n",
        "Include a link to your colab file in your submission.\n",
        "\n",
        "Please use Google Colab to complete this assignment. If you want to use Jupyter Notebook, please complete the assignment and upload your Jupyter Notebook file to Google Colab for submission. "
      ]
    },
    {
      "cell_type": "markdown",
      "metadata": {
        "id": "LfiFE_WOqIDu"
      },
      "source": [
        "## Colab Link\n",
        "\n",
        "Include a link to your colab file here\n",
        "\n",
        "Colab Link: https://colab.research.google.com/drive/1dZrxWFxSO8qLXdLmnMC0sQi0j2VrLuz0#scrollTo=LfiFE_WOqIDu"
      ]
    },
    {
      "cell_type": "markdown",
      "metadata": {
        "id": "kvTXpH_kqIDy"
      },
      "source": [
        "# Part A. Data Collection [10 pt]\n",
        "\n",
        "So far, we have worked with data sets that have been collected, cleaned, and curated by machine learning\n",
        "researchers and practitioners. Datasets like MNIST and CIFAR are often used as toy examples, both by\n",
        "students and by researchers testing new machine learning models.\n",
        "\n",
        "In the real world, getting a clean data set is never that easy. More than half the work in applying machine\n",
        "learning is finding, gathering, cleaning, and formatting your data set.\n",
        "\n",
        "The purpose of this lab is to help you gain experience gathering your own data set, and understand the\n",
        "challenges involved in the data cleaning process.\n",
        "\n",
        "### American Sign Language\n",
        "\n",
        "American Sign Language (ASL) is a complete, complex language that employs signs made by moving the\n",
        "hands combined with facial expressions and postures of the body. It is the primary language of many\n",
        "North Americans who are deaf and is one of several communication options used by people who are deaf or\n",
        "hard-of-hearing.\n",
        "\n",
        "The hand gestures representing English alphabet are shown below. This lab focuses on classifying a subset\n",
        "of these hand gesture images using convolutional neural networks. Specifically, given an image of a hand\n",
        "showing one of the letters A-I, we want to detect which letter is being represented.\n",
        "\n",
        "![alt text](https://www.disabled-world.com/pics/1/asl-alphabet.jpg)\n",
        "\n",
        "\n",
        "### Generating Data\n",
        "We will produce the images required for this lab by ourselves. Each student will collect, clean and submit\n",
        "three images each of Americal Sign Language gestures for letters A - I (total of 27 images)\n",
        "Steps involved in data collection\n",
        "\n",
        "1. Familiarize yourself with American Sign Language gestures for letters from A - I (9 letters).\n",
        "2. Take three pictures at slightly different orientation for each letter gesture using your\n",
        "mobile phone.\n",
        " - Ensure adequate lighting while you are capturing the images.\n",
        " - Use a white wall as your background.\n",
        " - Use your right hand to create gestures (for consistency).\n",
        " - Keep your right hand fairly apart from your body and any other obstructions.\n",
        " - Avoid having shadows on parts of your hand.\n",
        "3. Transfer the images to your laptop for cleaning.\n",
        "\n",
        "### Cleaning Data\n",
        "To simplify the machine learning the task, we will standardize the training images. We will make sure that\n",
        "all our images are of the same size (224 x 224 pixels RGB), and have the hand in the center of the cropped\n",
        "regions.\n",
        "\n",
        "You may use the following applications to crop and resize your images:\n",
        "\n",
        "**Mac**\n",
        "- Use Preview:\n",
        "– Holding down CMD + Shift will keep a square aspect ratio while selecting the hand area.\n",
        "– Resize to 224x224 pixels.\n",
        "\n",
        "**Windows 10**\n",
        "- Use Photos app to edit and crop the image and keep the aspect ratio a square.\n",
        "- Use Paint to resize the image to the final image size of 224x224 pixels.\n",
        "\n",
        "**Linux**\n",
        "- You can use GIMP, imagemagick, or other tools of your choosing.\n",
        "You may also use online tools such as http://picresize.com\n",
        "All the above steps are illustrative only. You need not follow these steps but following these will ensure that\n",
        "you produce a good quality dataset. You will be judged based on the quality of the images alone.\n",
        "Please do not edit your photos in any other way. You should not need to change the aspect ratio of your\n",
        "image. You also should not digitally remove the background or shadows—instead, take photos with a white\n",
        "background and minimal shadows.\n",
        "\n",
        "### Accepted Images\n",
        "Images will be accepted and graded based on the criteria below\n",
        "1. The final image should be size 224x224 pixels (RGB).\n",
        "2. The file format should be a .jpg file.\n",
        "3. The hand should be approximately centered on the frame.\n",
        "4. The hand should not be obscured or cut off.\n",
        "5. The photos follows the ASL gestures posted earlier.\n",
        "6. The photos were not edited in any other way (e.g. no electronic removal of shadows or background).\n",
        "\n",
        "### Submission\n",
        "Submit a zip file containing your images. There should be a total of 27 images (3 for each category)\n",
        "1. Individual image file names should follow the convention of student-number_Alphabet_file-number.jpg\n",
        "(e.g. 100343434_A_1.jpg)\n",
        "2. Zip all the images together and name it with the following convention: last-name_student-number.zip\n",
        "(e.g. last-name_100343434.zip).\n",
        "3. Submit the zipped folder.\n",
        "We will be anonymizing and combining the images that everyone submits. We will announce when the\n",
        "combined data set will be available for download.\n",
        "\n",
        "![alt text](https://github.com/UTNeural/APS360/blob/master/Gesture%20Images.PNG?raw=true)"
      ]
    },
    {
      "cell_type": "markdown",
      "metadata": {
        "id": "bJxMgWGNqID2"
      },
      "source": [
        "# Part B. Building a CNN [40 pt]\n",
        "\n",
        "For this lab, we are not going to give you any starter code. You will be writing a convolutional neural network\n",
        "from scratch. You are welcome to use any code from previous labs, lectures and tutorials. You should also\n",
        "write your own code.\n",
        "\n",
        "You may use the PyTorch documentation freely. You might also find online tutorials helpful. However, all\n",
        "code that you submit must be your own.\n",
        "\n",
        "Make sure that your code is vectorized, and does not contain obvious inefficiencies (for example, unecessary\n",
        "for loops, or unnecessary calls to unsqueeze()). Ensure enough comments are included in the code so that\n",
        "your TA can understand what you are doing. It is your responsibility to show that you understand what you\n",
        "write.\n",
        "\n",
        "**This is much more challenging and time-consuming than the previous labs.** Make sure that you\n",
        "give yourself plenty of time by starting early."
      ]
    },
    {
      "cell_type": "markdown",
      "metadata": {
        "id": "MiDuQaAh56sT"
      },
      "source": [
        "### Part 1. Data Loading and Splitting [5 pt]\n",
        "\n",
        "Download the anonymized data provided on Quercus. Split the data into training, validation, and test sets.\n",
        "\n",
        "Note: Data splitting is not as trivial in this lab. We want our test set to closely resemble the setting in which\n",
        "our model will be used. In particular, our test set should contain hands that are never seen in training!\n",
        "\n",
        "Explain how you split the data, either by describing what you did, or by showing the code that you used.\n",
        "Justify your choice of splitting strategy. How many training, validation, and test images do you have?\n",
        "\n",
        "For loading the data, you can use plt.imread, or any other method that you choose. You may find\n",
        "torchvision.datasets.ImageFolder helpful. (see https://pytorch.org/docs/master/torchvision/datasets.html#imagefolder\n",
        ") "
      ]
    },
    {
      "cell_type": "code",
      "execution_count": 1,
      "metadata": {
        "id": "WBrH5kBqRLa6"
      },
      "outputs": [],
      "source": [
        "import io\n",
        "import os\n",
        "import shutil\n",
        "import numpy as np\n",
        "import torch\n",
        "import torch.nn as nn\n",
        "import torch.nn.functional as F\n",
        "import torchvision\n",
        "from torch.utils.data.sampler import SubsetRandomSampler\n",
        "from torchvision import datasets, transforms\n",
        "import torch.optim as optim\n",
        "import matplotlib.pyplot as plt\n",
        "from tqdm import tqdm"
      ]
    },
    {
      "cell_type": "code",
      "execution_count": 2,
      "metadata": {
        "colab": {
          "base_uri": "https://localhost:8080/"
        },
        "id": "RVqhg7E_uwqQ",
        "outputId": "2a975239-c95e-4b1e-9919-9cc415795b42"
      },
      "outputs": [
        {
          "output_type": "stream",
          "name": "stdout",
          "text": [
            "Mounted at /content/drive\n"
          ]
        }
      ],
      "source": [
        "# mount our Google Drive\n",
        "from google.colab import drive\n",
        "drive.mount('/content/drive')"
      ]
    },
    {
      "cell_type": "code",
      "execution_count": 3,
      "metadata": {
        "colab": {
          "base_uri": "https://localhost:8080/"
        },
        "id": "OQcBhq1OpMVm",
        "outputId": "f984c0ca-2c39-4705-a951-f33ed42c2a0c"
      },
      "outputs": [
        {
          "output_type": "stream",
          "name": "stdout",
          "text": [
            "Looking in indexes: https://pypi.org/simple, https://us-python.pkg.dev/colab-wheels/public/simple/\n",
            "Collecting split-folders\n",
            "  Downloading split_folders-0.5.1-py3-none-any.whl (8.4 kB)\n",
            "Installing collected packages: split-folders\n",
            "Successfully installed split-folders-0.5.1\n"
          ]
        }
      ],
      "source": [
        "! pip install split-folders"
      ]
    },
    {
      "cell_type": "code",
      "execution_count": 4,
      "metadata": {
        "id": "82vuBrEHqBFg"
      },
      "outputs": [],
      "source": [
        "import splitfolders"
      ]
    },
    {
      "cell_type": "code",
      "execution_count": 5,
      "metadata": {
        "colab": {
          "base_uri": "https://localhost:8080/"
        },
        "id": "yUTXYAFJqE-H",
        "outputId": "8e5cdc03-ec5d-473a-cd01-a026207a1f2e"
      },
      "outputs": [
        {
          "output_type": "stream",
          "name": "stderr",
          "text": [
            "Copying files: 2431 files [00:24, 98.03 files/s] \n"
          ]
        }
      ],
      "source": [
        "data_dir = \"/content/drive/My Drive/Colab Notebooks/MIE1517/Labs/Lab 2 - Convolutional Neural Networks/Lab_3b_Gesture_Dataset\"\n",
        "\n",
        "splitfolders.ratio(data_dir, output=\"output\", seed=1337, ratio=(0.72, 0.18,0.1))"
      ]
    },
    {
      "cell_type": "code",
      "execution_count": 6,
      "metadata": {
        "colab": {
          "base_uri": "https://localhost:8080/"
        },
        "id": "tTjf6gMpLNOW",
        "outputId": "fccd8bb5-9b90-4753-cce3-c9f7fe0a9da5"
      },
      "outputs": [
        {
          "output_type": "stream",
          "name": "stderr",
          "text": [
            "Copying files: 252 files [00:00, 5820.80 files/s]\n"
          ]
        }
      ],
      "source": [
        "data_dir_small = \"/content/output/test\"\n",
        "\n",
        "splitfolders.ratio(data_dir_small, output=\"output_small\", seed=1337, ratio=(0.72, 0.18,0.1))"
      ]
    },
    {
      "cell_type": "code",
      "execution_count": 7,
      "metadata": {
        "id": "cQd3FCpqwa1C"
      },
      "outputs": [],
      "source": [
        "split_data_dir =  '/content/output/'\n",
        "\n",
        "train_dir = os.path.join(split_data_dir, 'train/')\n",
        "val_dir = os.path.join(split_data_dir, 'val/')\n",
        "test_dir = os.path.join(split_data_dir, 'test/')"
      ]
    },
    {
      "cell_type": "code",
      "execution_count": 8,
      "metadata": {
        "id": "2T66EuHlLlrb"
      },
      "outputs": [],
      "source": [
        "split_data_dir_small =  '/content/output_small/'\n",
        "\n",
        "train_dir_small = os.path.join(split_data_dir_small, 'train/')\n",
        "val_dir_small = os.path.join(split_data_dir_small, 'val/')\n",
        "test_dir_small = os.path.join(split_data_dir_small, 'test/')"
      ]
    },
    {
      "cell_type": "code",
      "execution_count": 9,
      "metadata": {
        "id": "zHovZbXxw8YY"
      },
      "outputs": [],
      "source": [
        "data_transform = transforms.Compose([transforms.Resize([224, 224]), transforms.CenterCrop(224), transforms.ToTensor()])\n",
        "train_data = datasets.ImageFolder(train_dir, transform=data_transform)\n",
        "val_data = datasets.ImageFolder(val_dir, transform=data_transform)\n",
        "test_data = datasets.ImageFolder(test_dir, transform=data_transform)"
      ]
    },
    {
      "cell_type": "code",
      "execution_count": 10,
      "metadata": {
        "id": "VeYTxov1L2KM"
      },
      "outputs": [],
      "source": [
        "train_data_small = datasets.ImageFolder(train_dir_small, transform=data_transform)\n",
        "val_data_small = datasets.ImageFolder(val_dir_small, transform=data_transform)\n",
        "test_data_small = datasets.ImageFolder(test_dir_small, transform=data_transform)"
      ]
    },
    {
      "cell_type": "code",
      "execution_count": 11,
      "metadata": {
        "colab": {
          "base_uri": "https://localhost:8080/"
        },
        "id": "KY3_MroULurb",
        "outputId": "12c2bb3a-3b2c-40fd-8dec-9ad21b528ed0"
      },
      "outputs": [
        {
          "output_type": "stream",
          "name": "stdout",
          "text": [
            "Num training images:  1745\n",
            "Num validation images:  434\n",
            "Num testing images:  252\n"
          ]
        }
      ],
      "source": [
        "# print out some data stats\n",
        "print('Num training images: ', len(train_data))\n",
        "print('Num validation images: ', len(val_data))\n",
        "print('Num testing images: ', len(test_data))"
      ]
    },
    {
      "cell_type": "code",
      "execution_count": 12,
      "metadata": {
        "colab": {
          "base_uri": "https://localhost:8080/"
        },
        "id": "tlRbvehYMI9r",
        "outputId": "df026906-735f-4e27-a718-5ece81a022f4"
      },
      "outputs": [
        {
          "output_type": "stream",
          "name": "stdout",
          "text": [
            "Num training images in small dataset:  178\n",
            "Num validation images in small dataset:  44\n",
            "Num testing images in small dataset:  30\n"
          ]
        }
      ],
      "source": [
        "# print out some data stats\n",
        "print('Num training images in small dataset: ', len(train_data_small))\n",
        "print('Num validation images in small dataset: ', len(val_data_small))\n",
        "print('Num testing images in small dataset: ', len(test_data_small))"
      ]
    },
    {
      "cell_type": "markdown",
      "metadata": {
        "id": "T9jP_89DyW14"
      },
      "source": [
        "I split the data by using the split-folders package, and the ratio among train, validation and test data 0.72:0.18:0.1,"
      ]
    },
    {
      "cell_type": "markdown",
      "metadata": {
        "id": "5VWX4DGY5gQE"
      },
      "source": [
        "### Part 2. Model Building and Sanity Checking [9 pt]\n",
        "\n",
        "### Part (a) Convolutional Network - 3 pt\n",
        "\n",
        "Build a convolutional neural network model that takes the (224x224 RGB) image as input, and predicts the gesture\n",
        "letter. Your model should be a subclass of nn.Module. Explain your choice of neural network architecture: how\n",
        "many layers did you choose? What types of layers did you use? Were they fully-connected or convolutional?\n",
        "What about other decisions like pooling layers, activation functions, number of channels / hidden units?"
      ]
    },
    {
      "cell_type": "code",
      "execution_count": 13,
      "metadata": {
        "id": "2dtx1z5951fS"
      },
      "outputs": [],
      "source": [
        "class GestureClassifier(nn.Module):\n",
        "    def __init__(self):\n",
        "        super(GestureClassifier, self).__init__()\n",
        "        self.name = 'GestureClassifier'\n",
        "        self.conv1 = nn.Conv2d(3, 5, 5) #in_channels, out_chanels, kernel_size\n",
        "        self.pool = nn.MaxPool2d(2, 2) #kernel_size, stride \n",
        "        self.conv2 = nn.Conv2d(5, 10, 5) #in_channels, out_chanels, kernel_size\n",
        "        self.fc1 = nn.Linear(10*53*53, 32)\n",
        "        self.fc2 = nn.Linear(32, 9)\n",
        "\n",
        "    def forward(self, x):\n",
        "        x = self.pool(F.relu(self.conv1(x)))\n",
        "        x = self.pool(F.relu(self.conv2(x)))\n",
        "        x = x.view(-1, 10*53*53)\n",
        "        x = F.relu(self.fc1(x))\n",
        "        x = self.fc2(x)\n",
        "        return x"
      ]
    },
    {
      "cell_type": "markdown",
      "metadata": {
        "id": "1cKGcNuxaZ0L"
      },
      "source": [
        "My neural netwrok have 6 layers in total, which includes 2 convolutional layers, 2 max-pooling layers and 2 fully connected linear layers. The convolutional layers and max-pooling layers can quickly downsize the information and extract the useful features. I use output 5 channels in the first convolutional layer to extract the key features and increase to 10 channels in the second convolutional layer to enlarge the extracted features. The activitation I choose for the 1st fully connected linear layer is Relu function to prevent exponential growth in computation. And 32 nodes for the 1st fully connected linear layer to capature the complexities, and 9 nodes for the 2nd fully connected layer to generate the class result."
      ]
    },
    {
      "cell_type": "markdown",
      "metadata": {
        "id": "XeGvelvb515e"
      },
      "source": [
        "### Part (b) Training Code - 3 pt\n",
        "\n",
        "Write code that trains your neural network given some training data. Your training code should make it easy\n",
        "to tweak the usual hyperparameters, like batch size, learning rate, and the model object itself. Make sure\n",
        "that you are checkpointing your models from time to time (the frequency is up to you). Explain your choice\n",
        "of loss function and optimizer."
      ]
    },
    {
      "cell_type": "code",
      "execution_count": 14,
      "metadata": {
        "id": "17YTQv4l54W1"
      },
      "outputs": [],
      "source": [
        "def get_accuracy(model, data_loader):\n",
        "  correct = 0\n",
        "  total = 0\n",
        "  for imgs, labels in data_loader:\n",
        "  \n",
        "    #############################################\n",
        "    #To Enable GPU Usage\n",
        "    if use_cuda and torch.cuda.is_available():\n",
        "      imgs = imgs.cuda()\n",
        "      labels = labels.cuda()\n",
        "    #############################################\n",
        "    \n",
        "    output = model(imgs)\n",
        "    \n",
        "    #select index with maximum prediction score\n",
        "    pred = output.max(1, keepdim=True)[1]\n",
        "    correct += pred.eq(labels.view_as(pred)).sum().item()\n",
        "    total += imgs.shape[0]\n",
        "  return correct / total"
      ]
    },
    {
      "cell_type": "code",
      "execution_count": 15,
      "metadata": {
        "id": "wDJZj_PahSVD"
      },
      "outputs": [],
      "source": [
        "def save_checkpoint(model, batch_size, lr, epoch, train_small = False):\n",
        "  if train_small:\n",
        "    model_path = \"{}_{}_{}_{}_small\".format(model.name, batch_size, lr, epoch)\n",
        "  else:\n",
        "    model_path = \"{}_{}_{}_{}\".format(model.name, batch_size, lr, epoch)\n",
        "  torch.save(model, model_path)\n",
        "  print('Checkpoint of {} has been stored successfully!',format(model_path))"
      ]
    },
    {
      "cell_type": "code",
      "execution_count": 16,
      "metadata": {
        "id": "w0hjww_bi_kr"
      },
      "outputs": [],
      "source": [
        "def train(model, opt, batch_size = 64, learning_rate=0.01, epochs=30, train_small = False):\n",
        "\n",
        "  if (train_small):\n",
        "    train_loader = torch.utils.data.DataLoader(train_data_small, batch_size=batch_size, \n",
        "                                           num_workers=0, shuffle=True)\n",
        "    val_loader = torch.utils.data.DataLoader(val_data_small, batch_size=batch_size, \n",
        "                                          num_workers=0, shuffle=True)\n",
        "  else:\n",
        "    train_loader = torch.utils.data.DataLoader(train_data, batch_size=batch_size, \n",
        "                                           num_workers=0, shuffle=True)\n",
        "    val_loader = torch.utils.data.DataLoader(val_data, batch_size=batch_size, \n",
        "                                          num_workers=0, shuffle=True)\n",
        "\n",
        "  criterion = nn.CrossEntropyLoss()\n",
        "\n",
        "  optimizer = opt(model.parameters(), lr=learning_rate)\n",
        "    \n",
        "  iters, losses, train_acc, val_acc = [], [], [], []\n",
        "\n",
        "  n = 0 # the number of iterations\n",
        "  for epoch in range(epochs):\n",
        "    for imgs, labels in tqdm(iter(train_loader)):\n",
        "\n",
        "      #############################################\n",
        "      #To Enable GPU Usage\n",
        "      if use_cuda and torch.cuda.is_available():\n",
        "        imgs = imgs.cuda()\n",
        "        labels = labels.cuda()\n",
        "      #############################################\n",
        "  \n",
        "      output = model(imgs) \n",
        "      loss = criterion(output, labels)\n",
        "      loss.backward()\n",
        "      optimizer.step()\n",
        "      optimizer.zero_grad()\n",
        "\n",
        "    # save the current training information\n",
        "    iters.append(n)\n",
        "    losses.append(float(loss)/batch_size)\n",
        "    train_acc.append(get_accuracy(model, train_loader))\n",
        "    val_acc.append(get_accuracy(model, val_loader))\n",
        "    n += 1\n",
        "      \n",
        "    if ((epoch+1) % 10 == 0):\n",
        "      save_checkpoint(model, batch_size, learning_rate, epoch+1, train_small)\n",
        "\n",
        "  # plotting\n",
        "  plt.title(\"Training Curve\")\n",
        "  plt.plot(iters, losses, label=\"Train\")\n",
        "  plt.xlabel(\"Iterations\")\n",
        "  plt.ylabel(\"Loss\")\n",
        "  plt.show()\n",
        "\n",
        "  plt.title(\"Training Curve\")\n",
        "  plt.plot(iters, train_acc, label=\"Train\")\n",
        "  plt.plot(iters, val_acc, label=\"Validation\")\n",
        "  plt.xlabel(\"Iterations\")\n",
        "  plt.ylabel(\"Training Accuracy\")\n",
        "  plt.legend(loc='best')\n",
        "  plt.show()\n",
        "\n",
        "  print(\"Final Training Accuracy: {}\".format(train_acc[-1]))\n",
        "  print(\"Final Validation Accuracy: {}\".format(val_acc[-1]))"
      ]
    },
    {
      "cell_type": "markdown",
      "metadata": {
        "id": "NO17U_2wSWqF"
      },
      "source": [
        "I choose to make optimizer as a hyperparameter, so I can use different optimizer while facing different scale of data. I also choose cross-entropy as my loss function to help find the optimal point faster by providing potentially bigger derivative."
      ]
    },
    {
      "cell_type": "markdown",
      "metadata": {
        "id": "bk1RNgAj54rZ"
      },
      "source": [
        "### Part (c) “Overfit” to a Small Dataset - 3 pt\n",
        "\n",
        "One way to sanity check our neural network model and training code is to check whether the model is capable\n",
        "of “overfitting” or “memorizing” a small dataset. A properly constructed CNN with correct training code\n",
        "should be able to memorize the answers to a small number of images quickly.\n",
        "\n",
        "Construct a small dataset (e.g. just the images that you have collected). Then show that your model and\n",
        "training code is capable of memorizing the labels of this small data set.\n",
        "\n",
        "With a large batch size (e.g. the entire small dataset) and learning rate that is not too high, You should be\n",
        "able to obtain a 100% training accuracy on that small dataset relatively quickly (within 200 iterations)."
      ]
    },
    {
      "cell_type": "code",
      "execution_count": 17,
      "metadata": {
        "colab": {
          "base_uri": "https://localhost:8080/",
          "height": 1000
        },
        "id": "lXYRBhQO6d3u",
        "outputId": "968f2bb6-0741-40c6-c35d-82a2d04e196f"
      },
      "outputs": [
        {
          "output_type": "stream",
          "name": "stdout",
          "text": [
            "CUDA is not available.  Training on CPU ...\n"
          ]
        },
        {
          "output_type": "stream",
          "name": "stderr",
          "text": [
            "100%|██████████| 1/1 [00:02<00:00,  2.91s/it]\n",
            "100%|██████████| 1/1 [00:03<00:00,  3.14s/it]\n",
            "100%|██████████| 1/1 [00:03<00:00,  3.38s/it]\n",
            "100%|██████████| 1/1 [00:02<00:00,  2.19s/it]\n",
            "100%|██████████| 1/1 [00:01<00:00,  1.87s/it]\n",
            "100%|██████████| 1/1 [00:01<00:00,  1.89s/it]\n",
            "100%|██████████| 1/1 [00:01<00:00,  1.83s/it]\n",
            "100%|██████████| 1/1 [00:01<00:00,  1.89s/it]\n",
            "100%|██████████| 1/1 [00:01<00:00,  1.85s/it]\n",
            "100%|██████████| 1/1 [00:01<00:00,  1.89s/it]\n"
          ]
        },
        {
          "output_type": "stream",
          "name": "stdout",
          "text": [
            "Checkpoint of {} has been stored successfully! GestureClassifier_256_0.001_10_small\n"
          ]
        },
        {
          "output_type": "stream",
          "name": "stderr",
          "text": [
            "100%|██████████| 1/1 [00:01<00:00,  1.90s/it]\n",
            "100%|██████████| 1/1 [00:01<00:00,  1.87s/it]\n",
            "100%|██████████| 1/1 [00:01<00:00,  1.90s/it]\n",
            "100%|██████████| 1/1 [00:02<00:00,  2.09s/it]\n",
            "100%|██████████| 1/1 [00:01<00:00,  1.87s/it]\n",
            "100%|██████████| 1/1 [00:01<00:00,  1.86s/it]\n",
            "100%|██████████| 1/1 [00:01<00:00,  1.87s/it]\n",
            "100%|██████████| 1/1 [00:01<00:00,  1.86s/it]\n",
            "100%|██████████| 1/1 [00:02<00:00,  2.04s/it]\n",
            "100%|██████████| 1/1 [00:01<00:00,  1.86s/it]\n"
          ]
        },
        {
          "output_type": "stream",
          "name": "stdout",
          "text": [
            "Checkpoint of {} has been stored successfully! GestureClassifier_256_0.001_20_small\n"
          ]
        },
        {
          "output_type": "stream",
          "name": "stderr",
          "text": [
            "100%|██████████| 1/1 [00:01<00:00,  1.88s/it]\n",
            "100%|██████████| 1/1 [00:01<00:00,  1.88s/it]\n",
            "100%|██████████| 1/1 [00:01<00:00,  1.89s/it]\n",
            "100%|██████████| 1/1 [00:02<00:00,  2.48s/it]\n",
            "100%|██████████| 1/1 [00:01<00:00,  1.86s/it]\n",
            "100%|██████████| 1/1 [00:01<00:00,  1.89s/it]\n",
            "100%|██████████| 1/1 [00:01<00:00,  1.83s/it]\n",
            "100%|██████████| 1/1 [00:01<00:00,  1.84s/it]\n",
            "100%|██████████| 1/1 [00:01<00:00,  1.83s/it]\n",
            "100%|██████████| 1/1 [00:01<00:00,  1.87s/it]\n"
          ]
        },
        {
          "output_type": "stream",
          "name": "stdout",
          "text": [
            "Checkpoint of {} has been stored successfully! GestureClassifier_256_0.001_30_small\n"
          ]
        },
        {
          "output_type": "stream",
          "name": "stderr",
          "text": [
            "100%|██████████| 1/1 [00:01<00:00,  1.83s/it]\n",
            "100%|██████████| 1/1 [00:01<00:00,  1.84s/it]\n",
            "100%|██████████| 1/1 [00:01<00:00,  1.85s/it]\n",
            "100%|██████████| 1/1 [00:01<00:00,  1.84s/it]\n",
            "100%|██████████| 1/1 [00:03<00:00,  3.25s/it]\n",
            "100%|██████████| 1/1 [00:01<00:00,  1.87s/it]\n",
            "100%|██████████| 1/1 [00:01<00:00,  1.85s/it]\n",
            "100%|██████████| 1/1 [00:01<00:00,  1.88s/it]\n",
            "100%|██████████| 1/1 [00:01<00:00,  1.87s/it]\n",
            "100%|██████████| 1/1 [00:02<00:00,  2.61s/it]\n"
          ]
        },
        {
          "output_type": "stream",
          "name": "stdout",
          "text": [
            "Checkpoint of {} has been stored successfully! GestureClassifier_256_0.001_40_small\n"
          ]
        },
        {
          "output_type": "stream",
          "name": "stderr",
          "text": [
            "100%|██████████| 1/1 [00:01<00:00,  1.86s/it]\n",
            "100%|██████████| 1/1 [00:01<00:00,  1.87s/it]\n",
            "100%|██████████| 1/1 [00:01<00:00,  1.85s/it]\n",
            "100%|██████████| 1/1 [00:01<00:00,  1.86s/it]\n",
            "100%|██████████| 1/1 [00:01<00:00,  1.83s/it]\n",
            "100%|██████████| 1/1 [00:01<00:00,  1.85s/it]\n",
            "100%|██████████| 1/1 [00:01<00:00,  1.85s/it]\n",
            "100%|██████████| 1/1 [00:01<00:00,  1.85s/it]\n",
            "100%|██████████| 1/1 [00:01<00:00,  1.86s/it]\n",
            "100%|██████████| 1/1 [00:02<00:00,  2.84s/it]\n"
          ]
        },
        {
          "output_type": "stream",
          "name": "stdout",
          "text": [
            "Checkpoint of {} has been stored successfully! GestureClassifier_256_0.001_50_small\n"
          ]
        },
        {
          "output_type": "stream",
          "name": "stderr",
          "text": [
            "100%|██████████| 1/1 [00:02<00:00,  2.10s/it]\n",
            "100%|██████████| 1/1 [00:02<00:00,  2.07s/it]\n",
            "100%|██████████| 1/1 [00:02<00:00,  2.01s/it]\n",
            "100%|██████████| 1/1 [00:02<00:00,  2.51s/it]\n",
            "100%|██████████| 1/1 [00:02<00:00,  2.10s/it]\n",
            "100%|██████████| 1/1 [00:01<00:00,  1.88s/it]\n",
            "100%|██████████| 1/1 [00:02<00:00,  2.76s/it]\n",
            "100%|██████████| 1/1 [00:02<00:00,  2.41s/it]\n",
            "100%|██████████| 1/1 [00:01<00:00,  1.85s/it]\n",
            "100%|██████████| 1/1 [00:01<00:00,  1.86s/it]\n"
          ]
        },
        {
          "output_type": "stream",
          "name": "stdout",
          "text": [
            "Checkpoint of {} has been stored successfully! GestureClassifier_256_0.001_60_small\n"
          ]
        },
        {
          "output_type": "stream",
          "name": "stderr",
          "text": [
            "100%|██████████| 1/1 [00:02<00:00,  2.13s/it]\n",
            "100%|██████████| 1/1 [00:01<00:00,  1.86s/it]\n",
            "100%|██████████| 1/1 [00:01<00:00,  1.87s/it]\n",
            "100%|██████████| 1/1 [00:01<00:00,  1.86s/it]\n",
            "100%|██████████| 1/1 [00:01<00:00,  1.84s/it]\n",
            "100%|██████████| 1/1 [00:01<00:00,  1.85s/it]\n",
            "100%|██████████| 1/1 [00:01<00:00,  1.85s/it]\n",
            "100%|██████████| 1/1 [00:01<00:00,  1.84s/it]\n",
            "100%|██████████| 1/1 [00:02<00:00,  2.30s/it]\n",
            "100%|██████████| 1/1 [00:01<00:00,  1.84s/it]\n"
          ]
        },
        {
          "output_type": "stream",
          "name": "stdout",
          "text": [
            "Checkpoint of {} has been stored successfully! GestureClassifier_256_0.001_70_small\n"
          ]
        },
        {
          "output_type": "stream",
          "name": "stderr",
          "text": [
            "100%|██████████| 1/1 [00:01<00:00,  1.81s/it]\n",
            "100%|██████████| 1/1 [00:01<00:00,  1.85s/it]\n",
            "100%|██████████| 1/1 [00:01<00:00,  1.85s/it]\n",
            "100%|██████████| 1/1 [00:01<00:00,  1.84s/it]\n",
            "100%|██████████| 1/1 [00:01<00:00,  1.85s/it]\n",
            "100%|██████████| 1/1 [00:01<00:00,  1.86s/it]\n",
            "100%|██████████| 1/1 [00:01<00:00,  1.84s/it]\n",
            "100%|██████████| 1/1 [00:01<00:00,  1.86s/it]\n",
            "100%|██████████| 1/1 [00:01<00:00,  1.87s/it]\n",
            "100%|██████████| 1/1 [00:01<00:00,  1.85s/it]\n"
          ]
        },
        {
          "output_type": "stream",
          "name": "stdout",
          "text": [
            "Checkpoint of {} has been stored successfully! GestureClassifier_256_0.001_80_small\n"
          ]
        },
        {
          "output_type": "stream",
          "name": "stderr",
          "text": [
            "100%|██████████| 1/1 [00:01<00:00,  1.83s/it]\n",
            "100%|██████████| 1/1 [00:01<00:00,  1.84s/it]\n",
            "100%|██████████| 1/1 [00:01<00:00,  1.84s/it]\n",
            "100%|██████████| 1/1 [00:01<00:00,  1.87s/it]\n",
            "100%|██████████| 1/1 [00:01<00:00,  1.84s/it]\n",
            "100%|██████████| 1/1 [00:02<00:00,  2.08s/it]\n",
            "100%|██████████| 1/1 [00:01<00:00,  1.85s/it]\n",
            "100%|██████████| 1/1 [00:01<00:00,  1.84s/it]\n",
            "100%|██████████| 1/1 [00:01<00:00,  1.85s/it]\n",
            "100%|██████████| 1/1 [00:01<00:00,  1.85s/it]\n"
          ]
        },
        {
          "output_type": "stream",
          "name": "stdout",
          "text": [
            "Checkpoint of {} has been stored successfully! GestureClassifier_256_0.001_90_small\n"
          ]
        },
        {
          "output_type": "stream",
          "name": "stderr",
          "text": [
            "100%|██████████| 1/1 [00:01<00:00,  1.84s/it]\n",
            "100%|██████████| 1/1 [00:01<00:00,  1.84s/it]\n",
            "100%|██████████| 1/1 [00:01<00:00,  1.85s/it]\n",
            "100%|██████████| 1/1 [00:01<00:00,  1.83s/it]\n",
            "100%|██████████| 1/1 [00:01<00:00,  1.88s/it]\n",
            "100%|██████████| 1/1 [00:01<00:00,  1.85s/it]\n",
            "100%|██████████| 1/1 [00:01<00:00,  1.86s/it]\n",
            "100%|██████████| 1/1 [00:01<00:00,  1.84s/it]\n",
            "100%|██████████| 1/1 [00:02<00:00,  2.34s/it]\n",
            "100%|██████████| 1/1 [00:01<00:00,  1.84s/it]\n"
          ]
        },
        {
          "output_type": "stream",
          "name": "stdout",
          "text": [
            "Checkpoint of {} has been stored successfully! GestureClassifier_256_0.001_100_small\n"
          ]
        },
        {
          "output_type": "display_data",
          "data": {
            "text/plain": [
              "<Figure size 432x288 with 1 Axes>"
            ],
            "image/png": "[encoded data removed]"
          },
          "metadata": {
            "needs_background": "light"
          }
        },
        {
          "output_type": "display_data",
          "data": {
            "text/plain": [
              "<Figure size 432x288 with 1 Axes>"
            ],
            "image/png": "[encoded data removed]"
          },
          "metadata": {
            "needs_background": "light"
          }
        },
        {
          "output_type": "stream",
          "name": "stdout",
          "text": [
            "Final Training Accuracy: 0.9887640449438202\n",
            "Final Validation Accuracy: 0.6136363636363636\n"
          ]
        }
      ],
      "source": [
        "use_cuda = True\n",
        "model = GestureClassifier()\n",
        "\n",
        "if use_cuda and torch.cuda.is_available():\n",
        "  model.cuda()\n",
        "  print('CUDA is available!  Training on GPU ...')\n",
        "else:\n",
        "  print('CUDA is not available.  Training on CPU ...')\n",
        "  \n",
        "train(model, opt=optim.Adam, batch_size=256, learning_rate=0.001, epochs=100, train_small = True)"
      ]
    },
    {
      "cell_type": "markdown",
      "metadata": {
        "id": "nvDLw-Vz6eVS"
      },
      "source": [
        "### Part 3. Hyperparameter Search [8 pt]\n",
        "\n",
        "### Part (a) - 2 pt\n",
        "\n",
        "List 3 hyperparameters that you think are most worth tuning. Choose at least one hyperparameter related to\n",
        "the model architecture."
      ]
    },
    {
      "cell_type": "markdown",
      "metadata": {
        "id": "HXRQbgMqR_Qy"
      },
      "source": [
        "Batch size, learning rate, optimizer"
      ]
    },
    {
      "cell_type": "markdown",
      "metadata": {
        "id": "zeD6EzPB6kSW"
      },
      "source": [
        "### Part (b) - 2 pt\n",
        "\n",
        "Tune the hyperparameters you listed in Part (a), trying as many values as you need to until you feel satisfied\n",
        "that you are getting a good model. Plot the training curve of at least 4 different hyperparameter settings."
      ]
    },
    {
      "cell_type": "code",
      "execution_count": 18,
      "metadata": {
        "id": "UkvdR-cB6nzm",
        "colab": {
          "base_uri": "https://localhost:8080/",
          "height": 1000
        },
        "outputId": "444f300c-cca5-4034-fd1f-8cafc160115c"
      },
      "outputs": [
        {
          "output_type": "stream",
          "name": "stdout",
          "text": [
            "CUDA is available!  Training on GPU ...\n"
          ]
        },
        {
          "output_type": "stream",
          "name": "stderr",
          "text": [
            "100%|██████████| 14/14 [00:04<00:00,  3.02it/s]\n",
            "100%|██████████| 14/14 [00:03<00:00,  3.83it/s]\n",
            "100%|██████████| 14/14 [00:03<00:00,  3.84it/s]\n",
            "100%|██████████| 14/14 [00:03<00:00,  3.71it/s]\n",
            "100%|██████████| 14/14 [00:03<00:00,  3.78it/s]\n",
            "100%|██████████| 14/14 [00:03<00:00,  3.66it/s]\n",
            "100%|██████████| 14/14 [00:03<00:00,  3.78it/s]\n",
            "100%|██████████| 14/14 [00:03<00:00,  3.82it/s]\n",
            "100%|██████████| 14/14 [00:03<00:00,  3.83it/s]\n",
            "100%|██████████| 14/14 [00:03<00:00,  3.83it/s]\n"
          ]
        },
        {
          "output_type": "stream",
          "name": "stdout",
          "text": [
            "Checkpoint of {} has been stored successfully! GestureClassifier_128_0.001_10\n"
          ]
        },
        {
          "output_type": "stream",
          "name": "stderr",
          "text": [
            "100%|██████████| 14/14 [00:03<00:00,  3.81it/s]\n",
            "100%|██████████| 14/14 [00:03<00:00,  3.77it/s]\n",
            "100%|██████████| 14/14 [00:03<00:00,  3.77it/s]\n",
            "100%|██████████| 14/14 [00:03<00:00,  3.82it/s]\n",
            "100%|██████████| 14/14 [00:03<00:00,  3.80it/s]\n",
            "100%|██████████| 14/14 [00:03<00:00,  3.79it/s]\n",
            "100%|██████████| 14/14 [00:03<00:00,  3.80it/s]\n",
            "100%|██████████| 14/14 [00:03<00:00,  3.82it/s]\n",
            "100%|██████████| 14/14 [00:03<00:00,  3.80it/s]\n",
            "100%|██████████| 14/14 [00:03<00:00,  3.81it/s]\n"
          ]
        },
        {
          "output_type": "stream",
          "name": "stdout",
          "text": [
            "Checkpoint of {} has been stored successfully! GestureClassifier_128_0.001_20\n"
          ]
        },
        {
          "output_type": "display_data",
          "data": {
            "text/plain": [
              "<Figure size 432x288 with 1 Axes>"
            ],
            "image/png": "[encoded data removed]"
          },
          "metadata": {
            "needs_background": "light"
          }
        },
        {
          "output_type": "display_data",
          "data": {
            "text/plain": [
              "<Figure size 432x288 with 1 Axes>"
            ],
            "image/png": "[encoded data removed]"
          },
          "metadata": {
            "needs_background": "light"
          }
        },
        {
          "output_type": "stream",
          "name": "stdout",
          "text": [
            "Final Training Accuracy: 0.7971346704871061\n",
            "Final Validation Accuracy: 0.6774193548387096\n"
          ]
        }
      ],
      "source": [
        "use_cuda = True\n",
        "model = GestureClassifier()\n",
        "\n",
        "if use_cuda and torch.cuda.is_available():\n",
        "  model.cuda()\n",
        "  print('CUDA is available!  Training on GPU ...')\n",
        "else:\n",
        "  print('CUDA is not available.  Training on CPU ...')\n",
        "  \n",
        "train(model, opt=optim.Adam, batch_size=128, learning_rate=0.001, epochs=20)"
      ]
    },
    {
      "cell_type": "code",
      "source": [
        "use_cuda = True\n",
        "model = GestureClassifier()\n",
        "\n",
        "if use_cuda and torch.cuda.is_available():\n",
        "  model.cuda()\n",
        "  print('CUDA is available!  Training on GPU ...')\n",
        "else:\n",
        "  print('CUDA is not available.  Training on CPU ...')\n",
        "  \n",
        "train(model, opt=optim.SGD, batch_size=128, learning_rate=0.001, epochs=20)"
      ],
      "metadata": {
        "colab": {
          "base_uri": "https://localhost:8080/",
          "height": 1000
        },
        "id": "aCNX7O9v3pZ1",
        "outputId": "ed89b5cd-fe01-4dca-ceb0-3b1e18f60c42"
      },
      "execution_count": 19,
      "outputs": [
        {
          "output_type": "stream",
          "name": "stdout",
          "text": [
            "CUDA is available!  Training on GPU ...\n"
          ]
        },
        {
          "output_type": "stream",
          "name": "stderr",
          "text": [
            "100%|██████████| 14/14 [00:03<00:00,  3.74it/s]\n",
            "100%|██████████| 14/14 [00:03<00:00,  3.82it/s]\n",
            "100%|██████████| 14/14 [00:03<00:00,  3.84it/s]\n",
            "100%|██████████| 14/14 [00:03<00:00,  3.82it/s]\n",
            "100%|██████████| 14/14 [00:03<00:00,  3.82it/s]\n",
            "100%|██████████| 14/14 [00:03<00:00,  3.74it/s]\n",
            "100%|██████████| 14/14 [00:03<00:00,  3.76it/s]\n",
            "100%|██████████| 14/14 [00:03<00:00,  3.75it/s]\n",
            "100%|██████████| 14/14 [00:03<00:00,  3.80it/s]\n",
            "100%|██████████| 14/14 [00:03<00:00,  3.79it/s]\n"
          ]
        },
        {
          "output_type": "stream",
          "name": "stdout",
          "text": [
            "Checkpoint of {} has been stored successfully! GestureClassifier_128_0.001_10\n"
          ]
        },
        {
          "output_type": "stream",
          "name": "stderr",
          "text": [
            "100%|██████████| 14/14 [00:03<00:00,  3.77it/s]\n",
            "100%|██████████| 14/14 [00:03<00:00,  3.83it/s]\n",
            "100%|██████████| 14/14 [00:03<00:00,  3.79it/s]\n",
            "100%|██████████| 14/14 [00:03<00:00,  3.77it/s]\n",
            "100%|██████████| 14/14 [00:03<00:00,  3.85it/s]\n",
            "100%|██████████| 14/14 [00:03<00:00,  3.83it/s]\n",
            "100%|██████████| 14/14 [00:03<00:00,  3.82it/s]\n",
            "100%|██████████| 14/14 [00:03<00:00,  3.73it/s]\n",
            "100%|██████████| 14/14 [00:04<00:00,  3.28it/s]\n",
            "100%|██████████| 14/14 [00:03<00:00,  3.80it/s]\n"
          ]
        },
        {
          "output_type": "stream",
          "name": "stdout",
          "text": [
            "Checkpoint of {} has been stored successfully! GestureClassifier_128_0.001_20\n"
          ]
        },
        {
          "output_type": "display_data",
          "data": {
            "text/plain": [
              "<Figure size 432x288 with 1 Axes>"
            ],
            "image/png": "[encoded data removed]"
          },
          "metadata": {
            "needs_background": "light"
          }
        },
        {
          "output_type": "display_data",
          "data": {
            "text/plain": [
              "<Figure size 432x288 with 1 Axes>"
            ],
            "image/png": "[encoded data removed]"
          },
          "metadata": {
            "needs_background": "light"
          }
        },
        {
          "output_type": "stream",
          "name": "stdout",
          "text": [
            "Final Training Accuracy: 0.14613180515759314\n",
            "Final Validation Accuracy: 0.16129032258064516\n"
          ]
        }
      ]
    },
    {
      "cell_type": "code",
      "source": [
        "use_cuda = True\n",
        "model = GestureClassifier()\n",
        "\n",
        "if use_cuda and torch.cuda.is_available():\n",
        "  model.cuda()\n",
        "  print('CUDA is available!  Training on GPU ...')\n",
        "else:\n",
        "  print('CUDA is not available.  Training on CPU ...')\n",
        "  \n",
        "train(model, opt=optim.Adam, batch_size=128, learning_rate=0.001, epochs=10)"
      ],
      "metadata": {
        "colab": {
          "base_uri": "https://localhost:8080/",
          "height": 816
        },
        "id": "bGl5ff3Y3vMa",
        "outputId": "d4b78639-ab35-44dc-bf3a-cf3003dd9f90"
      },
      "execution_count": 20,
      "outputs": [
        {
          "output_type": "stream",
          "name": "stdout",
          "text": [
            "CUDA is available!  Training on GPU ...\n"
          ]
        },
        {
          "output_type": "stream",
          "name": "stderr",
          "text": [
            "100%|██████████| 14/14 [00:04<00:00,  3.24it/s]\n",
            "100%|██████████| 14/14 [00:04<00:00,  3.33it/s]\n",
            "100%|██████████| 14/14 [00:04<00:00,  3.33it/s]\n",
            "100%|██████████| 14/14 [00:04<00:00,  3.31it/s]\n",
            "100%|██████████| 14/14 [00:04<00:00,  3.34it/s]\n",
            "100%|██████████| 14/14 [00:04<00:00,  3.32it/s]\n",
            "100%|██████████| 14/14 [00:04<00:00,  3.32it/s]\n",
            "100%|██████████| 14/14 [00:04<00:00,  3.32it/s]\n",
            "100%|██████████| 14/14 [00:04<00:00,  3.34it/s]\n",
            "100%|██████████| 14/14 [00:04<00:00,  3.34it/s]\n"
          ]
        },
        {
          "output_type": "stream",
          "name": "stdout",
          "text": [
            "Checkpoint of {} has been stored successfully! GestureClassifier_128_0.001_10\n"
          ]
        },
        {
          "output_type": "display_data",
          "data": {
            "text/plain": [
              "<Figure size 432x288 with 1 Axes>"
            ],
            "image/png": "[encoded data removed]"
          },
          "metadata": {
            "needs_background": "light"
          }
        },
        {
          "output_type": "display_data",
          "data": {
            "text/plain": [
              "<Figure size 432x288 with 1 Axes>"
            ],
            "image/png": "[encoded data removed]"
          },
          "metadata": {
            "needs_background": "light"
          }
        },
        {
          "output_type": "stream",
          "name": "stdout",
          "text": [
            "Final Training Accuracy: 0.8194842406876791\n",
            "Final Validation Accuracy: 0.7811059907834101\n"
          ]
        }
      ]
    },
    {
      "cell_type": "code",
      "source": [
        "use_cuda = True\n",
        "model = GestureClassifier()\n",
        "\n",
        "if use_cuda and torch.cuda.is_available():\n",
        "  model.cuda()\n",
        "  print('CUDA is available!  Training on GPU ...')\n",
        "else:\n",
        "  print('CUDA is not available.  Training on CPU ...')\n",
        "  \n",
        "train(model, opt=optim.Adam, batch_size=64, learning_rate=0.001, epochs=10)"
      ],
      "metadata": {
        "colab": {
          "base_uri": "https://localhost:8080/",
          "height": 816
        },
        "id": "mkDn9Rwv33x0",
        "outputId": "d28f7d32-adbd-46b2-f323-008fbf55e725"
      },
      "execution_count": 30,
      "outputs": [
        {
          "output_type": "stream",
          "name": "stdout",
          "text": [
            "CUDA is available!  Training on GPU ...\n"
          ]
        },
        {
          "output_type": "stream",
          "name": "stderr",
          "text": [
            "100%|██████████| 28/28 [00:04<00:00,  6.32it/s]\n",
            "100%|██████████| 28/28 [00:04<00:00,  6.54it/s]\n",
            "100%|██████████| 28/28 [00:04<00:00,  6.51it/s]\n",
            "100%|██████████| 28/28 [00:04<00:00,  6.54it/s]\n",
            "100%|██████████| 28/28 [00:04<00:00,  6.45it/s]\n",
            "100%|██████████| 28/28 [00:04<00:00,  6.43it/s]\n",
            "100%|██████████| 28/28 [00:04<00:00,  6.46it/s]\n",
            "100%|██████████| 28/28 [00:04<00:00,  6.49it/s]\n",
            "100%|██████████| 28/28 [00:04<00:00,  6.50it/s]\n",
            "100%|██████████| 28/28 [00:04<00:00,  6.47it/s]\n"
          ]
        },
        {
          "output_type": "stream",
          "name": "stdout",
          "text": [
            "Checkpoint of {} has been stored successfully! GestureClassifier_64_0.001_10\n"
          ]
        },
        {
          "output_type": "display_data",
          "data": {
            "text/plain": [
              "<Figure size 432x288 with 1 Axes>"
            ],
            "image/png": "[encoded data removed]"
          },
          "metadata": {
            "needs_background": "light"
          }
        },
        {
          "output_type": "display_data",
          "data": {
            "text/plain": [
              "<Figure size 432x288 with 1 Axes>"
            ],
            "image/png": "[encoded data removed]"
          },
          "metadata": {
            "needs_background": "light"
          }
        },
        {
          "output_type": "stream",
          "name": "stdout",
          "text": [
            "Final Training Accuracy: 0.712893982808023\n",
            "Final Validation Accuracy: 0.695852534562212\n"
          ]
        }
      ]
    },
    {
      "cell_type": "markdown",
      "metadata": {
        "id": "H93iN5_l60BO"
      },
      "source": [
        "### Part (c) - 2 pt\n",
        "Choose the best model out of all the ones that you have trained. Justify your choice."
      ]
    },
    {
      "cell_type": "markdown",
      "source": [
        "The best model I have is the one uses adam optimizer, 128 batch size, 0.001 learning rate and 10 epochs. Adam optimizer shows better optimization than SGD optimizer by stably increasing the accuracy. And smaller batch size 64 doesn't show any huge improvment in accuracy. Among all the models I trained, this one has both highest training accuracy and validation accuracy, and also the smallest gap between training accuracy and validation accuracy, which prevents the overfitting problem. "
      ],
      "metadata": {
        "id": "kIhcN7IG6zRO"
      }
    },
    {
      "cell_type": "markdown",
      "metadata": {
        "id": "QzNA5oup67JO"
      },
      "source": [
        "### Part (d) - 2 pt\n",
        "Report the test accuracy of your best model. You should only do this step once and prior to this step you should have only used the training and validation data."
      ]
    },
    {
      "cell_type": "code",
      "execution_count": 25,
      "metadata": {
        "id": "2eJ7AbVl6-ax",
        "colab": {
          "base_uri": "https://localhost:8080/"
        },
        "outputId": "fd406bca-d782-43f4-f1c0-342b2edbc185"
      },
      "outputs": [
        {
          "output_type": "stream",
          "name": "stdout",
          "text": [
            "Final Testing Accuracy: 0.7261904761904762\n"
          ]
        }
      ],
      "source": [
        "model = GestureClassifier()\n",
        "model = torch.load('/content/GestureClassifier_128_0.001_10')\n",
        "\n",
        "test_loader = torch.utils.data.DataLoader(test_data, batch_size=1)\n",
        "\n",
        "print(\"Final Testing Accuracy: {}\".format(get_accuracy(model, test_loader)))"
      ]
    },
    {
      "cell_type": "markdown",
      "metadata": {
        "id": "Wrem-iXV6_Bz"
      },
      "source": [
        "### Part 4. Transfer Learning [8 pt]\n",
        "For many image classification tasks, it is generally not a good idea to train a very large deep neural network\n",
        "model from scratch due to the enormous compute requirements and lack of sufficient amounts of training\n",
        "data.\n",
        "\n",
        "One of the better options is to try using an existing model that performs a similar task to the one you need\n",
        "to solve. This method of utilizing a pre-trained network for other similar tasks is broadly termed **Transfer\n",
        "Learning**. In this assignment, we will use Transfer Learning to extract features from the hand gesture\n",
        "images. Then, train a smaller network to use these features as input and classify the hand gestures.\n",
        "\n",
        "As you have learned from the CNN lecture, convolution layers extract various features from the images which\n",
        "get utilized by the fully connected layers for correct classification. AlexNet architecture played a pivotal\n",
        "role in establishing Deep Neural Nets as a go-to tool for image classification problems and we will use an\n",
        "ImageNet pre-trained AlexNet model to extract features in this assignment."
      ]
    },
    {
      "cell_type": "markdown",
      "metadata": {
        "id": "rWdQJz4Q7O2F"
      },
      "source": [
        "### Part (a) - 2 pt\n",
        "Here is the code to load the AlexNet network, with pretrained weights. When you first run the code, PyTorch\n",
        "will download the pretrained weights from the internet."
      ]
    },
    {
      "cell_type": "code",
      "execution_count": 18,
      "metadata": {
        "id": "BJKcTW9C7TZk",
        "colab": {
          "base_uri": "https://localhost:8080/",
          "height": 156,
          "referenced_widgets": [
            "5e0567a628f8422fa81273874410d5f1",
            "cd30d92734314b7eb5775e430194bb3e",
            "426ffde2933d4c83ad49f53e0879b056",
            "1394cac138bf40138baecb79614180f1",
            "51da28249b4340d3a869fe24beaf4e32",
            "e6406e9887e349e480a3f0f84a208db7",
            "d08d5e628ff246f4bec4a2dbf4568777",
            "ee029a7c0c2e4fa9b327af6d31499e60",
            "02c7f11307a94476bc147b215c0c1d8e",
            "e8a0f0fe4a0146b3b1e0e469f0eb9133",
            "e574d5eaea82458782705e3c4741d270"
          ]
        },
        "outputId": "8afe2c0d-a8e1-4df7-b6b9-738ac1a3e8f8"
      },
      "outputs": [
        {
          "output_type": "stream",
          "name": "stderr",
          "text": [
            "/usr/local/lib/python3.7/dist-packages/torchvision/models/_utils.py:209: UserWarning: The parameter 'pretrained' is deprecated since 0.13 and will be removed in 0.15, please use 'weights' instead.\n",
            "  f\"The parameter '{pretrained_param}' is deprecated since 0.13 and will be removed in 0.15, \"\n",
            "/usr/local/lib/python3.7/dist-packages/torchvision/models/_utils.py:223: UserWarning: Arguments other than a weight enum or `None` for 'weights' are deprecated since 0.13 and will be removed in 0.15. The current behavior is equivalent to passing `weights=AlexNet_Weights.IMAGENET1K_V1`. You can also use `weights=AlexNet_Weights.DEFAULT` to get the most up-to-date weights.\n",
            "  warnings.warn(msg)\n",
            "Downloading: \"https://download.pytorch.org/models/alexnet-owt-7be5be79.pth\" to /root/.cache/torch/hub/checkpoints/alexnet-owt-7be5be79.pth\n"
          ]
        },
        {
          "output_type": "display_data",
          "data": {
            "text/plain": [
              "  0%|          | 0.00/233M [00:00<?, ?B/s]"
            ],
            "application/vnd.jupyter.widget-view+json": {
              "version_major": 2,
              "version_minor": 0,
              "model_id": "5e0567a628f8422fa81273874410d5f1"
            }
          },
          "metadata": {}
        }
      ],
      "source": [
        "import torchvision.models\n",
        "alexnet = torchvision.models.alexnet(pretrained=True)"
      ]
    },
    {
      "cell_type": "markdown",
      "metadata": {
        "id": "NQ0GZYaP7VAR"
      },
      "source": [
        "The alexnet model is split up into two components: *alexnet.features* and *alexnet.classifier*. The\n",
        "first neural network component, *alexnet.features*, is used to compute convolutional features, which are\n",
        "taken as input in *alexnet.classifier*.\n",
        "\n",
        "The neural network alexnet.features expects an image tensor of shape Nx3x224x224 as input and it will\n",
        "output a tensor of shape Nx256x6x6 . (N = batch size).\n",
        "\n",
        "Compute the AlexNet features for each of your training, validation, and test data. Here is an example code\n",
        "snippet showing how you can compute the AlexNet features for some images (your actual code might be\n",
        "different):"
      ]
    },
    {
      "cell_type": "code",
      "execution_count": null,
      "metadata": {
        "id": "oX7SjVdB7XAE"
      },
      "outputs": [],
      "source": [
        "# img = ... a PyTorch tensor with shape [N,3,224,224] containing hand images ...\n",
        "# features = alexnet.features(img)"
      ]
    },
    {
      "cell_type": "markdown",
      "metadata": {
        "id": "DYcjHg_A7cCM"
      },
      "source": [
        "**Save the computed features**. You will be using these features as input to your neural network in Part\n",
        "(b), and you do not want to re-compute the features every time. Instead, run *alexnet.features* once for\n",
        "each image, and save the result."
      ]
    },
    {
      "cell_type": "code",
      "execution_count": 19,
      "metadata": {
        "id": "TBo1BpL373LX"
      },
      "outputs": [],
      "source": [
        "def save_alex_featured_imgs(dst_dataset_dir = 'AlexNet/', target_dataset_dir = 'normal'):\n",
        "  if target_dataset_dir == 'normal':\n",
        "    dataset_dir = \"/content/drive/My Drive/Colab Notebooks/MIE1517/Labs/Lab 2 - Convolutional Neural Networks/Lab_3b_Gesture_Dataset\"\n",
        "  elif target_dataset_dir == 'self':\n",
        "    dataset_dir = '/content/drive/My Drive/Colab Notebooks/MIE1517/Labs/Lab 2 - Convolutional Neural Networks/Li_1007911994'\n",
        "\n",
        "  if not os.path.isdir(dst_dataset_dir):\n",
        "    os.mkdir(dst_dataset_dir)\n",
        "  else:\n",
        "    shutil.rmtree(dst_dataset_dir)\n",
        "    os.mkdir(dst_dataset_dir)\n",
        "\n",
        "\n",
        "  target_classes = ['A', 'B', 'C', 'D', 'E', 'F', 'G', 'H', 'I']\n",
        "\n",
        "  for i in target_classes:\n",
        "    if not os.path.isdir(dst_dataset_dir+i):\n",
        "      os.mkdir(dst_dataset_dir+i)\n",
        "\n",
        "  alexnet = torchvision.models.alexnet(pretrained=True)\n",
        "\n",
        "  transform = transforms.Compose([transforms.Resize([224, 224]), \n",
        "                    transforms.CenterCrop(224), \n",
        "                    transforms.ToTensor()])\n",
        "\n",
        "  dataset = datasets.ImageFolder(root=dataset_dir, transform=transform)\n",
        "\n",
        "  data_loader = torch.utils.data.DataLoader(dataset, batch_size=1)\n",
        "\n",
        "  for idx, (img, label) in enumerate(data_loader):\n",
        "\n",
        "    new_img = alexnet.features(img)\n",
        "\n",
        "    label_str = target_classes[label[0].detach().numpy()]\n",
        "\n",
        "    torch.save(new_img[0], dst_dataset_dir + label_str + '/img_{}_{}.pt'.format(idx, label_str))\n",
        "\n",
        "    buffer = io.BytesIO()\n",
        "    torch.save(new_img, buffer)\n",
        "\n",
        "  return None"
      ]
    },
    {
      "cell_type": "code",
      "source": [
        "save_alex_featured_imgs()"
      ],
      "metadata": {
        "id": "V2emBuRHauY8"
      },
      "execution_count": 20,
      "outputs": []
    },
    {
      "cell_type": "markdown",
      "metadata": {
        "id": "OFWvvhFN73qY"
      },
      "source": [
        "### Part (b) - 2 pt\n",
        "Build a convolutional neural network model that takes as input these AlexNet features, and makes a\n",
        "prediction. Your model should be a subclass of nn.Module.\n",
        "\n",
        "Explain your choice of neural network architecture: how many layers did you choose? What types of layers\n",
        "did you use: fully-connected or convolutional? What about other decisions like pooling layers, activation\n",
        "functions, number of channels / hidden units in each layer?\n",
        "\n",
        "Here is an example of how your model may be called:"
      ]
    },
    {
      "cell_type": "code",
      "execution_count": null,
      "metadata": {
        "id": "oVTuHUeV78-U"
      },
      "outputs": [],
      "source": [
        "# features = ... load precomputed alexnet.features(img) ...\n",
        "# output = model(features)\n",
        "# prob = F.softmax(output)"
      ]
    },
    {
      "cell_type": "code",
      "source": [
        "class AlexNetModel(nn.Module):\n",
        "\n",
        "    def __init__(self):\n",
        "        super(AlexNetModel, self).__init__()\n",
        "        self.name = 'AlexNetModel'\n",
        "        self.conv1 = nn.Conv2d(256, 10, 3) #in_channels, out_chanels, kernel_size\n",
        "        self.pool = nn.MaxPool2d(2, 2)\n",
        "        self.fc1 = nn.Linear(10*2*2, 32)\n",
        "        self.fc2 = nn.Linear(32, 9)\n",
        "\n",
        "    def forward(self, x):\n",
        "        x = self.pool(F.relu(self.conv1(x)))\n",
        "        x = x.view(-1, 10*2*2)\n",
        "        x = F.relu(self.fc1(x))\n",
        "        x = self.fc2(x)\n",
        "        return x"
      ],
      "metadata": {
        "id": "J_b8yM5XqnK3"
      },
      "execution_count": 21,
      "outputs": []
    },
    {
      "cell_type": "markdown",
      "source": [
        "My neural netwrok have 4 layers in total, which includes 1 convolutional layer, 1 max-pooling layer and 2 fully connected linear layers. The convolutional layers and max-pooling layers can quickly downsize the information and extract the useful features. I use output 10 channels in the convolutional layer to enlarge the extracted features from AlexNet. The activitation I choose for the 1st fully connected linear layer is Relu function to prevent exponential growth in computation. And 32 nodes for the 1st fully connected linear layer to capature the complexities, and 9 nodes for the 2nd fully connected layer to generate the class result."
      ],
      "metadata": {
        "id": "e5u60lkys8r5"
      }
    },
    {
      "cell_type": "markdown",
      "metadata": {
        "id": "wVAGuURu7-9q"
      },
      "source": [
        "### Part (c) - 2 pt\n",
        "Train your new network, including any hyperparameter tuning. Plot and submit the training curve of your\n",
        "best model only.\n",
        "\n",
        "Note: Depending on how you are caching (saving) your AlexNet features, PyTorch might still be tracking\n",
        "updates to the **AlexNet weights**, which we are not tuning. One workaround is to convert your AlexNet\n",
        "feature tensor into a numpy array, and then back into a PyTorch tensor."
      ]
    },
    {
      "cell_type": "code",
      "execution_count": null,
      "metadata": {
        "id": "JCmiH11x7-q1"
      },
      "outputs": [],
      "source": [
        "# tensor = torch.from_numpy(tensor.detach().numpy())"
      ]
    },
    {
      "cell_type": "code",
      "source": [
        "data_dir_alex = \"/content/AlexNet\"\n",
        "\n",
        "splitfolders.ratio(data_dir_alex, output=\"output_AlexNet\", seed=1337, ratio=(0.72, 0.18,0.1))"
      ],
      "metadata": {
        "colab": {
          "base_uri": "https://localhost:8080/"
        },
        "id": "ijnokTNwBZA3",
        "outputId": "32761d4a-2c91-438e-8ba9-e97453d25805"
      },
      "execution_count": 22,
      "outputs": [
        {
          "output_type": "stream",
          "name": "stderr",
          "text": [
            "Copying files: 2431 files [00:00, 5450.87 files/s]\n"
          ]
        }
      ]
    },
    {
      "cell_type": "code",
      "source": [
        "split_data_dir_alex =  '/content/output_AlexNet/'\n",
        "\n",
        "train_dir_alex = os.path.join(split_data_dir_alex, 'train/')\n",
        "val_dir_alex = os.path.join(split_data_dir_alex, 'val/')\n",
        "test_dir_alex = os.path.join(split_data_dir_alex, 'test/')"
      ],
      "metadata": {
        "id": "m7BE3OUWDHKN"
      },
      "execution_count": 23,
      "outputs": []
    },
    {
      "cell_type": "code",
      "source": [
        "train_data_alex = torchvision.datasets.DatasetFolder(root=train_dir_alex, loader=torch.load, extensions=('.pt'))\n",
        "val_data_alex = torchvision.datasets.DatasetFolder(root=val_dir_alex, loader=torch.load, extensions=('.pt'))\n",
        "test_data_alex = torchvision.datasets.DatasetFolder(root=test_dir_alex, loader=torch.load, extensions=('.pt'))"
      ],
      "metadata": {
        "id": "AoDP1rgND9sZ"
      },
      "execution_count": 24,
      "outputs": []
    },
    {
      "cell_type": "code",
      "source": [
        "def train_alex(model, opt, batch_size = 64, learning_rate=0.01, epochs=30, train_small = False):\n",
        "\n",
        "  train_loader_alex = torch.utils.data.DataLoader(train_data_alex, batch_size=batch_size, \n",
        "                                           num_workers=0, shuffle=True)\n",
        "  val_loader_alex = torch.utils.data.DataLoader(val_data_alex, batch_size=batch_size, \n",
        "                                          num_workers=0, shuffle=True)\n",
        "\n",
        "  criterion = nn.CrossEntropyLoss()\n",
        "\n",
        "  optimizer = opt(model.parameters(), lr=learning_rate)\n",
        "    \n",
        "  iters, losses, train_acc, val_acc = [], [], [], []\n",
        "\n",
        "  n = 0 # the number of iterations\n",
        "  for epoch in range(epochs):\n",
        "    for imgs, labels in tqdm(iter(train_loader_alex)):\n",
        "\n",
        "      #############################################\n",
        "      #To Enable GPU Usage\n",
        "      if use_cuda and torch.cuda.is_available():\n",
        "        imgs = imgs.cuda()\n",
        "        labels = labels.cuda()\n",
        "      #############################################\n",
        "  \n",
        "      output = model(imgs) \n",
        "      loss = criterion(output, labels)\n",
        "      loss.backward()\n",
        "      optimizer.step()\n",
        "      optimizer.zero_grad()\n",
        "\n",
        "    # save the current training information\n",
        "    iters.append(n)\n",
        "    losses.append(float(loss)/batch_size)\n",
        "    train_acc.append(get_accuracy(model, train_loader_alex)) # compute training accuracy \n",
        "    val_acc.append(get_accuracy(model, val_loader_alex))  # compute validation accuracy\n",
        "    n += 1\n",
        "      \n",
        "    if ((epoch+1) % 10 == 0):\n",
        "      save_checkpoint(model, batch_size, learning_rate, epoch+1, train_small)\n",
        "\n",
        "  # plotting\n",
        "  plt.title(\"Training Curve\")\n",
        "  plt.plot(iters, losses, label=\"Train\")\n",
        "  plt.xlabel(\"Iterations\")\n",
        "  plt.ylabel(\"Loss\")\n",
        "  plt.show()\n",
        "\n",
        "  plt.title(\"Training Curve\")\n",
        "  plt.plot(iters, train_acc, label=\"Train\")\n",
        "  plt.plot(iters, val_acc, label=\"Validation\")\n",
        "  plt.xlabel(\"Iterations\")\n",
        "  plt.ylabel(\"Training Accuracy\")\n",
        "  plt.legend(loc='best')\n",
        "  plt.show()\n",
        "\n",
        "  print(\"Final Training Accuracy: {}\".format(train_acc[-1]))\n",
        "  print(\"Final Validation Accuracy: {}\".format(val_acc[-1]))"
      ],
      "metadata": {
        "id": "0MVdhpwjzITa"
      },
      "execution_count": 25,
      "outputs": []
    },
    {
      "cell_type": "code",
      "source": [
        "use_cuda = True\n",
        "\n",
        "model = AlexNetModel()\n",
        "\n",
        "if use_cuda and torch.cuda.is_available():\n",
        "  model.cuda()\n",
        "  print('CUDA is available!  Training on GPU ...')\n",
        "else:\n",
        "  print('CUDA is not available.  Training on CPU ...')\n",
        "\n",
        "train_alex(model, opt = optim.Adam, batch_size = 128, learning_rate=0.001, epochs=10)"
      ],
      "metadata": {
        "colab": {
          "base_uri": "https://localhost:8080/",
          "height": 816
        },
        "id": "FKhSliQuGQIr",
        "outputId": "a7180542-a03b-4008-a05a-c7c618bbcb3d"
      },
      "execution_count": 26,
      "outputs": [
        {
          "output_type": "stream",
          "name": "stdout",
          "text": [
            "CUDA is not available.  Training on CPU ...\n"
          ]
        },
        {
          "output_type": "stream",
          "name": "stderr",
          "text": [
            "100%|██████████| 14/14 [00:00<00:00, 24.46it/s]\n",
            "100%|██████████| 14/14 [00:00<00:00, 27.39it/s]\n",
            "100%|██████████| 14/14 [00:00<00:00, 27.37it/s]\n",
            "100%|██████████| 14/14 [00:00<00:00, 26.60it/s]\n",
            "100%|██████████| 14/14 [00:00<00:00, 26.43it/s]\n",
            "100%|██████████| 14/14 [00:00<00:00, 27.56it/s]\n",
            "100%|██████████| 14/14 [00:00<00:00, 26.96it/s]\n",
            "100%|██████████| 14/14 [00:00<00:00, 27.65it/s]\n",
            "100%|██████████| 14/14 [00:00<00:00, 27.25it/s]\n",
            "100%|██████████| 14/14 [00:00<00:00, 27.28it/s]\n"
          ]
        },
        {
          "output_type": "stream",
          "name": "stdout",
          "text": [
            "Checkpoint of {} has been stored successfully! AlexNetModel_128_0.001_10\n"
          ]
        },
        {
          "output_type": "display_data",
          "data": {
            "text/plain": [
              "<Figure size 432x288 with 1 Axes>"
            ],
            "image/png": "[encoded data removed]"
          },
          "metadata": {
            "needs_background": "light"
          }
        },
        {
          "output_type": "display_data",
          "data": {
            "text/plain": [
              "<Figure size 432x288 with 1 Axes>"
            ],
            "image/png": "[encoded data removed]"
          },
          "metadata": {
            "needs_background": "light"
          }
        },
        {
          "output_type": "stream",
          "name": "stdout",
          "text": [
            "Final Training Accuracy: 0.9381088825214899\n",
            "Final Validation Accuracy: 0.9101382488479263\n"
          ]
        }
      ]
    },
    {
      "cell_type": "markdown",
      "metadata": {
        "id": "hQ2tvqJ68Mqb"
      },
      "source": [
        "### Part (d) - 2 pt\n",
        "Report the test accuracy of your best model. How does the test accuracy compare to Part 3(d) without transfer learning?"
      ]
    },
    {
      "cell_type": "code",
      "execution_count": 27,
      "metadata": {
        "id": "yCp_kFSg8Q2T",
        "colab": {
          "base_uri": "https://localhost:8080/"
        },
        "outputId": "146ce47d-f2e0-494d-810c-ed49bc5de285"
      },
      "outputs": [
        {
          "output_type": "stream",
          "name": "stdout",
          "text": [
            "Final Testing Accuracy: 0.8928571428571429\n"
          ]
        }
      ],
      "source": [
        "model = AlexNetModel()\n",
        "model = torch.load('/content/AlexNetModel_128_0.001_10')\n",
        "\n",
        "test_loader_alex = torch.utils.data.DataLoader(test_data_alex, batch_size=1)\n",
        "\n",
        "print(\"Final Testing Accuracy: {}\".format(get_accuracy(model, test_loader_alex)))"
      ]
    },
    {
      "cell_type": "markdown",
      "source": [
        "The test accuracy has a significant improvement and reaches 89% in comparison to 72% without transfer learning."
      ],
      "metadata": {
        "id": "OVqlYKS6OU0h"
      }
    },
    {
      "cell_type": "markdown",
      "metadata": {
        "id": "XrDPb0orGZYJ"
      },
      "source": [
        "### Part 5. Testing on New Data [10 pt]\n",
        "As a final step in testing we will be revisiting the sample images that you had collected and submitted with your lab. These sample images should be untouched and will be used to demonstrate how well your model works at identifying your hand guestures. \n",
        "\n"
      ]
    },
    {
      "cell_type": "markdown",
      "metadata": {
        "id": "-Zmi89qGasl9"
      },
      "source": [
        "### Part (a) - 3 pt\n",
        "Load and process the hand gesture images you had collected so that they can easily be evaulated by your model."
      ]
    },
    {
      "cell_type": "code",
      "execution_count": 29,
      "metadata": {
        "id": "flap7udbasl9"
      },
      "outputs": [],
      "source": [
        "save_alex_featured_imgs(dst_dataset_dir = 'AlexNet_small/', target_dataset_dir = 'self')"
      ]
    },
    {
      "cell_type": "code",
      "source": [
        "self_data_alex = torchvision.datasets.DatasetFolder(root='/content/AlexNet_small/', loader=torch.load, extensions=('.pt'))\n",
        "self_loader_alex = torch.utils.data.DataLoader(self_data_alex, batch_size=1)"
      ],
      "metadata": {
        "id": "Ob_zCkOpJGih"
      },
      "execution_count": 30,
      "outputs": []
    },
    {
      "cell_type": "markdown",
      "metadata": {
        "id": "iv2YVTmsasl9"
      },
      "source": [
        "### Part (b) - 7 pt\n",
        "Using the best transfer learning model developed in Part 4. Report the test accuracy on your sample images and how it compares to the test accuracy obtained in Part 4(d)? How well did your model do for the different hand guestures? Provide an explanation for why you think your model performed the way it did?  \n",
        "\n",
        "This question will also be evaluated on the overal performance achieved."
      ]
    },
    {
      "cell_type": "code",
      "execution_count": 32,
      "metadata": {
        "id": "R09m3gzeasl9",
        "colab": {
          "base_uri": "https://localhost:8080/"
        },
        "outputId": "0e283a37-3b72-4155-8f16-c93256b95e82"
      },
      "outputs": [
        {
          "output_type": "stream",
          "name": "stdout",
          "text": [
            "Final Testing Accuracy: 0.8518518518518519\n"
          ]
        }
      ],
      "source": [
        "print(\"Final Testing Accuracy: {}\".format(get_accuracy(model, self_loader_alex)))"
      ]
    },
    {
      "cell_type": "markdown",
      "source": [
        "The test accuracy for my own hand gestures is still high as 85%, but not as high as 89% in Part4(d). It maybe caused by bias-variance trade-off. Since the model was trained on a larger dataset than my own hand gesture dataset, more bias is shown on the small dataset. As a result, the model performs better on large dataset with low variance."
      ],
      "metadata": {
        "id": "xNwPiwCoO8Ih"
      }
    },
    {
      "cell_type": "markdown",
      "metadata": {
        "id": "FYwI4RmFS2RB"
      },
      "source": [
        "### Saving to HTML\n",
        "Detailed instructions for saving to HTML can be found <a href=\"https://stackoverflow.com/questions/53460051/convert-ipynb-notebook-to-html-in-google-colab/64487858#64487858\">here</a>. Provided below are a summary of the instructions:\n",
        "\n",
        "(1) download your ipynb file by clicking on File->Download.ipynb\n",
        "\n",
        "(2) reupload your file to the temporary Google Colab storage (you can access the temporary storage from the tab to the left)\n",
        "\n",
        "(3) run the following:"
      ]
    },
    {
      "cell_type": "code",
      "execution_count": 33,
      "metadata": {
        "id": "2TrsqdNgS5ex",
        "colab": {
          "base_uri": "https://localhost:8080/"
        },
        "outputId": "7b1fd90d-1912-4404-f33d-b2a120b29f6b"
      },
      "outputs": [
        {
          "output_type": "stream",
          "name": "stdout",
          "text": [
            "[NbConvertApp] Converting notebook LAB_2_Hand_Gesture_Recognition.ipynb to html\n",
            "[NbConvertApp] Writing 656205 bytes to LAB_2_Hand_Gesture_Recognition.html\n"
          ]
        },
        {
          "output_type": "execute_result",
          "data": {
            "text/plain": []
          },
          "metadata": {},
          "execution_count": 33
        }
      ],
      "source": [
        "%%shell\n",
        "jupyter nbconvert --to html LAB_2_Hand_Gesture_Recognition.ipynb"
      ]
    },
    {
      "cell_type": "markdown",
      "metadata": {
        "id": "nuXhlFlPTY7F"
      },
      "source": [
        "(4) the html file will be available for download in the temporary Google Colab storage\n",
        "\n",
        "(5) review the html file and make sure all the results are visible before submitting your assignment to Quercus"
      ]
    }
  ],
  "metadata": {
    "accelerator": "GPU",
    "colab": {
      "collapsed_sections": [],
      "provenance": []
    },
    "kernelspec": {
      "display_name": "Python 3",
      "language": "python",
      "name": "python3"
    },
    "language_info": {
      "codemirror_mode": {
        "name": "ipython",
        "version": 3
      },
      "file_extension": ".py",
      "mimetype": "text/x-python",
      "name": "python",
      "nbconvert_exporter": "python",
      "pygments_lexer": "ipython3",
      "version": "3.7.4"
    },
    "widgets": {
      "application/vnd.jupyter.widget-state+json": {
        "5e0567a628f8422fa81273874410d5f1": {
          "model_module": "@jupyter-widgets/controls",
          "model_name": "HBoxModel",
          "model_module_version": "1.5.0",
          "state": {
            "_dom_classes": [],
            "_model_module": "@jupyter-widgets/controls",
            "_model_module_version": "1.5.0",
            "_model_name": "HBoxModel",
            "_view_count": null,
            "_view_module": "@jupyter-widgets/controls",
            "_view_module_version": "1.5.0",
            "_view_name": "HBoxView",
            "box_style": "",
            "children": [
              "IPY_MODEL_cd30d92734314b7eb5775e430194bb3e",
              "IPY_MODEL_426ffde2933d4c83ad49f53e0879b056",
              "IPY_MODEL_1394cac138bf40138baecb79614180f1"
            ],
            "layout": "IPY_MODEL_51da28249b4340d3a869fe24beaf4e32"
          }
        },
        "cd30d92734314b7eb5775e430194bb3e": {
          "model_module": "@jupyter-widgets/controls",
          "model_name": "HTMLModel",
          "model_module_version": "1.5.0",
          "state": {
            "_dom_classes": [],
            "_model_module": "@jupyter-widgets/controls",
            "_model_module_version": "1.5.0",
            "_model_name": "HTMLModel",
            "_view_count": null,
            "_view_module": "@jupyter-widgets/controls",
            "_view_module_version": "1.5.0",
            "_view_name": "HTMLView",
            "description": "",
            "description_tooltip": null,
            "layout": "IPY_MODEL_e6406e9887e349e480a3f0f84a208db7",
            "placeholder": "​",
            "style": "IPY_MODEL_d08d5e628ff246f4bec4a2dbf4568777",
            "value": "100%"
          }
        },
        "426ffde2933d4c83ad49f53e0879b056": {
          "model_module": "@jupyter-widgets/controls",
          "model_name": "FloatProgressModel",
          "model_module_version": "1.5.0",
          "state": {
            "_dom_classes": [],
            "_model_module": "@jupyter-widgets/controls",
            "_model_module_version": "1.5.0",
            "_model_name": "FloatProgressModel",
            "_view_count": null,
            "_view_module": "@jupyter-widgets/controls",
            "_view_module_version": "1.5.0",
            "_view_name": "ProgressView",
            "bar_style": "success",
            "description": "",
            "description_tooltip": null,
            "layout": "IPY_MODEL_ee029a7c0c2e4fa9b327af6d31499e60",
            "max": 244408911,
            "min": 0,
            "orientation": "horizontal",
            "style": "IPY_MODEL_02c7f11307a94476bc147b215c0c1d8e",
            "value": 244408911
          }
        },
        "1394cac138bf40138baecb79614180f1": {
          "model_module": "@jupyter-widgets/controls",
          "model_name": "HTMLModel",
          "model_module_version": "1.5.0",
          "state": {
            "_dom_classes": [],
            "_model_module": "@jupyter-widgets/controls",
            "_model_module_version": "1.5.0",
            "_model_name": "HTMLModel",
            "_view_count": null,
            "_view_module": "@jupyter-widgets/controls",
            "_view_module_version": "1.5.0",
            "_view_name": "HTMLView",
            "description": "",
            "description_tooltip": null,
            "layout": "IPY_MODEL_e8a0f0fe4a0146b3b1e0e469f0eb9133",
            "placeholder": "​",
            "style": "IPY_MODEL_e574d5eaea82458782705e3c4741d270",
            "value": " 233M/233M [00:01&lt;00:00, 156MB/s]"
          }
        },
        "51da28249b4340d3a869fe24beaf4e32": {
          "model_module": "@jupyter-widgets/base",
          "model_name": "LayoutModel",
          "model_module_version": "1.2.0",
          "state": {
            "_model_module": "@jupyter-widgets/base",
            "_model_module_version": "1.2.0",
            "_model_name": "LayoutModel",
            "_view_count": null,
            "_view_module": "@jupyter-widgets/base",
            "_view_module_version": "1.2.0",
            "_view_name": "LayoutView",
            "align_content": null,
            "align_items": null,
            "align_self": null,
            "border": null,
            "bottom": null,
            "display": null,
            "flex": null,
            "flex_flow": null,
            "grid_area": null,
            "grid_auto_columns": null,
            "grid_auto_flow": null,
            "grid_auto_rows": null,
            "grid_column": null,
            "grid_gap": null,
            "grid_row": null,
            "grid_template_areas": null,
            "grid_template_columns": null,
            "grid_template_rows": null,
            "height": null,
            "justify_content": null,
            "justify_items": null,
            "left": null,
            "margin": null,
            "max_height": null,
            "max_width": null,
            "min_height": null,
            "min_width": null,
            "object_fit": null,
            "object_position": null,
            "order": null,
            "overflow": null,
            "overflow_x": null,
            "overflow_y": null,
            "padding": null,
            "right": null,
            "top": null,
            "visibility": null,
            "width": null
          }
        },
        "e6406e9887e349e480a3f0f84a208db7": {
          "model_module": "@jupyter-widgets/base",
          "model_name": "LayoutModel",
          "model_module_version": "1.2.0",
          "state": {
            "_model_module": "@jupyter-widgets/base",
            "_model_module_version": "1.2.0",
            "_model_name": "LayoutModel",
            "_view_count": null,
            "_view_module": "@jupyter-widgets/base",
            "_view_module_version": "1.2.0",
            "_view_name": "LayoutView",
            "align_content": null,
            "align_items": null,
            "align_self": null,
            "border": null,
            "bottom": null,
            "display": null,
            "flex": null,
            "flex_flow": null,
            "grid_area": null,
            "grid_auto_columns": null,
            "grid_auto_flow": null,
            "grid_auto_rows": null,
            "grid_column": null,
            "grid_gap": null,
            "grid_row": null,
            "grid_template_areas": null,
            "grid_template_columns": null,
            "grid_template_rows": null,
            "height": null,
            "justify_content": null,
            "justify_items": null,
            "left": null,
            "margin": null,
            "max_height": null,
            "max_width": null,
            "min_height": null,
            "min_width": null,
            "object_fit": null,
            "object_position": null,
            "order": null,
            "overflow": null,
            "overflow_x": null,
            "overflow_y": null,
            "padding": null,
            "right": null,
            "top": null,
            "visibility": null,
            "width": null
          }
        },
        "d08d5e628ff246f4bec4a2dbf4568777": {
          "model_module": "@jupyter-widgets/controls",
          "model_name": "DescriptionStyleModel",
          "model_module_version": "1.5.0",
          "state": {
            "_model_module": "@jupyter-widgets/controls",
            "_model_module_version": "1.5.0",
            "_model_name": "DescriptionStyleModel",
            "_view_count": null,
            "_view_module": "@jupyter-widgets/base",
            "_view_module_version": "1.2.0",
            "_view_name": "StyleView",
            "description_width": ""
          }
        },
        "ee029a7c0c2e4fa9b327af6d31499e60": {
          "model_module": "@jupyter-widgets/base",
          "model_name": "LayoutModel",
          "model_module_version": "1.2.0",
          "state": {
            "_model_module": "@jupyter-widgets/base",
            "_model_module_version": "1.2.0",
            "_model_name": "LayoutModel",
            "_view_count": null,
            "_view_module": "@jupyter-widgets/base",
            "_view_module_version": "1.2.0",
            "_view_name": "LayoutView",
            "align_content": null,
            "align_items": null,
            "align_self": null,
            "border": null,
            "bottom": null,
            "display": null,
            "flex": null,
            "flex_flow": null,
            "grid_area": null,
            "grid_auto_columns": null,
            "grid_auto_flow": null,
            "grid_auto_rows": null,
            "grid_column": null,
            "grid_gap": null,
            "grid_row": null,
            "grid_template_areas": null,
            "grid_template_columns": null,
            "grid_template_rows": null,
            "height": null,
            "justify_content": null,
            "justify_items": null,
            "left": null,
            "margin": null,
            "max_height": null,
            "max_width": null,
            "min_height": null,
            "min_width": null,
            "object_fit": null,
            "object_position": null,
            "order": null,
            "overflow": null,
            "overflow_x": null,
            "overflow_y": null,
            "padding": null,
            "right": null,
            "top": null,
            "visibility": null,
            "width": null
          }
        },
        "02c7f11307a94476bc147b215c0c1d8e": {
          "model_module": "@jupyter-widgets/controls",
          "model_name": "ProgressStyleModel",
          "model_module_version": "1.5.0",
          "state": {
            "_model_module": "@jupyter-widgets/controls",
            "_model_module_version": "1.5.0",
            "_model_name": "ProgressStyleModel",
            "_view_count": null,
            "_view_module": "@jupyter-widgets/base",
            "_view_module_version": "1.2.0",
            "_view_name": "StyleView",
            "bar_color": null,
            "description_width": ""
          }
        },
        "e8a0f0fe4a0146b3b1e0e469f0eb9133": {
          "model_module": "@jupyter-widgets/base",
          "model_name": "LayoutModel",
          "model_module_version": "1.2.0",
          "state": {
            "_model_module": "@jupyter-widgets/base",
            "_model_module_version": "1.2.0",
            "_model_name": "LayoutModel",
            "_view_count": null,
            "_view_module": "@jupyter-widgets/base",
            "_view_module_version": "1.2.0",
            "_view_name": "LayoutView",
            "align_content": null,
            "align_items": null,
            "align_self": null,
            "border": null,
            "bottom": null,
            "display": null,
            "flex": null,
            "flex_flow": null,
            "grid_area": null,
            "grid_auto_columns": null,
            "grid_auto_flow": null,
            "grid_auto_rows": null,
            "grid_column": null,
            "grid_gap": null,
            "grid_row": null,
            "grid_template_areas": null,
            "grid_template_columns": null,
            "grid_template_rows": null,
            "height": null,
            "justify_content": null,
            "justify_items": null,
            "left": null,
            "margin": null,
            "max_height": null,
            "max_width": null,
            "min_height": null,
            "min_width": null,
            "object_fit": null,
            "object_position": null,
            "order": null,
            "overflow": null,
            "overflow_x": null,
            "overflow_y": null,
            "padding": null,
            "right": null,
            "top": null,
            "visibility": null,
            "width": null
          }
        },
        "e574d5eaea82458782705e3c4741d270": {
          "model_module": "@jupyter-widgets/controls",
          "model_name": "DescriptionStyleModel",
          "model_module_version": "1.5.0",
          "state": {
            "_model_module": "@jupyter-widgets/controls",
            "_model_module_version": "1.5.0",
            "_model_name": "DescriptionStyleModel",
            "_view_count": null,
            "_view_module": "@jupyter-widgets/base",
            "_view_module_version": "1.2.0",
            "_view_name": "StyleView",
            "description_width": ""
          }
        }
      }
    }
  },
  "nbformat": 4,
  "nbformat_minor": 0
}